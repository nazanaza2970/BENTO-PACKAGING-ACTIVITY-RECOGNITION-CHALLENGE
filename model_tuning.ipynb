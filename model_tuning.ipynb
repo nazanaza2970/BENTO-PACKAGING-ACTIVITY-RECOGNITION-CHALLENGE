{
 "cells": [
  {
   "cell_type": "code",
   "execution_count": 138,
   "source": [
    "import glob\r\n",
    "from datetime import datetime\r\n",
    "import os\r\n",
    "\r\n",
    "import numpy as np\r\n",
    "import pandas as pd\r\n",
    "from matplotlib import pyplot as plt\r\n",
    "import seaborn as sns\r\n",
    "from scipy import stats, signal\r\n",
    "from scipy.stats import mode\r\n",
    "from scipy.fft import fft\r\n",
    "from sklearn.ensemble import RandomForestClassifier as RFC, ExtraTreesClassifier as ETC\r\n",
    "from sklearn.model_selection import RepeatedStratifiedKFold, cross_val_score, StratifiedKFold, train_test_split\r\n",
    "from sklearn.metrics import accuracy_score, confusion_matrix\r\n",
    "from sklearn.preprocessing import MinMaxScaler\r\n",
    "\r\n",
    "\r\n",
    "import lightgbm as lgb\r\n",
    "import xgboost as xgb\r\n",
    "\r\n",
    "from tqdm import tqdm, trange"
   ],
   "outputs": [],
   "metadata": {}
  },
  {
   "cell_type": "markdown",
   "source": [
    "# Generic functions (usable for all test cases)"
   ],
   "metadata": {}
  },
  {
   "cell_type": "markdown",
   "source": [
    "## Core functions (Change path here)"
   ],
   "metadata": {}
  },
  {
   "cell_type": "code",
   "execution_count": 106,
   "source": [
    "def segmentation(df, overlap_rate, time_window):\r\n",
    "    seg_data = []\r\n",
    "    #convert overlap rate to step for sliding window\r\n",
    "    overlap = int((1 - overlap_rate)*time_window)\r\n",
    "    # interpolate\r\n",
    "    df = df.interpolate().ffill().fillna(0)\r\n",
    "    for i in range(0, len(df)-time_window+1, overlap):\r\n",
    "        seg_data.append(df.loc[i:i+time_window-1, :].copy().reset_index(drop=True))\r\n",
    "    return seg_data\r\n",
    "\r\n",
    "\r\n",
    "def rename_columns(df):\r\n",
    "    df.columns = [\r\n",
    "        \"FH_X\", \"FH_Y\", \"FH_Z\",     #1\r\n",
    "        \"TH_X\", \"TH_Y\", \"TH_Z\",     #2\r\n",
    "        \"RH_X\", \"RH_Y\", \"RH_Z\",     #3\r\n",
    "        \"RS_X\", \"RS_Y\", \"RS_Z\",     #4\r\n",
    "        \"RO_X\", \"RO_Y\", \"RO_Z\",     #5\r\n",
    "        \"RE_X\", \"RE_Y\", \"RE_Z\",     #6\r\n",
    "        \"RW_X\", \"RW_Y\", \"RW_Z\",     #7\r\n",
    "        \"LS_X\", \"LS_Y\", \"LS_Z\",     #8\r\n",
    "        \"LE_X\", \"LE_Y\", \"LE_Z\",     #9\r\n",
    "        \"LW_X\", \"LW_Y\", \"LW_Z\",     #10\r\n",
    "        \"RA_X\", \"RA_Y\", \"RA_Z\",     #11\r\n",
    "        \"LA_X\", \"LA_Y\", \"LA_Z\",     #12\r\n",
    "        \"VS_X\", \"VS_Y\", \"VS_Z\",     #13\r\n",
    "        \"subject_id\", \"activity\",   # Other columns\r\n",
    "    ]\r\n",
    "    return df\r\n",
    "\r\n",
    "\r\n",
    "def dataloader(overlap, window_size, verbose=True):\r\n",
    "    if verbose:\r\n",
    "        print(\"loading the data...\", end=\"\\t\")\r\n",
    "    data_list = []\r\n",
    "    file_lengths = {1: [], 2: [], 3: []}\r\n",
    "    ##### CHANGE PATH ######\r\n",
    "    files = tqdm(glob.glob(\"../TrainData/*/*/*.csv\")) if verbose else glob.glob(\"../TrainData/*/*/*.csv\")\r\n",
    "    ##### ##### ##### ######\r\n",
    "    for file in files:\r\n",
    "        tempdf = pd.read_csv(file)\r\n",
    "        tempdf = rename_columns(tempdf)\r\n",
    "        segmented_data = segmentation(tempdf, overlap, window_size)\r\n",
    "        if len(segmented_data)>0:\r\n",
    "            person = segmented_data[0].reset_index(drop=True).loc[0, \"subject_id\"]\r\n",
    "            file_lengths[person].append(len(segmented_data))   \r\n",
    "        data_list.extend(segmented_data)\r\n",
    "    return data_list, file_lengths\r\n",
    "\r\n",
    "\r\n",
    "def feature_extractor(data_list, verbose=True):\r\n",
    "    if verbose:\r\n",
    "        print(f\"extracting the features...\", end=\"  \")\r\n",
    "    X, y = {1:[], 2:[], 3:[]}, {1:[], 2:[], 3:[]}\r\n",
    "    num_range = trange(0,len(data_list)) if verbose else range(0,len(data_list))\r\n",
    "    for j in num_range:\r\n",
    "        #extract only xyz columns\r\n",
    "        person = data_list[j].loc[0, \"subject_id\"]\r\n",
    "        x_data = data_list[j].drop(columns=[\"subject_id\",\"activity\"])\r\n",
    "        X[person].append(get_features(x_data))\r\n",
    "        y[person].append(data_list[j].reset_index(drop=True).loc[0, \"activity\"])\r\n",
    "    return X, y\r\n",
    "\r\n",
    "\r\n",
    "def majority_voting(predictions, file_lengths):\r\n",
    "    filtered_predictions = []\r\n",
    "    index = 0\r\n",
    "    for length in file_lengths:\r\n",
    "        file_pred = predictions[index:index+length]\r\n",
    "        modes = mode(file_pred)\r\n",
    "        majority_choice = modes.mode[0]\r\n",
    "        filtered_predictions.extend([majority_choice]*length)\r\n",
    "        index += length\r\n",
    "    return filtered_predictions"
   ],
   "outputs": [],
   "metadata": {}
  },
  {
   "cell_type": "code",
   "execution_count": 139,
   "source": [
    "def get_processed_dataset(overlap_rate, window_size, verbose=True):\r\n",
    "    data_list, file_lengths = dataloader(overlap_rate, window_size, verbose=verbose)\r\n",
    "    stream_list = []\r\n",
    "    for df in data_list:\r\n",
    "        stream_list.append(get_streams(df))\r\n",
    "    X, y = feature_extractor(stream_list, verbose=verbose)\r\n",
    "    return X, y, file_lengths\r\n",
    "\r\n",
    "\r\n",
    "def model_evaluator(model, X, y, file_lengths, n_repeats=10, voting=True, verbose=True):\r\n",
    "    scores = []\r\n",
    "    num_range = trange(n_repeats) if verbose else range(n_repeats)\r\n",
    "    for _ in num_range:\r\n",
    "        for p1, p2, p3 in [(1,2,3), (2,3,1), (3,1,2)]:\r\n",
    "            X_test, y_test = X[p1], y[p1]\r\n",
    "            X_train = X[p2] + X[p3]\r\n",
    "            y_train = y[p2] + y[p3]\r\n",
    "            # print(f\"training model for person {p1}/3...\", end=\"\\t\")\r\n",
    "            model.fit(X_train, y_train)\r\n",
    "            pred = model.predict(X_test)\r\n",
    "            if voting:\r\n",
    "                filtered_pred = majority_voting(pred, file_lengths[p1])\r\n",
    "                scores.append(accuracy_score(y_test, filtered_pred))\r\n",
    "            else:\r\n",
    "                scores.append(accuracy_score(y_test, pred))\r\n",
    "    if verbose:\r\n",
    "        print(f\"Mean Score: {np.mean(scores)}\")\r\n",
    "        print(f\"Std Score: {np.std(scores)}\")\r\n",
    "        print(f\"Min Score: {np.min(scores)}\")\r\n",
    "        print(f\"Max Score: {np.max(scores)}\")\r\n",
    "    return scores\r\n",
    "\r\n",
    "\r\n",
    "def scaled_model_evaluator(model, X, y, file_lengths, n_repeats=10, voting=True, verbose=True):\r\n",
    "    scores = []\r\n",
    "    num_range = trange(n_repeats) if verbose else range(n_repeats)\r\n",
    "    for _ in num_range:\r\n",
    "        for p1, p2, p3 in [(1,2,3), (2,3,1), (3,1,2)]:\r\n",
    "            X_test, y_test = X[p1], y[p1]\r\n",
    "            X_train = X[p2] + X[p3]\r\n",
    "            y_train = y[p2] + y[p3]\r\n",
    "            scaler = MinMaxScaler()\r\n",
    "            X_train_scaled = scaler.fit_transform(X_train)\r\n",
    "            X_test_scaled = scaler.fit_transform(X_test)\r\n",
    "            # print(f\"training model for person {p1}/3...\", end=\"\\t\")\r\n",
    "            model.fit(X_train_scaled, y_train)\r\n",
    "            pred = model.predict(X_test_scaled)\r\n",
    "            if voting:\r\n",
    "                filtered_pred = majority_voting(pred, file_lengths[p1])\r\n",
    "                scores.append(accuracy_score(y_test, filtered_pred))\r\n",
    "            else:\r\n",
    "                scores.append(accuracy_score(y_test, pred))\r\n",
    "    if verbose:\r\n",
    "        print(f\"Mean Score: {np.mean(scores)}\")\r\n",
    "        print(f\"Std Score: {np.std(scores)}\")\r\n",
    "        print(f\"Min Score: {np.min(scores)}\")\r\n",
    "        print(f\"Max Score: {np.max(scores)}\")\r\n",
    "    return scores"
   ],
   "outputs": [],
   "metadata": {}
  },
  {
   "cell_type": "code",
   "execution_count": 108,
   "source": [
    "def LOOCV_train_evaluate(model, overlap_rate, window_size, voting=True, n_repeats=1, verbose=True):\r\n",
    "    scores = []\r\n",
    "    data_list, file_lengths = dataloader(overlap_rate, window_size, verbose=verbose)\r\n",
    "    stream_list = []\r\n",
    "    for df in data_list:\r\n",
    "        stream_list.append(get_streams(df))\r\n",
    "    X, y = feature_extractor(stream_list, verbose=verbose)\r\n",
    "    num_range = trange(n_repeats) if verbose else range(n_repeats)\r\n",
    "    for _ in num_range:\r\n",
    "        for p1, p2, p3 in [(1,2,3), (2,3,1), (3,1,2)]:\r\n",
    "            X_test, y_test = X[p1], y[p1]\r\n",
    "            X_train = X[p2] + X[p3]\r\n",
    "            y_train = y[p2] + y[p3]\r\n",
    "            # print(f\"training model for person {p1}/3...\", end=\"\\t\")\r\n",
    "            model.fit(X_train, y_train)\r\n",
    "            pred = model.predict(X_test)\r\n",
    "            if voting:\r\n",
    "                filtered_pred = majority_voting(pred, file_lengths[p1])\r\n",
    "                scores.append(accuracy_score(y_test, filtered_pred))\r\n",
    "            else:\r\n",
    "                scores.append(accuracy_score(y_test, pred))\r\n",
    "    if verbose:\r\n",
    "        print(f\"\\nMean Score: {np.mean(scores)}\")\r\n",
    "    return scores\r\n",
    "\r\n",
    "\r\n",
    "def GridSearch(parameters, csvpath = \"..\", filename=\"gridCV_results\", n_repeats=7, verbose=False, progress=True):\r\n",
    "    score_df = pd.DataFrame({\"model\": [], \"window_size\": [], \"overlap_rate\": [], \"n_repeats\":[], \r\n",
    "                            \"avg_score\": [], \"std_score\": [], \"scores\":[]})\r\n",
    "    models, window_sizes, overlap_rates = parameters[\"model\"], parameters[\"window_size\"], parameters[\"overlap_rate\"]\r\n",
    "    combinations = [(i,j,k) for i in models for j in window_sizes for k in overlap_rates]\r\n",
    "    if progress:\r\n",
    "        combinations = tqdm(combinations)\r\n",
    "    for combination in combinations:\r\n",
    "        model, window_size, overlap_rate = combination\r\n",
    "        scores = LOOCV_train_evaluate(model, overlap_rate, window_size, n_repeats=n_repeats, verbose=verbose)\r\n",
    "        score_df = score_df.append({\"model\": model.__str__(), \"window_size\": window_size, \r\n",
    "                    \"overlap_rate\": overlap_rate, \"n_repeats\": n_repeats, \"avg_score\": np.mean(scores),\r\n",
    "                    \"std_score\": np.array(scores).std(),\"scores\": scores}, ignore_index=True)\r\n",
    "    savepath = f\"{csvpath}/{filename}_{str(datetime.now())[:-7]}.csv\".replace(\":\", \".\")\r\n",
    "    score_df.to_csv(savepath, index=False)\r\n",
    "    print(f\"result exported to: {savepath}\")\r\n"
   ],
   "outputs": [],
   "metadata": {}
  },
  {
   "cell_type": "markdown",
   "source": [
    "## Stream Extractors"
   ],
   "metadata": {}
  },
  {
   "cell_type": "code",
   "execution_count": 109,
   "source": [
    "def get_speed_acc(x_data):\r\n",
    "    x_data = x_data.drop(columns=[\"activity\", \"subject_id\"])\r\n",
    "    speed = x_data.diff().fillna(0)\r\n",
    "    acc = speed.diff().fillna(0)\r\n",
    "    speed.columns = [f\"{col}_speed\" for col in speed.columns]\r\n",
    "    acc.columns = [f\"{col}_acc\" for col in acc.columns]\r\n",
    "    return speed, acc\r\n",
    "\r\n",
    "def get_speed_acc_jerk(x_data):\r\n",
    "    x_data = x_data.drop(columns=[\"activity\", \"subject_id\"])\r\n",
    "    speed = x_data.diff().fillna(0)\r\n",
    "    acc = speed.diff().fillna(0)\r\n",
    "    jerk = acc.diff().fillna(0)\r\n",
    "    speed.columns = [f\"{col}_speed\" for col in speed.columns]\r\n",
    "    acc.columns = [f\"{col}_acc\" for col in acc.columns]\r\n",
    "    jerk.columns = [f\"{col}_jerk\" for col in acc.columns]\r\n",
    "    return speed, acc, jerk"
   ],
   "outputs": [],
   "metadata": {}
  },
  {
   "cell_type": "code",
   "execution_count": 110,
   "source": [
    "def joint_distance(x_data, joint1, joint2):\r\n",
    "    \"\"\"\r\n",
    "    returns the distance between two joints. \r\n",
    "    \"\"\"\r\n",
    "    x1, y1, z1 = x_data[f\"{joint1}_X\"], x_data[f\"{joint1}_Y\"], x_data[f\"{joint1}_Z\"]\r\n",
    "    x2, y2, z2 = x_data[f\"{joint2}_X\"], x_data[f\"{joint2}_Y\"], x_data[f\"{joint2}_Z\"]\r\n",
    "    distance = np.sqrt((x2-x1)**2 + (y2-y1)**2 + (z2-z1)**2)\r\n",
    "    return distance\r\n",
    "\r\n",
    "def get_all_joint_distances(x_data):\r\n",
    "    \"\"\"\r\n",
    "    calculates all the necessary joint distances from the `x_data`, \r\n",
    "    adds columns to it and returns the modified `x_data`.\r\n",
    "    the two joints should not be essentially consecutive, \r\n",
    "    because the distance between two consecutive joints is always constant.\r\n",
    "    For example, distance between left_wrist and left_elbow is always constant.\r\n",
    "    \"\"\"\r\n",
    "    # joints\r\n",
    "    # Front head        ->  left shoulder       (1->8)\r\n",
    "    x_data[\"dist_FH_LS\"] = joint_distance(x_data, \"FH\", \"LS\")\r\n",
    "    # Front head        ->  right shoulder      (1->4)\r\n",
    "    x_data[\"dist_FH_RS\"] = joint_distance(x_data, \"FH\", \"RS\")\r\n",
    "    # left shoulder     ->  left wrist          (8->10)\r\n",
    "    x_data[\"dist_LS_LW\"] = joint_distance(x_data, \"LS\", \"LW\")\r\n",
    "    # right shoulder    ->  right wrist         (4->7)\r\n",
    "    x_data[\"dist_RS_RW\"] = joint_distance(x_data, \"RS\", \"RW\")\r\n",
    "    # v sacral          ->  left elbow          (13->9)\r\n",
    "    x_data[\"dist_VS_LE\"] = joint_distance(x_data, \"VS\", \"LE\")\r\n",
    "    # v sacral          ->  right elbow         (13->6)\r\n",
    "    x_data[\"dist_VS_RE\"] = joint_distance(x_data, \"VS\", \"RE\")\r\n",
    "    # v sacral          ->  left wrist          (13->10)\r\n",
    "    x_data[\"dist_VS_LW\"] = joint_distance(x_data, \"VS\", \"LW\")\r\n",
    "    # v sacral          ->  right wrist         (13->7)\r\n",
    "    x_data[\"dist_VS_RW\"] = joint_distance(x_data, \"VS\", \"RW\")\r\n",
    "    # v sacral          ->  rear head           (13->3)\r\n",
    "    x_data[\"dist_VS_RH\"] = joint_distance(x_data, \"VS\", \"RH\")\r\n",
    "    # v sacral          ->  top head            (13->2)\r\n",
    "    x_data[\"dist_VS_TH\"] = joint_distance(x_data, \"VS\", \"TH\")\r\n",
    "    # left wrist        ->  right wrist         (10->7)\r\n",
    "    x_data[\"dist_LW_RW\"] = joint_distance(x_data, \"LW\", \"RW\")\r\n",
    "    # left asis         ->  left wrist          (12->10)\r\n",
    "    x_data[\"dist_LA_LW\"] = joint_distance(x_data, \"LA\", \"LW\")\r\n",
    "    # right asis        ->  right wrist         (11->7)\r\n",
    "    x_data[\"dist_RA_RW\"] = joint_distance(x_data, \"RA\", \"RW\")\r\n",
    "    # left wrist        ->  top head            (10->2)\r\n",
    "    x_data[\"dist_LW_TH\"] = joint_distance(x_data, \"LW\", \"TH\")\r\n",
    "    # right wrist       ->  top head            (7->2)\r\n",
    "    x_data[\"dist_RW_TH\"] = joint_distance(x_data, \"RW\", \"TH\")\r\n",
    "    # top head          ->  left asis           (2->12)\r\n",
    "    x_data[\"dist_TH_LA\"] = joint_distance(x_data, \"TH\", \"LA\")\r\n",
    "    return x_data\r\n",
    "\r\n"
   ],
   "outputs": [],
   "metadata": {}
  },
  {
   "cell_type": "code",
   "execution_count": 111,
   "source": [
    "def joint_angle(x_data, joint1, joint2, joint3):\r\n",
    "    x1, y1, z1 = x_data[f\"{joint1}_X\"], x_data[f\"{joint1}_Y\"], x_data[f\"{joint1}_Z\"]\r\n",
    "    x2, y2, z2 = x_data[f\"{joint2}_X\"], x_data[f\"{joint2}_Y\"], x_data[f\"{joint2}_Z\"]\r\n",
    "    x3, y3, z3 = x_data[f\"{joint3}_X\"], x_data[f\"{joint3}_Y\"], x_data[f\"{joint3}_Z\"]\r\n",
    "    v1 = np.array([x2-x1, y2-y1, z2-z1]).T\r\n",
    "    v2 = np.array([x3-x2, y3-y2, z3-z2]).T\r\n",
    "    v1_unit = v1/np.expand_dims(np.linalg.norm(v1, axis=1), axis=1)\r\n",
    "    v2_unit = v2/np.expand_dims(np.linalg.norm(v2, axis=1), axis=1)\r\n",
    "    angle = np.arccos(np.sum(v1_unit*v2_unit, axis=1)) # dot multiplication\r\n",
    "    return angle\r\n",
    "\r\n",
    "def get_all_joint_angles(x_data):\r\n",
    "    # joints\r\n",
    "    # left shoulder     ->  left elbow      ->  left wrist      (8->9->10)\r\n",
    "    x_data[\"angle_LS_LE_LW\"] = joint_angle(x_data, \"LS\", \"LE\", \"LW\")\r\n",
    "    # right shoulder    ->  right elbow     ->  right wrist     (4->6->7)\r\n",
    "    x_data[\"angle_RS_RE_RW\"] = joint_angle(x_data, \"RS\", \"RE\", \"RW\")\r\n",
    "    # right shoulder    ->  left shoulder   ->  front head      (4->8->1)\r\n",
    "    x_data[\"angle_RS_LS_FH\"] = joint_angle(x_data, \"RS\", \"LS\", \"FH\")\r\n",
    "    # right shoulder    ->  left shoulder   ->  left elbow      (4->8->9)\r\n",
    "    x_data[\"angle_RS_LS_LE\"] = joint_angle(x_data, \"RS\", \"LS\", \"LE\")\r\n",
    "    # left shoulder     ->  right shoulder  ->  right elbow     (8->4->6)\r\n",
    "    x_data[\"angle_LS_RS_RE\"] = joint_angle(x_data, \"LS\", \"RS\", \"RE\")\r\n",
    "    # v sacral          ->  right offset    ->  rear head       (13->5->3)\r\n",
    "    x_data[\"angle_VS_RO_RH\"] = joint_angle(x_data, \"VS\", \"RO\", \"RH\")\r\n",
    "    # vsacral           ->  top head        ->  front head      (13->2->1)\r\n",
    "    x_data[\"angle_VS_TH_FH\"] = joint_angle(x_data, \"VS\", \"TH\", \"FH\")\r\n",
    "    # v sacral          ->  left shoulder   ->  left elbow      (13->8->9)\r\n",
    "    x_data[\"angle_VS_LS_LE\"] = joint_angle(x_data, \"VS\", \"LS\", \"LE\")\r\n",
    "    # v sacral          ->  right shoulder  ->  right elbow     (13->4->6)\r\n",
    "    x_data[\"angle_VS_RS_RE\"] = joint_angle(x_data, \"VS\", \"RS\", \"RE\")\r\n",
    "    # left asis         ->  left shoulder   ->  left elbow      (12->8->9)\r\n",
    "    x_data[\"angle_LA_LS_LE\"] = joint_angle(x_data, \"LA\", \"LS\", \"LE\")\r\n",
    "    # right asis        -> right shoulder   ->  right elbow     (11->4->6)\r\n",
    "    x_data[\"angle_RA_RS_RE\"] = joint_angle(x_data, \"RA\", \"RS\", \"RE\")\r\n",
    "    return x_data"
   ],
   "outputs": [],
   "metadata": {}
  },
  {
   "cell_type": "code",
   "execution_count": 112,
   "source": [
    "def get_all_joint_angles_red(x_data):\r\n",
    "    # joints\r\n",
    "    x_data[\"angle_LS_LE_LW\"] = joint_angle(x_data, \"LS\", \"LE\", \"LW\")\r\n",
    "    x_data[\"angle_RS_RE_RW\"] = joint_angle(x_data, \"RS\", \"RE\", \"RW\")\r\n",
    "    x_data[\"angle_RS_LS_LE\"] = joint_angle(x_data, \"RS\", \"LS\", \"LE\")\r\n",
    "    x_data[\"angle_LS_RS_RE\"] = joint_angle(x_data, \"LS\", \"RS\", \"RE\")\r\n",
    "    x_data[\"angle_VS_RO_RH\"] = joint_angle(x_data, \"VS\", \"RO\", \"RH\")\r\n",
    "    return x_data"
   ],
   "outputs": [],
   "metadata": {}
  },
  {
   "cell_type": "code",
   "execution_count": 113,
   "source": [
    "def get_all_joint_angles_diff_red(x_data):\r\n",
    "    # joints\r\n",
    "    x_data[\"ang_dif_LS_LE_LW\"] = np.nan_to_num(np.append(np.diff(joint_angle(x_data, \"LS\", \"LE\", \"LW\")), 0)).tolist()\r\n",
    "    x_data[\"ang_dif_RS_RE_RW\"] = np.nan_to_num(np.append(np.diff(joint_angle(x_data, \"RS\", \"RE\", \"RW\")), 0)).tolist()\r\n",
    "    x_data[\"ang_dif_RS_LS_LE\"] = np.nan_to_num(np.append(np.diff(joint_angle(x_data, \"RS\", \"LS\", \"LE\")), 0)).tolist()\r\n",
    "    x_data[\"ang_dif_LS_RS_RE\"] = np.nan_to_num(np.append(np.diff(joint_angle(x_data, \"LS\", \"RS\", \"RE\")), 0)).tolist()\r\n",
    "    x_data[\"ang_dif_VS_RO_RH\"] = np.nan_to_num(np.append(np.diff(joint_angle(x_data, \"VS\", \"RO\", \"RH\")), 0)).tolist()\r\n",
    "    return x_data"
   ],
   "outputs": [],
   "metadata": {}
  },
  {
   "cell_type": "code",
   "execution_count": 198,
   "source": [
    "def plane_angles(x_data, joint1, joint2):\r\n",
    "    x1, y1, z1 = x_data[f\"{joint1}_X\"], x_data[f\"{joint1}_Y\"], x_data[f\"{joint1}_Z\"]\r\n",
    "    x2, y2, z2 = x_data[f\"{joint2}_X\"], x_data[f\"{joint2}_Y\"], x_data[f\"{joint2}_Z\"]\r\n",
    "    v = np.array([x2-x1, y2-y1, z2-z1]).T\r\n",
    "    vx = np.array([1, 0, 0])\r\n",
    "    vy = np.array([0, 1, 0])\r\n",
    "    vz = np.array([0, 0, 1])\r\n",
    "    v_unit = v/np.expand_dims(np.linalg.norm(v, axis=1), axis=1)\r\n",
    "    angle_x = np.arccos(np.sum(v_unit*vx, axis=1)) \r\n",
    "    angle_y = np.arccos(np.sum(v_unit*vy, axis=1)) \r\n",
    "    angle_z = np.arccos(np.sum(v_unit*vz, axis=1)) \r\n",
    "    return angle_x, angle_y, angle_z\r\n",
    "\r\n",
    "def get_all_angles_with_plane(x_data):\r\n",
    "    # joints\r\n",
    "    # arm angles: left shoulder     ->  left elbow \r\n",
    "    x_data[\"angle_x_LS_LE\"], x_data[\"angle_y_LS_LE\"], x_data[\"angle_z_LS_LE\"] = plane_angles(x_data, \"LS\", \"LE\")\r\n",
    "    # forearm angles: left elbow    ->  left  wrist\r\n",
    "    x_data[\"angle_x_LE_LW\"], x_data[\"angle_y_LE_LW\"], x_data[\"angle_z_LE_LW\"] = plane_angles(x_data, \"LE\", \"LW\")\r\n",
    "    # arm angles: right shoulder    ->  right elbow \r\n",
    "    x_data[\"angle_x_RS_RE\"], x_data[\"angle_y_RS_RE\"], x_data[\"angle_z_RS_RE\"] = plane_angles(x_data, \"RS\", \"RE\")\r\n",
    "    # forearm angles: right elbow   ->  right  wrist\r\n",
    "    x_data[\"angle_x_RE_RW\"], x_data[\"angle_y_RE_RW\"], x_data[\"angle_z_RE_RW\"] = plane_angles(x_data, \"RE\", \"RW\")\r\n",
    "    # backbone angles: v sacral     ->  rear head\r\n",
    "    # x_data[\"angle_x_VS_RH\"], x_data[\"angle_y_VS_RH\"], x_data[\"angle_z_VS_RH\"] = plane_angles(x_data, \"VS\", \"RH\")\r\n",
    "    return x_data"
   ],
   "outputs": [],
   "metadata": {}
  },
  {
   "cell_type": "markdown",
   "source": [
    "# Pre-processed functions (add/remove streams/features here)"
   ],
   "metadata": {}
  },
  {
   "cell_type": "code",
   "execution_count": 115,
   "source": [
    "def current_best():\r\n",
    "    def get_streams(x_data):\r\n",
    "        speed, acc = get_speed_acc(x_data)\r\n",
    "        x_data = pd.concat([x_data, speed, acc], axis=1)\r\n",
    "        # speed, acc, jerk = get_speed_acc_jerk(x_data)\r\n",
    "        # x_data = pd.concat([x_data, speed, acc, jerk], axis=1)\r\n",
    "        x_data = get_all_joint_distances(x_data)\r\n",
    "        # x_data = get_all_joint_angles(x_data)\r\n",
    "        # x_data = get_all_angles_with_plane(x_data)\r\n",
    "        return x_data\r\n",
    "\r\n",
    "    def get_features(x_data):\r\n",
    "        features = []\r\n",
    "        cols = x_data.columns.tolist()\r\n",
    "        #Calculate features (STD, Average, Max, Min, Median, Variance) for each data columns X Y Z \r\n",
    "        for k in cols:\r\n",
    "            features.append(x_data[k].std(ddof=0))\r\n",
    "            # features.append(np.average(x_data[k]))\r\n",
    "            features.append(np.max(x_data[k]))\r\n",
    "            features.append(np.min(x_data[k]))\r\n",
    "            features.append(np.median(x_data[k]))        \r\n",
    "            # features.append(np.var(x_data[k]))\r\n",
    "            # fd = np.abs(fft(np.array(x_data[k])))**2\r\n",
    "            # features.append(stats.skew(fd))\r\n",
    "            # features.append(stats.kurtosis(fd))\r\n",
    "        return features\r\n",
    "    joint_names = ['FH', 'TH', 'RH', 'RS', 'RO', 'RE', 'RW', 'LS', 'LE', 'LW', 'RA', 'LA', 'VS']\r\n",
    "    pos_cols = [i+j for i in joint_names for j in [\"_X\", \"_Y\", \"_Z\"]]\r\n",
    "    speed_cols = [f\"{col}_speed\" for col in pos_cols]\r\n",
    "    acc_cols = [f\"{col}_acc\" for col in pos_cols]\r\n",
    "    distance_cols = ['dist_FH_LS', 'dist_FH_RS', 'dist_LS_LW', 'dist_RS_RW', 'dist_VS_LE', 'dist_VS_RE', \r\n",
    "        'dist_VS_LW', 'dist_VS_RW','dist_VS_RH', 'dist_VS_TH', 'dist_LW_RW', 'dist_LA_LW', 'dist_RA_RW', \r\n",
    "        'dist_LW_TH', 'dist_RW_TH', 'dist_TH_LA']\r\n",
    "    colnames = pos_cols + speed_cols + acc_cols + distance_cols\r\n",
    "    return get_streams, get_features, colnames"
   ],
   "outputs": [],
   "metadata": {}
  },
  {
   "cell_type": "code",
   "execution_count": 116,
   "source": [
    "def fd_features_remove_acc():\r\n",
    "    def get_streams(x_data):\r\n",
    "        speed, acc = get_speed_acc(x_data)\r\n",
    "        x_data = pd.concat([x_data, speed], axis=1)\r\n",
    "        # speed, acc, jerk = get_speed_acc_jerk(x_data)\r\n",
    "        # x_data = pd.concat([x_data, speed, acc, jerk], axis=1)\r\n",
    "        x_data = get_all_joint_distances(x_data)\r\n",
    "        # x_data = get_all_joint_angles(x_data)\r\n",
    "        # x_data = get_all_angles_with_plane(x_data)\r\n",
    "        return x_data\r\n",
    "\r\n",
    "    def get_features(x_data):\r\n",
    "        features = []\r\n",
    "        cols = x_data.columns.tolist()\r\n",
    "        #Calculate features (STD, Average, Max, Min, Median, Variance) for each data columns X Y Z \r\n",
    "        for k in cols:\r\n",
    "            features.append(x_data[k].std(ddof=0))\r\n",
    "            # features.append(np.average(x_data[k]))\r\n",
    "            features.append(np.max(x_data[k]))\r\n",
    "            features.append(np.min(x_data[k]))\r\n",
    "            features.append(np.median(x_data[k]))        \r\n",
    "            # features.append(np.var(x_data[k]))\r\n",
    "            fd = np.abs(fft(np.array(x_data[k])))**2\r\n",
    "            # features.append(stats.skew(fd))\r\n",
    "            # features.append(stats.kurtosis(fd))\r\n",
    "            features.append(np.median(fd))\r\n",
    "            features.append(np.min(fd))\r\n",
    "            features.append(np.max(fd))\r\n",
    "        return features\r\n",
    "    joint_names = ['FH', 'TH', 'RH', 'RS', 'RO', 'RE', 'RW', 'LS', 'LE', 'LW', 'RA', 'LA', 'VS']\r\n",
    "    pos_cols = [i+j for i in joint_names for j in [\"_X\", \"_Y\", \"_Z\"]]\r\n",
    "    speed_cols = [f\"{col}_speed\" for col in pos_cols]\r\n",
    "    # acc_cols = [f\"{col}_acc\" for col in pos_cols]\r\n",
    "    distance_cols = ['dist_FH_LS', 'dist_FH_RS', 'dist_LS_LW', 'dist_RS_RW', 'dist_VS_LE', 'dist_VS_RE', \r\n",
    "        'dist_VS_LW', 'dist_VS_RW','dist_VS_RH', 'dist_VS_TH', 'dist_LW_RW', 'dist_LA_LW', 'dist_RA_RW', \r\n",
    "        'dist_LW_TH', 'dist_RW_TH', 'dist_TH_LA']\r\n",
    "    colnames = pos_cols + speed_cols + distance_cols\r\n",
    "    return get_streams, get_features, colnames"
   ],
   "outputs": [],
   "metadata": {}
  },
  {
   "cell_type": "code",
   "execution_count": 117,
   "source": [
    "def remove_acc():\r\n",
    "    def get_streams(x_data):\r\n",
    "        speed, acc = get_speed_acc(x_data)\r\n",
    "        x_data = pd.concat([x_data, speed], axis=1)\r\n",
    "        x_data = get_all_joint_distances(x_data)\r\n",
    "        return x_data\r\n",
    "\r\n",
    "    def get_features(x_data):\r\n",
    "        features = []\r\n",
    "        cols = x_data.columns.tolist()\r\n",
    "        #Calculate features (STD, Average, Max, Min, Median, Variance) for each data columns X Y Z \r\n",
    "        for k in cols:\r\n",
    "            features.append(x_data[k].std(ddof=0))\r\n",
    "            # features.append(np.average(x_data[k]))\r\n",
    "            features.append(np.max(x_data[k]))\r\n",
    "            features.append(np.min(x_data[k]))\r\n",
    "            features.append(np.median(x_data[k]))        \r\n",
    "        return features\r\n",
    "    joint_names = ['FH', 'TH', 'RH', 'RS', 'RO', 'RE', 'RW', 'LS', 'LE', 'LW', 'RA', 'LA', 'VS']\r\n",
    "    pos_cols = [i+j for i in joint_names for j in [\"_X\", \"_Y\", \"_Z\"]]\r\n",
    "    speed_cols = [f\"{col}_speed\" for col in pos_cols]\r\n",
    "    # acc_cols = [f\"{col}_acc\" for col in pos_cols]\r\n",
    "    distance_cols = ['dist_FH_LS', 'dist_FH_RS', 'dist_LS_LW', 'dist_RS_RW', 'dist_VS_LE', 'dist_VS_RE', \r\n",
    "        'dist_VS_LW', 'dist_VS_RW','dist_VS_RH', 'dist_VS_TH', 'dist_LW_RW', 'dist_LA_LW', 'dist_RA_RW', \r\n",
    "        'dist_LW_TH', 'dist_RW_TH', 'dist_TH_LA']\r\n",
    "    colnames = pos_cols + speed_cols + distance_cols\r\n",
    "    return get_streams, get_features, colnames"
   ],
   "outputs": [],
   "metadata": {}
  },
  {
   "cell_type": "code",
   "execution_count": 118,
   "source": [
    "def angle_dif_red_remove_acc():\r\n",
    "    def get_streams(x_data):\r\n",
    "        speed, acc = get_speed_acc(x_data)\r\n",
    "        x_data = pd.concat([x_data, speed], axis=1)\r\n",
    "        x_data = get_all_joint_distances(x_data)\r\n",
    "        x_data = get_all_joint_angles_diff_red(x_data)\r\n",
    "        return x_data\r\n",
    "\r\n",
    "    def get_features(x_data):\r\n",
    "        features = []\r\n",
    "        cols = x_data.columns.tolist()\r\n",
    "        #Calculate features (STD, Average, Max, Min, Median, Variance) for each data columns X Y Z \r\n",
    "        for k in cols:\r\n",
    "            features.append(x_data[k].std(ddof=0))\r\n",
    "            # features.append(np.average(x_data[k]))\r\n",
    "            features.append(np.max(x_data[k]))\r\n",
    "            features.append(np.min(x_data[k]))\r\n",
    "            features.append(np.median(x_data[k]))        \r\n",
    "        return features\r\n",
    "    joint_names = ['FH', 'TH', 'RH', 'RS', 'RO', 'RE', 'RW', 'LS', 'LE', 'LW', 'RA', 'LA', 'VS']\r\n",
    "    pos_cols = [i+j for i in joint_names for j in [\"_X\", \"_Y\", \"_Z\"]]\r\n",
    "    speed_cols = [f\"{col}_speed\" for col in pos_cols]\r\n",
    "    # acc_cols = [f\"{col}_acc\" for col in pos_cols]\r\n",
    "    distance_cols = ['dist_FH_LS', 'dist_FH_RS', 'dist_LS_LW', 'dist_RS_RW', 'dist_VS_LE', 'dist_VS_RE', \r\n",
    "        'dist_VS_LW', 'dist_VS_RW','dist_VS_RH', 'dist_VS_TH', 'dist_LW_RW', 'dist_LA_LW', 'dist_RA_RW', \r\n",
    "        'dist_LW_TH', 'dist_RW_TH', 'dist_TH_LA']\r\n",
    "    angle_dif_cols = [\"LSLELW\", \"RSRERW\", \"RSLSLE\", \"LSRSRE\", \"VSRORH\"]\r\n",
    "    colnames = pos_cols + speed_cols + distance_cols + angle_dif_cols\r\n",
    "    return get_streams, get_features, colnames"
   ],
   "outputs": [],
   "metadata": {}
  },
  {
   "cell_type": "code",
   "execution_count": 119,
   "source": [
    "def angle_red_remove_acc():\r\n",
    "    def get_streams(x_data):\r\n",
    "        speed, acc = get_speed_acc(x_data)\r\n",
    "        x_data = pd.concat([x_data, speed], axis=1)\r\n",
    "        x_data = get_all_joint_distances(x_data)\r\n",
    "        x_data = get_all_joint_angles_diff_red(x_data)\r\n",
    "        return x_data\r\n",
    "\r\n",
    "    def get_features(x_data):\r\n",
    "        features = []\r\n",
    "        cols = x_data.columns.tolist()\r\n",
    "        #Calculate features (STD, Average, Max, Min, Median, Variance) for each data columns X Y Z \r\n",
    "        for k in cols:\r\n",
    "            features.append(x_data[k].std(ddof=0))\r\n",
    "            # features.append(np.average(x_data[k]))\r\n",
    "            features.append(np.max(x_data[k]))\r\n",
    "            features.append(np.min(x_data[k]))\r\n",
    "            features.append(np.median(x_data[k]))        \r\n",
    "        return features\r\n",
    "    joint_names = ['FH', 'TH', 'RH', 'RS', 'RO', 'RE', 'RW', 'LS', 'LE', 'LW', 'RA', 'LA', 'VS']\r\n",
    "    pos_cols = [i+j for i in joint_names for j in [\"_X\", \"_Y\", \"_Z\"]]\r\n",
    "    speed_cols = [f\"{col}_speed\" for col in pos_cols]\r\n",
    "    # acc_cols = [f\"{col}_acc\" for col in pos_cols]\r\n",
    "    distance_cols = ['dist_FH_LS', 'dist_FH_RS', 'dist_LS_LW', 'dist_RS_RW', 'dist_VS_LE', 'dist_VS_RE', \r\n",
    "        'dist_VS_LW', 'dist_VS_RW','dist_VS_RH', 'dist_VS_TH', 'dist_LW_RW', 'dist_LA_LW', 'dist_RA_RW', \r\n",
    "        'dist_LW_TH', 'dist_RW_TH', 'dist_TH_LA']\r\n",
    "    angle_dif_cols = [\"LSLELW\", \"RSRERW\", \"RSLSLE\", \"LSRSRE\", \"VSRORH\"]\r\n",
    "    colnames = pos_cols + speed_cols + distance_cols + angle_dif_cols\r\n",
    "    return get_streams, get_features, colnames"
   ],
   "outputs": [],
   "metadata": {}
  },
  {
   "cell_type": "code",
   "execution_count": 199,
   "source": [
    "def angle_red_plane_remove_acc():\r\n",
    "    def get_streams(x_data):\r\n",
    "        speed, acc = get_speed_acc(x_data)\r\n",
    "        x_data = pd.concat([x_data, speed], axis=1)\r\n",
    "        x_data = get_all_joint_distances(x_data)\r\n",
    "        x_data = get_all_joint_angles_diff_red(x_data)\r\n",
    "        x_data = get_all_angles_with_plane(x_data)\r\n",
    "        return x_data\r\n",
    "\r\n",
    "    def get_features(x_data):\r\n",
    "        features = []\r\n",
    "        cols = x_data.columns.tolist()\r\n",
    "        #Calculate features (STD, Average, Max, Min, Median, Variance) for each data columns X Y Z \r\n",
    "        for k in cols:\r\n",
    "            features.append(x_data[k].std(ddof=0))\r\n",
    "            # features.append(np.average(x_data[k]))\r\n",
    "            features.append(np.max(x_data[k]))\r\n",
    "            features.append(np.min(x_data[k]))\r\n",
    "            features.append(np.median(x_data[k]))        \r\n",
    "        return features\r\n",
    "    joint_names = ['FH', 'TH', 'RH', 'RS', 'RO', 'RE', 'RW', 'LS', 'LE', 'LW', 'RA', 'LA', 'VS']\r\n",
    "    pos_cols = [i+j for i in joint_names for j in [\"_X\", \"_Y\", \"_Z\"]]\r\n",
    "    speed_cols = [f\"{col}_speed\" for col in pos_cols]\r\n",
    "    # acc_cols = [f\"{col}_acc\" for col in pos_cols]\r\n",
    "    distance_cols = ['dist_FH_LS', 'dist_FH_RS', 'dist_LS_LW', 'dist_RS_RW', 'dist_VS_LE', 'dist_VS_RE', \r\n",
    "        'dist_VS_LW', 'dist_VS_RW','dist_VS_RH', 'dist_VS_TH', 'dist_LW_RW', 'dist_LA_LW', 'dist_RA_RW', \r\n",
    "        'dist_LW_TH', 'dist_RW_TH', 'dist_TH_LA']\r\n",
    "    angle_dif_cols = [\"LSLELW\", \"RSRERW\", \"RSLSLE\", \"LSRSRE\", \"VSRORH\"]\r\n",
    "    colnames = pos_cols + speed_cols + distance_cols + angle_dif_cols\r\n",
    "    return get_streams, get_features, colnames"
   ],
   "outputs": [],
   "metadata": {}
  },
  {
   "cell_type": "markdown",
   "source": [
    "# Random Forest"
   ],
   "metadata": {}
  },
  {
   "cell_type": "markdown",
   "source": [
    "## best model"
   ],
   "metadata": {}
  },
  {
   "cell_type": "code",
   "execution_count": 13,
   "source": [
    "get_streams, get_features, colnames = current_best()\r\n",
    "overlap_rate, window_size = 0.75, 3000\r\n",
    "X, y, file_lengths = get_processed_dataset(overlap_rate, window_size)"
   ],
   "outputs": [
    {
     "output_type": "stream",
     "name": "stdout",
     "text": [
      "loading the data...\t"
     ]
    },
    {
     "output_type": "stream",
     "name": "stderr",
     "text": [
      "100%|██████████| 151/151 [00:16<00:00,  9.00it/s]\n"
     ]
    },
    {
     "output_type": "stream",
     "name": "stdout",
     "text": [
      "extracting the features...  "
     ]
    },
    {
     "output_type": "stream",
     "name": "stderr",
     "text": [
      "100%|██████████| 736/736 [01:18<00:00,  9.43it/s]\n"
     ]
    }
   ],
   "metadata": {}
  },
  {
   "cell_type": "code",
   "execution_count": 40,
   "source": [
    "model = RFC(600, criterion=\"entropy\", n_jobs=-1)\r\n",
    "scores = model_evaluator(model, X, y, file_lengths, n_repeats=10, voting=True, verbose=True)\r\n"
   ],
   "outputs": [
    {
     "output_type": "stream",
     "name": "stderr",
     "text": [
      "100%|██████████| 10/10 [02:13<00:00, 13.34s/it]"
     ]
    },
    {
     "output_type": "stream",
     "name": "stdout",
     "text": [
      "Mean Score: 0.6996705457295657\n",
      "Std Score: 0.04504596375149795\n",
      "Min Score: 0.5903083700440529\n",
      "Max Score: 0.759075907590759\n"
     ]
    },
    {
     "output_type": "stream",
     "name": "stderr",
     "text": [
      "\n"
     ]
    }
   ],
   "metadata": {}
  },
  {
   "cell_type": "code",
   "execution_count": 43,
   "source": [
    "model = RFC(1200, criterion=\"gini\", max_depth=12, n_jobs=-1)\r\n",
    "scores = model_evaluator(model, X, y, file_lengths, n_repeats=10, voting=True, verbose=True)\r\n"
   ],
   "outputs": [
    {
     "output_type": "stream",
     "name": "stderr",
     "text": [
      "100%|██████████| 10/10 [02:05<00:00, 12.56s/it]"
     ]
    },
    {
     "output_type": "stream",
     "name": "stdout",
     "text": [
      "Mean Score: 0.715566886015833\n",
      "Std Score: 0.03187665295686838\n",
      "Min Score: 0.6343612334801763\n",
      "Max Score: 0.7961165048543689\n"
     ]
    },
    {
     "output_type": "stream",
     "name": "stderr",
     "text": [
      "\n"
     ]
    }
   ],
   "metadata": {}
  },
  {
   "cell_type": "code",
   "execution_count": 45,
   "source": [
    "model = RFC(1200, criterion=\"gini\", min_samples_split=6, n_jobs=-1)\r\n",
    "scores = model_evaluator(model, X, y, file_lengths, n_repeats=10, voting=True, verbose=True)\r\n"
   ],
   "outputs": [
    {
     "output_type": "stream",
     "name": "stderr",
     "text": [
      "100%|██████████| 10/10 [02:21<00:00, 14.17s/it]"
     ]
    },
    {
     "output_type": "stream",
     "name": "stdout",
     "text": [
      "Mean Score: 0.7183364356708543\n",
      "Std Score: 0.030369686801219008\n",
      "Min Score: 0.6563876651982379\n",
      "Max Score: 0.7572815533980582\n"
     ]
    },
    {
     "output_type": "stream",
     "name": "stderr",
     "text": [
      "\n"
     ]
    }
   ],
   "metadata": {}
  },
  {
   "cell_type": "markdown",
   "source": [
    "## without acc 4000"
   ],
   "metadata": {}
  },
  {
   "cell_type": "code",
   "execution_count": 187,
   "source": [
    "get_streams, get_features, colnames = remove_acc()\r\n",
    "overlap_rate, window_size = 0.8, 4000\r\n",
    "X, y, file_lengths = get_processed_dataset(overlap_rate, window_size)"
   ],
   "outputs": [
    {
     "output_type": "stream",
     "name": "stdout",
     "text": [
      "loading the data...\t"
     ]
    },
    {
     "output_type": "stream",
     "name": "stderr",
     "text": [
      "100%|██████████| 151/151 [00:16<00:00,  9.20it/s]\n"
     ]
    },
    {
     "output_type": "stream",
     "name": "stdout",
     "text": [
      "extracting the features...  "
     ]
    },
    {
     "output_type": "stream",
     "name": "stderr",
     "text": [
      "100%|██████████| 512/512 [00:51<00:00, 10.02it/s]\n"
     ]
    }
   ],
   "metadata": {}
  },
  {
   "cell_type": "code",
   "execution_count": 188,
   "source": [
    "model = RFC(2500, criterion=\"gini\", n_jobs=-1)\r\n",
    "scores = scaled_model_evaluator(model, X, y, file_lengths, n_repeats=10, voting=True, verbose=True)\r\n"
   ],
   "outputs": [
    {
     "output_type": "stream",
     "name": "stderr",
     "text": [
      "100%|██████████| 10/10 [04:10<00:00, 25.07s/it]"
     ]
    },
    {
     "output_type": "stream",
     "name": "stdout",
     "text": [
      "Mean Score: 0.7651586670998164\n",
      "Std Score: 0.018800900564073617\n",
      "Min Score: 0.7293233082706767\n",
      "Max Score: 0.7973856209150327\n"
     ]
    },
    {
     "output_type": "stream",
     "name": "stderr",
     "text": [
      "\n"
     ]
    }
   ],
   "metadata": {}
  },
  {
   "cell_type": "markdown",
   "source": [
    "## red angle remove acc 4000"
   ],
   "metadata": {}
  },
  {
   "cell_type": "code",
   "execution_count": 190,
   "source": [
    "get_streams, get_features, colnames = angle_red_remove_acc()\r\n",
    "overlap_rate, window_size = 0.8, 4000\r\n",
    "X, y, file_lengths = get_processed_dataset(overlap_rate, window_size)"
   ],
   "outputs": [
    {
     "output_type": "stream",
     "name": "stdout",
     "text": [
      "loading the data...\t"
     ]
    },
    {
     "output_type": "stream",
     "name": "stderr",
     "text": [
      "100%|██████████| 151/151 [00:16<00:00,  9.20it/s]\n"
     ]
    },
    {
     "output_type": "stream",
     "name": "stdout",
     "text": [
      "extracting the features...  "
     ]
    },
    {
     "output_type": "stream",
     "name": "stderr",
     "text": [
      "100%|██████████| 512/512 [00:53<00:00,  9.53it/s]\n"
     ]
    }
   ],
   "metadata": {}
  },
  {
   "cell_type": "code",
   "execution_count": 195,
   "source": [
    "model = RFC(3000, criterion=\"gini\", n_jobs=-1)\r\n",
    "scores = scaled_model_evaluator(model, X, y, file_lengths, n_repeats=10, voting=True, verbose=True)\r\n"
   ],
   "outputs": [
    {
     "output_type": "stream",
     "name": "stderr",
     "text": [
      "100%|██████████| 10/10 [04:49<00:00, 28.98s/it]"
     ]
    },
    {
     "output_type": "stream",
     "name": "stdout",
     "text": [
      "Mean Score: 0.7681095705890907\n",
      "Std Score: 0.0192402908854686\n",
      "Min Score: 0.7218045112781954\n",
      "Max Score: 0.8097345132743363\n"
     ]
    },
    {
     "output_type": "stream",
     "name": "stderr",
     "text": [
      "\n"
     ]
    }
   ],
   "metadata": {}
  },
  {
   "cell_type": "markdown",
   "source": [
    "## red angle plane rem acc 4000 0.8"
   ],
   "metadata": {}
  },
  {
   "cell_type": "code",
   "execution_count": 201,
   "source": [
    "get_streams, get_features, colnames = angle_red_plane_remove_acc()\r\n",
    "overlap_rate, window_size = 0.8, 4000\r\n",
    "X, y, file_lengths = get_processed_dataset(overlap_rate, window_size)"
   ],
   "outputs": [
    {
     "output_type": "stream",
     "name": "stdout",
     "text": [
      "loading the data...\t"
     ]
    },
    {
     "output_type": "stream",
     "name": "stderr",
     "text": [
      "100%|██████████| 151/151 [00:17<00:00,  8.41it/s]\n"
     ]
    },
    {
     "output_type": "stream",
     "name": "stdout",
     "text": [
      "extracting the features...  "
     ]
    },
    {
     "output_type": "stream",
     "name": "stderr",
     "text": [
      "100%|██████████| 512/512 [00:59<00:00,  8.56it/s]\n"
     ]
    }
   ],
   "metadata": {}
  },
  {
   "cell_type": "code",
   "execution_count": 202,
   "source": [
    "model = RFC(3000, criterion=\"gini\", n_jobs=-1)\r\n",
    "scores = scaled_model_evaluator(model, X, y, file_lengths, n_repeats=10, voting=True, verbose=True)\r\n"
   ],
   "outputs": [
    {
     "output_type": "stream",
     "name": "stderr",
     "text": [
      "100%|██████████| 10/10 [04:49<00:00, 28.96s/it]"
     ]
    },
    {
     "output_type": "stream",
     "name": "stdout",
     "text": [
      "Mean Score: 0.7602451672590581\n",
      "Std Score: 0.027535270208648363\n",
      "Min Score: 0.7035398230088495\n",
      "Max Score: 0.8104575163398693\n"
     ]
    },
    {
     "output_type": "stream",
     "name": "stderr",
     "text": [
      "\n"
     ]
    }
   ],
   "metadata": {}
  },
  {
   "cell_type": "code",
   "execution_count": 203,
   "source": [
    "model = RFC(2500, criterion=\"gini\", n_jobs=-1)\r\n",
    "scores = scaled_model_evaluator(model, X, y, file_lengths, n_repeats=10, voting=True, verbose=True)\r\n"
   ],
   "outputs": [
    {
     "output_type": "stream",
     "name": "stderr",
     "text": [
      "100%|██████████| 10/10 [04:13<00:00, 25.38s/it]"
     ]
    },
    {
     "output_type": "stream",
     "name": "stdout",
     "text": [
      "Mean Score: 0.7633096927639244\n",
      "Std Score: 0.032638468107656846\n",
      "Min Score: 0.6858407079646017\n",
      "Max Score: 0.8169934640522876\n"
     ]
    },
    {
     "output_type": "stream",
     "name": "stderr",
     "text": [
      "\n"
     ]
    }
   ],
   "metadata": {}
  },
  {
   "cell_type": "markdown",
   "source": [
    "# Extra trees scaled"
   ],
   "metadata": {}
  },
  {
   "cell_type": "markdown",
   "source": [
    "## Best model"
   ],
   "metadata": {}
  },
  {
   "cell_type": "code",
   "execution_count": 143,
   "source": [
    "get_streams, get_features, colnames = current_best()\r\n",
    "overlap_rate, window_size = 0.75, 3000\r\n",
    "X, y, file_lengths = get_processed_dataset(overlap_rate, window_size)\r\n",
    "ft_names = [i+j for i in colnames for j in [\"_std\", \"_max\", \"_min\", \"_med\"]]"
   ],
   "outputs": [
    {
     "output_type": "stream",
     "name": "stdout",
     "text": [
      "loading the data...\t"
     ]
    },
    {
     "output_type": "stream",
     "name": "stderr",
     "text": [
      "100%|██████████| 151/151 [00:12<00:00, 12.20it/s]\n"
     ]
    },
    {
     "output_type": "stream",
     "name": "stdout",
     "text": [
      "extracting the features...  "
     ]
    },
    {
     "output_type": "stream",
     "name": "stderr",
     "text": [
      "100%|██████████| 736/736 [01:43<00:00,  7.14it/s]\n"
     ]
    }
   ],
   "metadata": {}
  },
  {
   "cell_type": "code",
   "execution_count": 147,
   "source": [
    "model = ETC(1800, criterion=\"gini\", max_depth=12, n_jobs=-1)\r\n",
    "scores = scaled_model_evaluator(model, X, y, file_lengths, n_repeats=10, voting=True, verbose=True)"
   ],
   "outputs": [
    {
     "output_type": "stream",
     "name": "stderr",
     "text": [
      "100%|██████████| 10/10 [02:21<00:00, 14.16s/it]"
     ]
    },
    {
     "output_type": "stream",
     "name": "stdout",
     "text": [
      "Mean Score: 0.7222349872812865\n",
      "Std Score: 0.02946121690582047\n",
      "Min Score: 0.6747572815533981\n",
      "Max Score: 0.775330396475771\n"
     ]
    },
    {
     "output_type": "stream",
     "name": "stderr",
     "text": [
      "\n"
     ]
    }
   ],
   "metadata": {}
  },
  {
   "cell_type": "code",
   "execution_count": 148,
   "source": [
    "model = ETC(1200, criterion=\"gini\", n_jobs=-1)\r\n",
    "scores = scaled_model_evaluator(model, X, y, file_lengths, n_repeats=10, voting=True, verbose=True)"
   ],
   "outputs": [
    {
     "output_type": "stream",
     "name": "stderr",
     "text": [
      "100%|██████████| 10/10 [01:34<00:00,  9.41s/it]"
     ]
    },
    {
     "output_type": "stream",
     "name": "stdout",
     "text": [
      "Mean Score: 0.7216678173099377\n",
      "Std Score: 0.03830982793657475\n",
      "Min Score: 0.6553398058252428\n",
      "Max Score: 0.8105726872246696\n"
     ]
    },
    {
     "output_type": "stream",
     "name": "stderr",
     "text": [
      "\n"
     ]
    }
   ],
   "metadata": {}
  },
  {
   "cell_type": "code",
   "execution_count": null,
   "source": [
    "model = ETC(1800, criterion=\"gini\", n_jobs=-1)\r\n",
    "scores = scaled_model_evaluator(model, X, y, file_lengths, n_repeats=10, voting=True, verbose=True)"
   ],
   "outputs": [],
   "metadata": {}
  },
  {
   "cell_type": "markdown",
   "source": [
    "## remove acc"
   ],
   "metadata": {}
  },
  {
   "cell_type": "code",
   "execution_count": 150,
   "source": [
    "get_streams, get_features, colnames = remove_acc()\r\n",
    "overlap_rate, window_size = 0.75, 3000\r\n",
    "X, y, file_lengths = get_processed_dataset(overlap_rate, window_size)\r\n",
    "ft_names = [i+j for i in colnames for j in [\"_std\", \"_max\", \"_min\", \"_med\"]]"
   ],
   "outputs": [
    {
     "output_type": "stream",
     "name": "stdout",
     "text": [
      "loading the data...\t"
     ]
    },
    {
     "output_type": "stream",
     "name": "stderr",
     "text": [
      "100%|██████████| 151/151 [00:18<00:00,  8.17it/s]\n"
     ]
    },
    {
     "output_type": "stream",
     "name": "stdout",
     "text": [
      "extracting the features...  "
     ]
    },
    {
     "output_type": "stream",
     "name": "stderr",
     "text": [
      "100%|██████████| 736/736 [01:07<00:00, 10.84it/s]\n"
     ]
    }
   ],
   "metadata": {}
  },
  {
   "cell_type": "code",
   "execution_count": 151,
   "source": [
    "model = ETC(1200, criterion=\"gini\", n_jobs=-1)\r\n",
    "scores = scaled_model_evaluator(model, X, y, file_lengths, n_repeats=10, voting=True, verbose=True)"
   ],
   "outputs": [
    {
     "output_type": "stream",
     "name": "stderr",
     "text": [
      "100%|██████████| 10/10 [01:31<00:00,  9.17s/it]"
     ]
    },
    {
     "output_type": "stream",
     "name": "stdout",
     "text": [
      "Mean Score: 0.714327094357783\n",
      "Std Score: 0.05925819123792138\n",
      "Min Score: 0.6116504854368932\n",
      "Max Score: 0.8184818481848185\n"
     ]
    },
    {
     "output_type": "stream",
     "name": "stderr",
     "text": [
      "\n"
     ]
    }
   ],
   "metadata": {}
  },
  {
   "cell_type": "code",
   "execution_count": 153,
   "source": [
    "model = ETC(1200, criterion=\"entropy\", n_jobs=-1)\r\n",
    "scores = scaled_model_evaluator(model, X, y, file_lengths, n_repeats=10, voting=True, verbose=True)"
   ],
   "outputs": [
    {
     "output_type": "stream",
     "name": "stderr",
     "text": [
      "100%|██████████| 10/10 [01:35<00:00,  9.59s/it]"
     ]
    },
    {
     "output_type": "stream",
     "name": "stdout",
     "text": [
      "Mean Score: 0.7151073344792245\n",
      "Std Score: 0.04367069179714772\n",
      "Min Score: 0.6310679611650486\n",
      "Max Score: 0.7953795379537953\n"
     ]
    },
    {
     "output_type": "stream",
     "name": "stderr",
     "text": [
      "\n"
     ]
    }
   ],
   "metadata": {}
  },
  {
   "cell_type": "markdown",
   "source": [
    "## Remove acc 4000"
   ],
   "metadata": {}
  },
  {
   "cell_type": "code",
   "execution_count": 216,
   "source": [
    "get_streams, get_features, colnames = remove_acc()\r\n",
    "overlap_rate, window_size = 0.75, 4000\r\n",
    "X, y, file_lengths = get_processed_dataset(overlap_rate, window_size)\r\n",
    "ft_names = [i+j for i in colnames for j in [\"_std\", \"_max\", \"_min\", \"_med\"]]"
   ],
   "outputs": [
    {
     "output_type": "stream",
     "name": "stdout",
     "text": [
      "loading the data...\t"
     ]
    },
    {
     "output_type": "stream",
     "name": "stderr",
     "text": [
      "100%|██████████| 151/151 [00:12<00:00, 11.65it/s]\n"
     ]
    },
    {
     "output_type": "stream",
     "name": "stdout",
     "text": [
      "extracting the features...  "
     ]
    },
    {
     "output_type": "stream",
     "name": "stderr",
     "text": [
      "100%|██████████| 414/414 [00:37<00:00, 11.04it/s]\n"
     ]
    }
   ],
   "metadata": {}
  },
  {
   "cell_type": "code",
   "execution_count": 220,
   "source": [
    "model = ETC(2400, criterion=\"entropy\", max_depth=12, min_samples_split=4, n_jobs=-1)\r\n",
    "scores = scaled_model_evaluator(model, X, y, file_lengths, n_repeats=10, voting=True, verbose=True)"
   ],
   "outputs": [
    {
     "output_type": "stream",
     "name": "stderr",
     "text": [
      "100%|██████████| 10/10 [02:22<00:00, 14.28s/it]"
     ]
    },
    {
     "output_type": "stream",
     "name": "stdout",
     "text": [
      "Mean Score: 0.7586238257931741\n",
      "Std Score: 0.019685710936705278\n",
      "Min Score: 0.7265625\n",
      "Max Score: 0.7932960893854749\n"
     ]
    },
    {
     "output_type": "stream",
     "name": "stderr",
     "text": [
      "\n"
     ]
    }
   ],
   "metadata": {}
  },
  {
   "cell_type": "markdown",
   "source": [
    "## rem acc 4000 angle"
   ],
   "metadata": {}
  },
  {
   "cell_type": "code",
   "execution_count": 172,
   "source": [
    "get_streams, get_features, colnames = angle_red_remove_acc()\r\n",
    "overlap_rate, window_size = 0.75, 4000\r\n",
    "X, y, file_lengths = get_processed_dataset(overlap_rate, window_size)\r\n",
    "ft_names = [i+j for i in colnames for j in [\"_std\", \"_max\", \"_min\", \"_med\"]]"
   ],
   "outputs": [
    {
     "output_type": "stream",
     "name": "stdout",
     "text": [
      "loading the data...\t"
     ]
    },
    {
     "output_type": "stream",
     "name": "stderr",
     "text": [
      "100%|██████████| 151/151 [00:17<00:00,  8.87it/s]\n"
     ]
    },
    {
     "output_type": "stream",
     "name": "stdout",
     "text": [
      "extracting the features...  "
     ]
    },
    {
     "output_type": "stream",
     "name": "stderr",
     "text": [
      "100%|██████████| 414/414 [00:39<00:00, 10.49it/s]\n"
     ]
    }
   ],
   "metadata": {}
  },
  {
   "cell_type": "code",
   "execution_count": 176,
   "source": [
    "model = ETC(2500, criterion=\"entropy\", n_jobs=-1)\r\n",
    "scores = scaled_model_evaluator(model, X, y, file_lengths, n_repeats=10, voting=True, verbose=True)"
   ],
   "outputs": [
    {
     "output_type": "stream",
     "name": "stderr",
     "text": [
      "100%|██████████| 10/10 [02:42<00:00, 16.23s/it]"
     ]
    },
    {
     "output_type": "stream",
     "name": "stdout",
     "text": [
      "Mean Score: 0.747013237156059\n",
      "Std Score: 0.011785752453283359\n",
      "Min Score: 0.71875\n",
      "Max Score: 0.776536312849162\n"
     ]
    },
    {
     "output_type": "stream",
     "name": "stderr",
     "text": [
      "\n"
     ]
    }
   ],
   "metadata": {}
  },
  {
   "cell_type": "code",
   "execution_count": 179,
   "source": [
    "model = ETC(1800, criterion=\"gini\", n_jobs=-1)\r\n",
    "scores = scaled_model_evaluator(model, X, y, file_lengths, n_repeats=10, voting=True, verbose=True)"
   ],
   "outputs": [
    {
     "output_type": "stream",
     "name": "stderr",
     "text": [
      "100%|██████████| 10/10 [02:36<00:00, 15.61s/it]"
     ]
    },
    {
     "output_type": "stream",
     "name": "stdout",
     "text": [
      "Mean Score: 0.7527635330191963\n",
      "Std Score: 0.01854210964762528\n",
      "Min Score: 0.7265625\n",
      "Max Score: 0.796875\n"
     ]
    },
    {
     "output_type": "stream",
     "name": "stderr",
     "text": [
      "\n"
     ]
    }
   ],
   "metadata": {}
  },
  {
   "cell_type": "markdown",
   "source": [
    "## 4000 0.8 angles rem acc"
   ],
   "metadata": {}
  },
  {
   "cell_type": "code",
   "execution_count": 204,
   "source": [
    "get_streams, get_features, colnames = angle_red_remove_acc()\r\n",
    "overlap_rate, window_size = 0.8, 4000\r\n",
    "X, y, file_lengths = get_processed_dataset(overlap_rate, window_size)"
   ],
   "outputs": [
    {
     "output_type": "stream",
     "name": "stdout",
     "text": [
      "loading the data...\t"
     ]
    },
    {
     "output_type": "stream",
     "name": "stderr",
     "text": [
      "100%|██████████| 151/151 [00:17<00:00,  8.62it/s]\n"
     ]
    },
    {
     "output_type": "stream",
     "name": "stdout",
     "text": [
      "extracting the features...  "
     ]
    },
    {
     "output_type": "stream",
     "name": "stderr",
     "text": [
      "100%|██████████| 512/512 [00:47<00:00, 10.79it/s]\n"
     ]
    }
   ],
   "metadata": {}
  },
  {
   "cell_type": "code",
   "execution_count": 205,
   "source": [
    "model = ETC(1200, criterion=\"entropy\", max_depth=12, min_samples_split=4, n_jobs=-1)\r\n",
    "scores = scaled_model_evaluator(model, X, y, file_lengths, n_repeats=10, voting=True, verbose=True)"
   ],
   "outputs": [
    {
     "output_type": "stream",
     "name": "stderr",
     "text": [
      "100%|██████████| 10/10 [01:30<00:00,  9.06s/it]"
     ]
    },
    {
     "output_type": "stream",
     "name": "stdout",
     "text": [
      "Mean Score: 0.739185323769833\n",
      "Std Score: 0.02887023985396589\n",
      "Min Score: 0.6616541353383458\n",
      "Max Score: 0.7908496732026143\n"
     ]
    },
    {
     "output_type": "stream",
     "name": "stderr",
     "text": [
      "\n"
     ]
    }
   ],
   "metadata": {}
  },
  {
   "cell_type": "code",
   "execution_count": 197,
   "source": [
    "model = ETC(1800, criterion=\"entropy\", max_depth=12, min_samples_split=4, n_jobs=-1)\r\n",
    "scores = scaled_model_evaluator(model, X, y, file_lengths, n_repeats=10, voting=True, verbose=True)"
   ],
   "outputs": [
    {
     "output_type": "stream",
     "name": "stderr",
     "text": [
      "100%|██████████| 10/10 [02:04<00:00, 12.47s/it]"
     ]
    },
    {
     "output_type": "stream",
     "name": "stdout",
     "text": [
      "Mean Score: 0.7440033727096387\n",
      "Std Score: 0.025397728836219644\n",
      "Min Score: 0.6766917293233082\n",
      "Max Score: 0.7920353982300885\n"
     ]
    },
    {
     "output_type": "stream",
     "name": "stderr",
     "text": [
      "\n"
     ]
    }
   ],
   "metadata": {}
  },
  {
   "cell_type": "code",
   "execution_count": 206,
   "source": [
    "model = ETC(3000, criterion=\"entropy\", max_depth=12, min_samples_split=4, n_jobs=-1)\r\n",
    "scores = scaled_model_evaluator(model, X, y, file_lengths, n_repeats=10, voting=True, verbose=True)"
   ],
   "outputs": [
    {
     "output_type": "stream",
     "name": "stderr",
     "text": [
      "100%|██████████| 10/10 [03:21<00:00, 20.18s/it]"
     ]
    },
    {
     "output_type": "stream",
     "name": "stdout",
     "text": [
      "Mean Score: 0.7459716951004385\n",
      "Std Score: 0.020969127052732132\n",
      "Min Score: 0.6814159292035398\n",
      "Max Score: 0.7777777777777778\n"
     ]
    },
    {
     "output_type": "stream",
     "name": "stderr",
     "text": [
      "\n"
     ]
    }
   ],
   "metadata": {}
  },
  {
   "cell_type": "markdown",
   "source": [
    "## 0.8 4000 rm acc"
   ],
   "metadata": {}
  },
  {
   "cell_type": "code",
   "execution_count": 222,
   "source": [
    "get_streams, get_features, colnames = remove_acc()\r\n",
    "overlap_rate, window_size = 0.8, 4000\r\n",
    "X, y, file_lengths = get_processed_dataset(overlap_rate, window_size)"
   ],
   "outputs": [
    {
     "output_type": "stream",
     "name": "stdout",
     "text": [
      "loading the data...\t"
     ]
    },
    {
     "output_type": "stream",
     "name": "stderr",
     "text": [
      "100%|██████████| 151/151 [00:17<00:00,  8.47it/s]\n"
     ]
    },
    {
     "output_type": "stream",
     "name": "stdout",
     "text": [
      "extracting the features...  "
     ]
    },
    {
     "output_type": "stream",
     "name": "stderr",
     "text": [
      "100%|██████████| 512/512 [00:40<00:00, 12.77it/s]\n"
     ]
    }
   ],
   "metadata": {}
  },
  {
   "cell_type": "code",
   "execution_count": 209,
   "source": [
    "model = ETC(1200, criterion=\"entropy\", max_depth=12, min_samples_split=4, n_jobs=-1)\r\n",
    "scores = scaled_model_evaluator(model, X, y, file_lengths, n_repeats=10, voting=True, verbose=True)"
   ],
   "outputs": [
    {
     "output_type": "stream",
     "name": "stderr",
     "text": [
      "100%|██████████| 10/10 [01:21<00:00,  8.20s/it]"
     ]
    },
    {
     "output_type": "stream",
     "name": "stdout",
     "text": [
      "Mean Score: 0.7599630619727061\n",
      "Std Score: 0.02370172867833763\n",
      "Min Score: 0.706766917293233\n",
      "Max Score: 0.7908496732026143\n"
     ]
    },
    {
     "output_type": "stream",
     "name": "stderr",
     "text": [
      "\n"
     ]
    }
   ],
   "metadata": {}
  },
  {
   "cell_type": "code",
   "execution_count": 223,
   "source": [
    "model = ETC(1800, n_jobs=-1)\r\n",
    "scores = scaled_model_evaluator(model, X, y, file_lengths, n_repeats=10, voting=True, verbose=True)"
   ],
   "outputs": [
    {
     "output_type": "stream",
     "name": "stderr",
     "text": [
      "100%|██████████| 10/10 [01:56<00:00, 11.64s/it]"
     ]
    },
    {
     "output_type": "stream",
     "name": "stdout",
     "text": [
      "Mean Score: 0.7501498337781525\n",
      "Std Score: 0.03126528864376816\n",
      "Min Score: 0.6616541353383458\n",
      "Max Score: 0.8053097345132744\n"
     ]
    },
    {
     "output_type": "stream",
     "name": "stderr",
     "text": [
      "\n"
     ]
    }
   ],
   "metadata": {}
  },
  {
   "cell_type": "code",
   "execution_count": 224,
   "source": [
    "model = ETC(3000, n_jobs=-1)\r\n",
    "scores = scaled_model_evaluator(model, X, y, file_lengths, n_repeats=10, voting=True, verbose=True)"
   ],
   "outputs": [
    {
     "output_type": "stream",
     "name": "stderr",
     "text": [
      "100%|██████████| 10/10 [03:11<00:00, 19.18s/it]"
     ]
    },
    {
     "output_type": "stream",
     "name": "stdout",
     "text": [
      "Mean Score: 0.7538700415217582\n",
      "Std Score: 0.032389618106118324\n",
      "Min Score: 0.6992481203007519\n",
      "Max Score: 0.8053097345132744\n"
     ]
    },
    {
     "output_type": "stream",
     "name": "stderr",
     "text": [
      "\n"
     ]
    }
   ],
   "metadata": {}
  },
  {
   "cell_type": "markdown",
   "source": [
    "# Extra Trees"
   ],
   "metadata": {}
  },
  {
   "cell_type": "markdown",
   "source": [
    "## Best features"
   ],
   "metadata": {}
  },
  {
   "cell_type": "code",
   "execution_count": 22,
   "source": [
    "get_streams, get_features, colnames = current_best()\r\n",
    "overlap_rate, window_size = 0.75, 3000\r\n",
    "X, y, file_lengths = get_processed_dataset(overlap_rate, window_size)\r\n",
    "ft_names = [i+j for i in colnames for j in [\"_std\", \"_max\", \"_min\", \"_med\"]]"
   ],
   "outputs": [
    {
     "output_type": "stream",
     "name": "stdout",
     "text": [
      "loading the data...\t"
     ]
    },
    {
     "output_type": "stream",
     "name": "stderr",
     "text": [
      "100%|██████████| 151/151 [00:15<00:00,  9.80it/s]\n"
     ]
    },
    {
     "output_type": "stream",
     "name": "stdout",
     "text": [
      "extracting the features...  "
     ]
    },
    {
     "output_type": "stream",
     "name": "stderr",
     "text": [
      "100%|██████████| 736/736 [01:27<00:00,  8.40it/s]\n"
     ]
    }
   ],
   "metadata": {}
  },
  {
   "cell_type": "code",
   "execution_count": 60,
   "source": [
    "model = ETC(1800, criterion=\"gini\", max_depth=12, n_jobs=-1)\r\n",
    "scores = model_evaluator(model, X, y, file_lengths, n_repeats=10, voting=True, verbose=True)"
   ],
   "outputs": [
    {
     "output_type": "stream",
     "name": "stderr",
     "text": [
      "100%|██████████| 10/10 [02:20<00:00, 14.03s/it]"
     ]
    },
    {
     "output_type": "stream",
     "name": "stdout",
     "text": [
      "Mean Score: 0.7363534084472131\n",
      "Std Score: 0.034126056701583855\n",
      "Min Score: 0.6651982378854625\n",
      "Max Score: 0.8203883495145631\n"
     ]
    },
    {
     "output_type": "stream",
     "name": "stderr",
     "text": [
      "\n"
     ]
    }
   ],
   "metadata": {}
  },
  {
   "cell_type": "code",
   "execution_count": 72,
   "source": [
    "model = ETC(1800, criterion=\"gini\", max_depth=12, n_jobs=-1)\r\n",
    "scores = model_evaluator(model, X, y, file_lengths, n_repeats=10, voting=True, verbose=True)\r\n"
   ],
   "outputs": [
    {
     "output_type": "stream",
     "name": "stderr",
     "text": [
      "100%|██████████| 10/10 [02:11<00:00, 13.16s/it]"
     ]
    },
    {
     "output_type": "stream",
     "name": "stdout",
     "text": [
      "Mean Score: 0.7338456671893613\n",
      "Std Score: 0.03239559131793469\n",
      "Min Score: 0.6519823788546255\n",
      "Max Score: 0.8155339805825242\n"
     ]
    },
    {
     "output_type": "stream",
     "name": "stderr",
     "text": [
      "\n"
     ]
    }
   ],
   "metadata": {}
  },
  {
   "cell_type": "markdown",
   "source": [
    "## Added with freq_domains"
   ],
   "metadata": {}
  },
  {
   "cell_type": "code",
   "execution_count": 46,
   "source": [
    "get_streams, get_features, colnames = fd_features()\r\n",
    "overlap_rate, window_size = 0.75, 3000\r\n",
    "X, y, file_lengths = get_processed_dataset(overlap_rate, window_size)\r\n",
    "ft_names = [i+j for i in colnames for j in [\"_std\", \"_max\", \"_min\", \"_med\", \"_fmed\", \"_fmin\", \"_fmax\"]]"
   ],
   "outputs": [
    {
     "output_type": "stream",
     "name": "stdout",
     "text": [
      "loading the data...\t"
     ]
    },
    {
     "output_type": "stream",
     "name": "stderr",
     "text": [
      "100%|██████████| 151/151 [00:14<00:00, 10.54it/s]\n"
     ]
    },
    {
     "output_type": "stream",
     "name": "stdout",
     "text": [
      "extracting the features...  "
     ]
    },
    {
     "output_type": "stream",
     "name": "stderr",
     "text": [
      "100%|██████████| 736/736 [02:11<00:00,  5.60it/s]\n"
     ]
    }
   ],
   "metadata": {}
  },
  {
   "cell_type": "markdown",
   "source": [
    "## Added with freq_domains removing acc"
   ],
   "metadata": {}
  },
  {
   "cell_type": "code",
   "execution_count": 49,
   "source": [
    "get_streams, get_features, colnames = fd_features_remove_acc()\r\n",
    "overlap_rate, window_size = 0.75, 3000\r\n",
    "X, y, file_lengths = get_processed_dataset(overlap_rate, window_size)\r\n",
    "ft_names = [i+j for i in colnames for j in [\"_std\", \"_max\", \"_min\", \"_med\", \"_fmed\", \"_fmin\", \"_fmax\"]]"
   ],
   "outputs": [
    {
     "output_type": "stream",
     "name": "stdout",
     "text": [
      "loading the data...\t"
     ]
    },
    {
     "output_type": "stream",
     "name": "stderr",
     "text": [
      "100%|██████████| 151/151 [00:16<00:00,  9.19it/s]\n"
     ]
    },
    {
     "output_type": "stream",
     "name": "stdout",
     "text": [
      "extracting the features...  "
     ]
    },
    {
     "output_type": "stream",
     "name": "stderr",
     "text": [
      "100%|██████████| 736/736 [01:25<00:00,  8.64it/s]\n"
     ]
    }
   ],
   "metadata": {}
  },
  {
   "cell_type": "markdown",
   "source": [
    "## Remove acceleration"
   ],
   "metadata": {}
  },
  {
   "cell_type": "code",
   "execution_count": 54,
   "source": [
    "get_streams, get_features, colnames = remove_acc()\r\n",
    "overlap_rate, window_size = 0.75, 3000\r\n",
    "X, y, file_lengths = get_processed_dataset(overlap_rate, window_size)\r\n",
    "ft_names = [i+j for i in colnames for j in [\"_std\", \"_max\", \"_min\", \"_med\", \"_fmed\", \"_fmin\", \"_fmax\"]]"
   ],
   "outputs": [
    {
     "output_type": "stream",
     "name": "stdout",
     "text": [
      "loading the data...\t"
     ]
    },
    {
     "output_type": "stream",
     "name": "stderr",
     "text": [
      "100%|██████████| 151/151 [00:17<00:00,  8.53it/s]\n"
     ]
    },
    {
     "output_type": "stream",
     "name": "stdout",
     "text": [
      "extracting the features...  "
     ]
    },
    {
     "output_type": "stream",
     "name": "stderr",
     "text": [
      "100%|██████████| 736/736 [01:30<00:00,  8.15it/s]\n"
     ]
    }
   ],
   "metadata": {}
  },
  {
   "cell_type": "code",
   "execution_count": 55,
   "source": [
    "model = ETC(1800, criterion=\"gini\", max_depth=12, n_jobs=-1)\r\n",
    "scores = model_evaluator(model, X, y, file_lengths, n_repeats=10, voting=True, verbose=True)"
   ],
   "outputs": [
    {
     "output_type": "stream",
     "name": "stderr",
     "text": [
      "100%|██████████| 10/10 [02:44<00:00, 16.45s/it]"
     ]
    },
    {
     "output_type": "stream",
     "name": "stdout",
     "text": [
      "Mean Score: 0.7263858711263538\n",
      "Std Score: 0.03181834128798852\n",
      "Min Score: 0.6431718061674009\n",
      "Max Score: 0.7766990291262136\n"
     ]
    },
    {
     "output_type": "stream",
     "name": "stderr",
     "text": [
      "\n"
     ]
    }
   ],
   "metadata": {}
  },
  {
   "cell_type": "markdown",
   "source": [
    "## Removed acceleration on 4000"
   ],
   "metadata": {}
  },
  {
   "cell_type": "code",
   "execution_count": 140,
   "source": [
    "get_streams, get_features, colnames = remove_acc()\r\n",
    "overlap_rate, window_size = 0.75, 4000\r\n",
    "X, y, file_lengths = get_processed_dataset(overlap_rate, window_size)\r\n",
    "ft_names = [i+j for i in colnames for j in [\"_std\", \"_max\", \"_min\", \"_med\"]]"
   ],
   "outputs": [
    {
     "output_type": "stream",
     "name": "stdout",
     "text": [
      "loading the data...\t"
     ]
    },
    {
     "output_type": "stream",
     "name": "stderr",
     "text": [
      "100%|██████████| 151/151 [00:13<00:00, 11.17it/s]\n"
     ]
    },
    {
     "output_type": "stream",
     "name": "stdout",
     "text": [
      "extracting the features...  "
     ]
    },
    {
     "output_type": "stream",
     "name": "stderr",
     "text": [
      "100%|██████████| 414/414 [00:38<00:00, 10.78it/s]\n"
     ]
    }
   ],
   "metadata": {}
  },
  {
   "cell_type": "code",
   "execution_count": 142,
   "source": [
    "model = ETC(1000, criterion=\"entropy\", max_depth=12, min_samples_split=4, n_jobs=-1)\r\n",
    "scores = scaled_model_evaluator(model, X, y, file_lengths, n_repeats=10, voting=True, verbose=True)"
   ],
   "outputs": [
    {
     "output_type": "stream",
     "name": "stderr",
     "text": [
      "100%|██████████| 10/10 [01:08<00:00,  6.82s/it]"
     ]
    },
    {
     "output_type": "stream",
     "name": "stdout",
     "text": [
      "Mean Score: 0.7663454321777267\n",
      "Std Score: 0.022097172482057784\n",
      "Min Score: 0.7289719626168224\n",
      "Max Score: 0.8100558659217877\n"
     ]
    },
    {
     "output_type": "stream",
     "name": "stderr",
     "text": [
      "\n"
     ]
    }
   ],
   "metadata": {}
  },
  {
   "cell_type": "markdown",
   "source": [
    "## Angle diff"
   ],
   "metadata": {}
  },
  {
   "cell_type": "code",
   "execution_count": 95,
   "source": [
    "get_streams, get_features, colnames = angle_dif_red_remove_acc()\r\n",
    "overlap_rate, window_size = 0.75, 3000\r\n",
    "X, y, file_lengths = get_processed_dataset(overlap_rate, window_size)\r\n",
    "ft_names = [i+j for i in colnames for j in [\"_std\", \"_max\", \"_min\", \"_med\"]]"
   ],
   "outputs": [
    {
     "output_type": "stream",
     "name": "stdout",
     "text": [
      "loading the data...\t"
     ]
    },
    {
     "output_type": "stream",
     "name": "stderr",
     "text": [
      "100%|██████████| 151/151 [00:15<00:00,  9.62it/s]\n"
     ]
    },
    {
     "output_type": "stream",
     "name": "stdout",
     "text": [
      "extracting the features...  "
     ]
    },
    {
     "output_type": "stream",
     "name": "stderr",
     "text": [
      "100%|██████████| 736/736 [01:12<00:00, 10.15it/s]\n"
     ]
    }
   ],
   "metadata": {}
  },
  {
   "cell_type": "code",
   "execution_count": 98,
   "source": [
    "model = ETC(1200, criterion=\"gini\", n_jobs=-1)\r\n",
    "scores = model_evaluator(model, X, y, file_lengths, n_repeats=10, voting=True, verbose=True)"
   ],
   "outputs": [
    {
     "output_type": "stream",
     "name": "stderr",
     "text": [
      "100%|██████████| 10/10 [01:30<00:00,  9.02s/it]"
     ]
    },
    {
     "output_type": "stream",
     "name": "stdout",
     "text": [
      "Mean Score: 0.7077036543310461\n",
      "Std Score: 0.0443552874626517\n",
      "Min Score: 0.636963696369637\n",
      "Max Score: 0.8349514563106796\n"
     ]
    },
    {
     "output_type": "stream",
     "name": "stderr",
     "text": [
      "\n"
     ]
    }
   ],
   "metadata": {}
  },
  {
   "cell_type": "markdown",
   "source": [
    "## Reduced Angle"
   ],
   "metadata": {}
  },
  {
   "cell_type": "code",
   "execution_count": 99,
   "source": [
    "get_streams, get_features, colnames = angle_red_remove_acc()\r\n",
    "overlap_rate, window_size = 0.75, 3000\r\n",
    "X, y, file_lengths = get_processed_dataset(overlap_rate, window_size)\r\n",
    "ft_names = [i+j for i in colnames for j in [\"_std\", \"_max\", \"_min\", \"_med\"]]"
   ],
   "outputs": [
    {
     "output_type": "stream",
     "name": "stdout",
     "text": [
      "loading the data...\t"
     ]
    },
    {
     "output_type": "stream",
     "name": "stderr",
     "text": [
      "100%|██████████| 151/151 [00:17<00:00,  8.57it/s]\n"
     ]
    },
    {
     "output_type": "stream",
     "name": "stdout",
     "text": [
      "extracting the features...  "
     ]
    },
    {
     "output_type": "stream",
     "name": "stderr",
     "text": [
      "100%|██████████| 736/736 [01:03<00:00, 11.52it/s]\n"
     ]
    }
   ],
   "metadata": {}
  },
  {
   "cell_type": "code",
   "execution_count": 100,
   "source": [
    "model = ETC(1200, criterion=\"gini\", n_jobs=-1)\r\n",
    "scores = model_evaluator(model, X, y, file_lengths, n_repeats=10, voting=True, verbose=True)"
   ],
   "outputs": [
    {
     "output_type": "stream",
     "name": "stderr",
     "text": [
      "100%|██████████| 10/10 [01:19<00:00,  7.98s/it]"
     ]
    },
    {
     "output_type": "stream",
     "name": "stdout",
     "text": [
      "Mean Score: 0.7227601332478314\n",
      "Std Score: 0.03273561449235342\n",
      "Min Score: 0.6651982378854625\n",
      "Max Score: 0.7961165048543689\n"
     ]
    },
    {
     "output_type": "stream",
     "name": "stderr",
     "text": [
      "\n"
     ]
    }
   ],
   "metadata": {}
  },
  {
   "cell_type": "markdown",
   "source": [
    "## reduced angle with 4000"
   ],
   "metadata": {}
  },
  {
   "cell_type": "code",
   "execution_count": 120,
   "source": [
    "get_streams, get_features, colnames = angle_red_remove_acc()\r\n",
    "overlap_rate, window_size = 0.75, 4000\r\n",
    "X, y, file_lengths = get_processed_dataset(overlap_rate, window_size)\r\n",
    "ft_names = [i+j for i in colnames for j in [\"_std\", \"_max\", \"_min\", \"_med\"]]"
   ],
   "outputs": [
    {
     "output_type": "stream",
     "name": "stdout",
     "text": [
      "loading the data...\t"
     ]
    },
    {
     "output_type": "stream",
     "name": "stderr",
     "text": [
      "100%|██████████| 151/151 [00:17<00:00,  8.68it/s]\n"
     ]
    },
    {
     "output_type": "stream",
     "name": "stdout",
     "text": [
      "extracting the features...  "
     ]
    },
    {
     "output_type": "stream",
     "name": "stderr",
     "text": [
      "100%|██████████| 414/414 [00:40<00:00, 10.21it/s]\n"
     ]
    }
   ],
   "metadata": {}
  },
  {
   "cell_type": "code",
   "execution_count": 121,
   "source": [
    "model = ETC(1200, criterion=\"gini\", n_jobs=-1)\r\n",
    "scores = model_evaluator(model, X, y, file_lengths, n_repeats=10, voting=True, verbose=True)"
   ],
   "outputs": [
    {
     "output_type": "stream",
     "name": "stderr",
     "text": [
      "100%|██████████| 10/10 [01:16<00:00,  7.63s/it]"
     ]
    },
    {
     "output_type": "stream",
     "name": "stdout",
     "text": [
      "Mean Score: 0.7226717229894359\n",
      "Std Score: 0.043485224282813595\n",
      "Min Score: 0.6256983240223464\n",
      "Max Score: 0.8037383177570093\n"
     ]
    },
    {
     "output_type": "stream",
     "name": "stderr",
     "text": [
      "\n"
     ]
    }
   ],
   "metadata": {}
  },
  {
   "cell_type": "code",
   "execution_count": 122,
   "source": [
    "model = ETC(1200, criterion=\"gini\", max_depth=12, n_jobs=-1)\r\n",
    "scores = model_evaluator(model, X, y, file_lengths, n_repeats=10, voting=True, verbose=True)"
   ],
   "outputs": [
    {
     "output_type": "stream",
     "name": "stderr",
     "text": [
      "100%|██████████| 10/10 [01:40<00:00, 10.04s/it]"
     ]
    },
    {
     "output_type": "stream",
     "name": "stdout",
     "text": [
      "Mean Score: 0.7302105903774866\n",
      "Std Score: 0.04358039851075805\n",
      "Min Score: 0.6424581005586593\n",
      "Max Score: 0.8037383177570093\n"
     ]
    },
    {
     "output_type": "stream",
     "name": "stderr",
     "text": [
      "\n"
     ]
    }
   ],
   "metadata": {}
  },
  {
   "cell_type": "code",
   "execution_count": 123,
   "source": [
    "model = ETC(1800, criterion=\"gini\", max_depth=12, n_jobs=-1)\r\n",
    "scores = model_evaluator(model, X, y, file_lengths, n_repeats=10, voting=True, verbose=True)"
   ],
   "outputs": [
    {
     "output_type": "stream",
     "name": "stderr",
     "text": [
      "100%|██████████| 10/10 [01:48<00:00, 10.80s/it]"
     ]
    },
    {
     "output_type": "stream",
     "name": "stdout",
     "text": [
      "Mean Score: 0.7303827783724047\n",
      "Std Score: 0.054047754336271805\n",
      "Min Score: 0.6089385474860335\n",
      "Max Score: 0.822429906542056\n"
     ]
    },
    {
     "output_type": "stream",
     "name": "stderr",
     "text": [
      "\n"
     ]
    }
   ],
   "metadata": {}
  },
  {
   "cell_type": "code",
   "execution_count": 124,
   "source": [
    "model = ETC(1800, criterion=\"entropy\", max_depth=12, n_jobs=-1)\r\n",
    "scores = model_evaluator(model, X, y, file_lengths, n_repeats=10, voting=True, verbose=True)"
   ],
   "outputs": [
    {
     "output_type": "stream",
     "name": "stderr",
     "text": [
      "100%|██████████| 10/10 [02:00<00:00, 12.03s/it]"
     ]
    },
    {
     "output_type": "stream",
     "name": "stdout",
     "text": [
      "Mean Score: 0.74697367090012\n",
      "Std Score: 0.042196162762581736\n",
      "Min Score: 0.659217877094972\n",
      "Max Score: 0.8411214953271028\n"
     ]
    },
    {
     "output_type": "stream",
     "name": "stderr",
     "text": [
      "\n"
     ]
    }
   ],
   "metadata": {}
  },
  {
   "cell_type": "markdown",
   "source": [
    "### Use most used features"
   ],
   "metadata": {}
  },
  {
   "cell_type": "code",
   "execution_count": 126,
   "source": [
    "imps = dict(zip(ft_names, model.feature_importances_))\r\n",
    "to_be_removed = pd.Series(imps).sort_values().index.tolist()[:75]\r\n",
    "x = X.copy()\r\n",
    "for p in [1,2,3]:\r\n",
    "    x[p] = pd.DataFrame(np.array(x[p]), columns=ft_names)\r\n",
    "    x[p].drop(columns=to_be_removed, inplace=True)\r\n",
    "    x[p] = x[p].to_numpy().tolist()"
   ],
   "outputs": [],
   "metadata": {}
  },
  {
   "cell_type": "code",
   "execution_count": 127,
   "source": [
    "model = ETC(1800, criterion=\"entropy\", max_depth=12, n_jobs=-1)\r\n",
    "scores = model_evaluator(model, x, y, file_lengths, n_repeats=10, voting=True, verbose=True)"
   ],
   "outputs": [
    {
     "output_type": "stream",
     "name": "stderr",
     "text": [
      "100%|██████████| 10/10 [01:55<00:00, 11.58s/it]"
     ]
    },
    {
     "output_type": "stream",
     "name": "stdout",
     "text": [
      "Mean Score: 0.7406722483640509\n",
      "Std Score: 0.054585149636834224\n",
      "Min Score: 0.6424581005586593\n",
      "Max Score: 0.8411214953271028\n"
     ]
    },
    {
     "output_type": "stream",
     "name": "stderr",
     "text": [
      "\n"
     ]
    }
   ],
   "metadata": {}
  },
  {
   "cell_type": "code",
   "execution_count": 128,
   "source": [
    "with open(\"../imps_asc_angle.txt\", \"w\") as f:\r\n",
    "    for i in pd.Series(imps).sort_values().index.tolist():\r\n",
    "        f.write(f\"{i:15}\\t{imps[i]:15}\\n\")"
   ],
   "outputs": [],
   "metadata": {}
  },
  {
   "cell_type": "markdown",
   "source": [
    "## Scaling"
   ],
   "metadata": {}
  },
  {
   "cell_type": "code",
   "execution_count": 135,
   "source": [
    "from sklearn.feature_selection import SelectKBest, chi2, f_classif"
   ],
   "outputs": [],
   "metadata": {}
  },
  {
   "cell_type": "code",
   "execution_count": 136,
   "source": [
    "scaler = MinMaxScaler()\r\n",
    "x1, x2, x3 = (pd.DataFrame(np.array(X[1]), columns=ft_names), pd.DataFrame(np.array(X[1]), columns=ft_names),\r\n",
    "                pd.DataFrame(np.array(X[1]), columns=ft_names))\r\n",
    "x1_s, x2_s, x3_s = scaler.fit_transform(x1), scaler.fit_transform(x2), scaler.fit_transform(x3)"
   ],
   "outputs": [],
   "metadata": {}
  },
  {
   "cell_type": "code",
   "execution_count": null,
   "source": [],
   "outputs": [],
   "metadata": {}
  },
  {
   "cell_type": "code",
   "execution_count": 137,
   "source": [
    "X_new1 = SelectKBest(chi2, k=300).fit_transform(x1_s, y[1])\r\n",
    "X_new1\r\n"
   ],
   "outputs": [
    {
     "output_type": "execute_result",
     "data": {
      "text/plain": [
       "array([[0.34534345, 0.3952656 , 0.85010783, ..., 0.68758714, 0.49266375,\n",
       "        0.45503074],\n",
       "       [0.38008141, 0.43132629, 0.85010783, ..., 0.48473358, 0.53905819,\n",
       "        0.52659186],\n",
       "       [0.44142891, 0.26032106, 0.68330187, ..., 0.54343649, 0.378253  ,\n",
       "        0.58687637],\n",
       "       ...,\n",
       "       [0.51794793, 0.94938277, 0.52531692, ..., 0.35204278, 0.13660854,\n",
       "        0.59818058],\n",
       "       [0.64164088, 0.94938277, 0.52531692, ..., 0.20910316, 0.03892861,\n",
       "        0.73799182],\n",
       "       [0.67474155, 0.94938277, 0.43475207, ..., 0.31411485, 0.072492  ,\n",
       "        0.63367407]])"
      ]
     },
     "metadata": {},
     "execution_count": 137
    }
   ],
   "metadata": {}
  },
  {
   "cell_type": "code",
   "execution_count": null,
   "source": [],
   "outputs": [],
   "metadata": {}
  },
  {
   "cell_type": "markdown",
   "source": [
    "## get importances"
   ],
   "metadata": {}
  },
  {
   "cell_type": "code",
   "execution_count": 74,
   "source": [
    "imps = dict(zip(ft_names, model.feature_importances_))"
   ],
   "outputs": [],
   "metadata": {}
  },
  {
   "cell_type": "code",
   "execution_count": 84,
   "source": [
    "with open(\"../imps_asc.txt\", \"w\") as f:\r\n",
    "    for i in pd.Series(imps).sort_values().index.tolist():\r\n",
    "        f.write(f\"{i:15}\\t{imps[i]:15}\\n\")"
   ],
   "outputs": [],
   "metadata": {}
  },
  {
   "cell_type": "code",
   "execution_count": 99,
   "source": [
    "x = X.copy()\r\n",
    "for p in [1,2,3]:\r\n",
    "    x[p] = pd.DataFrame(np.array(x[p]), columns=ft_names)\r\n",
    "    x[p].drop(columns=to_be_removed, inplace=True)\r\n",
    "    x[p] = x[p].to_numpy().tolist()\r\n",
    "to_be_removed = pd.Series(imps).sort_values().index.tolist()[:75]\r\n"
   ],
   "outputs": [],
   "metadata": {}
  },
  {
   "cell_type": "code",
   "execution_count": 100,
   "source": [
    "model = ETC(1800, criterion=\"gini\", max_depth=12, n_jobs=-1)\r\n",
    "scores = model_evaluator(model, x, y, file_lengths, n_repeats=10, voting=True, verbose=True)\r\n"
   ],
   "outputs": [
    {
     "output_type": "stream",
     "name": "stderr",
     "text": [
      "100%|██████████| 10/10 [02:03<00:00, 12.31s/it]"
     ]
    },
    {
     "output_type": "stream",
     "name": "stdout",
     "text": [
      "Mean Score: 0.7265674497392854\n",
      "Std Score: 0.026565626386254284\n",
      "Min Score: 0.6696035242290749\n",
      "Max Score: 0.7766990291262136\n"
     ]
    },
    {
     "output_type": "stream",
     "name": "stderr",
     "text": [
      "\n"
     ]
    }
   ],
   "metadata": {}
  },
  {
   "cell_type": "code",
   "execution_count": 101,
   "source": [
    "model = ETC(1800, criterion=\"gini\", max_depth=12, n_jobs=-1)\r\n",
    "scores = model_evaluator(model, X, y, file_lengths, n_repeats=10, voting=True, verbose=True)\r\n"
   ],
   "outputs": [
    {
     "output_type": "stream",
     "name": "stderr",
     "text": [
      "100%|██████████| 10/10 [02:11<00:00, 13.11s/it]"
     ]
    },
    {
     "output_type": "stream",
     "name": "stdout",
     "text": [
      "Mean Score: 0.7288466079831541\n",
      "Std Score: 0.030193467747322445\n",
      "Min Score: 0.6475770925110133\n",
      "Max Score: 0.8106796116504854\n"
     ]
    },
    {
     "output_type": "stream",
     "name": "stderr",
     "text": [
      "\n"
     ]
    }
   ],
   "metadata": {}
  },
  {
   "cell_type": "code",
   "execution_count": null,
   "source": [
    "start, end = 0, 100\r\n",
    "plt.figure(figsize=(20,5));\r\n",
    "plt.bar(list(imps.keys())[start:end], list(imps.values())[start:end]);\r\n",
    "plt.xticks(rotation=90);"
   ],
   "outputs": [],
   "metadata": {}
  },
  {
   "cell_type": "markdown",
   "source": [
    "# LightGBM"
   ],
   "metadata": {}
  },
  {
   "cell_type": "code",
   "execution_count": 11,
   "source": [
    "def lgbm_evaluator(model, X, y, file_lengths, n_repeats=10, voting=True, verbose=True):\r\n",
    "    scores = []\r\n",
    "    num_range = trange(n_repeats) if verbose else range(n_repeats)\r\n",
    "    for _ in num_range:\r\n",
    "        for p1, p2, p3 in [(1,2,3), (2,3,1), (3,1,2)]:\r\n",
    "            X_test, y_test = X[p1], y[p1]\r\n",
    "            X_train = X[p2] + X[p3]\r\n",
    "            y_train = y[p2] + y[p3]\r\n",
    "            X_train, X_test = np.array(X_train), np.array(X_test)\r\n",
    "            y_train, y_test = np.array(y_train), np.array(y_test)\r\n",
    "            # train_data = lgb.Dataset(X_train, label=y_train, feature_name=ft_names)\r\n",
    "            # test_data = lgb.Dataset(X_test, label=y_test, feature_name=ft_names)\r\n",
    "            model.fit(X_train, y_train)\r\n",
    "            pred = model.predict(X_test)\r\n",
    "            if voting:\r\n",
    "                filtered_pred = majority_voting(pred, file_lengths[p1])\r\n",
    "                scores.append(accuracy_score(y_test, filtered_pred))\r\n",
    "            else:\r\n",
    "                scores.append(accuracy_score(y_test, pred))\r\n",
    "    if verbose:\r\n",
    "        print(f\"Mean Score: {np.mean(scores)}\")\r\n",
    "        print(f\"Std Score: {np.std(scores)}\")\r\n",
    "        print(f\"Min Score: {np.min(scores)}\")\r\n",
    "        print(f\"Max Score: {np.max(scores)}\")\r\n",
    "    return scores"
   ],
   "outputs": [],
   "metadata": {}
  },
  {
   "cell_type": "code",
   "execution_count": 14,
   "source": [
    "get_streams, get_features, colnames = current_best()\r\n",
    "ft_names = [i+j for i in colnames for j in [\"_std\", \"_max\", \"_min\", \"_med\"]]\r\n",
    "overlap_rate, window_size = 0.75, 3000\r\n",
    "X, y, file_lengths = get_processed_dataset(overlap_rate, window_size)"
   ],
   "outputs": [
    {
     "output_type": "stream",
     "name": "stdout",
     "text": [
      "loading the data...\t"
     ]
    },
    {
     "output_type": "stream",
     "name": "stderr",
     "text": [
      "100%|██████████| 151/151 [00:17<00:00,  8.65it/s]\n"
     ]
    },
    {
     "output_type": "stream",
     "name": "stdout",
     "text": [
      "extracting the features...  "
     ]
    },
    {
     "output_type": "stream",
     "name": "stderr",
     "text": [
      "100%|██████████| 736/736 [01:29<00:00,  8.18it/s]\n"
     ]
    }
   ],
   "metadata": {}
  },
  {
   "cell_type": "code",
   "execution_count": 104,
   "source": [
    "model = lgb.LGBMClassifier(n_estimators=600, n_jobs=-1)\r\n",
    "scores = lgbm_evaluator(model, X, y, file_lengths, n_repeats=10, voting=True, verbose=True)"
   ],
   "outputs": [
    {
     "output_type": "stream",
     "name": "stderr",
     "text": [
      "100%|██████████| 10/10 [05:20<00:00, 32.04s/it]"
     ]
    },
    {
     "output_type": "stream",
     "name": "stdout",
     "text": [
      "Mean Score: 0.6370220636964683\n",
      "Std Score: 0.06150786171117007\n",
      "Min Score: 0.5814977973568282\n",
      "Max Score: 0.7227722772277227\n"
     ]
    },
    {
     "output_type": "stream",
     "name": "stderr",
     "text": [
      "\n"
     ]
    }
   ],
   "metadata": {}
  },
  {
   "cell_type": "code",
   "execution_count": 107,
   "source": [
    "for num_leaves in [45, 20]:\r\n",
    "    print(\"num_leaves: \", num_leaves)\r\n",
    "    model = lgb.LGBMClassifier(n_estimators=100, n_jobs=-1, objective=\"multiclass\", num_leaves=num_leaves)\r\n",
    "    scores = lgbm_evaluator(model, X, y, file_lengths, ft_names, n_repeats=10, voting=True, verbose=True)"
   ],
   "outputs": [
    {
     "output_type": "stream",
     "name": "stdout",
     "text": [
      "num_leaves:  45\n"
     ]
    },
    {
     "output_type": "stream",
     "name": "stderr",
     "text": [
      "100%|██████████| 10/10 [03:54<00:00, 23.41s/it]\n"
     ]
    },
    {
     "output_type": "stream",
     "name": "stdout",
     "text": [
      "Mean Score: 0.6351950087442771\n",
      "Std Score: 0.04569828538378031\n",
      "Min Score: 0.5991189427312775\n",
      "Max Score: 0.6996699669966997\n",
      "num_leaves:  20\n"
     ]
    },
    {
     "output_type": "stream",
     "name": "stderr",
     "text": [
      "100%|██████████| 10/10 [03:52<00:00, 23.21s/it]"
     ]
    },
    {
     "output_type": "stream",
     "name": "stdout",
     "text": [
      "Mean Score: 0.5871531466905726\n",
      "Std Score: 0.046134842274195266\n",
      "Min Score: 0.5242718446601942\n",
      "Max Score: 0.6336633663366337\n"
     ]
    },
    {
     "output_type": "stream",
     "name": "stderr",
     "text": [
      "\n"
     ]
    }
   ],
   "metadata": {}
  },
  {
   "cell_type": "code",
   "execution_count": 16,
   "source": [
    "for trees in [1000, 1500, 2000]:\r\n",
    "    print(\"trees: \", trees)\r\n",
    "    model = lgb.LGBMClassifier(n_estimators=trees, n_jobs=-1, objective=\"multiclass\")\r\n",
    "    scores = lgbm_evaluator(model, X, y, file_lengths, n_repeats=10, voting=True, verbose=True)"
   ],
   "outputs": [
    {
     "output_type": "stream",
     "name": "stdout",
     "text": [
      "trees:  1000\n"
     ]
    },
    {
     "output_type": "stream",
     "name": "stderr",
     "text": [
      "100%|██████████| 10/10 [06:27<00:00, 38.75s/it]\n"
     ]
    },
    {
     "output_type": "stream",
     "name": "stdout",
     "text": [
      "Mean Score: 0.6370220636964683\n",
      "Std Score: 0.06150786171117007\n",
      "Min Score: 0.5814977973568282\n",
      "Max Score: 0.7227722772277227\n",
      "trees:  1500\n"
     ]
    },
    {
     "output_type": "stream",
     "name": "stderr",
     "text": [
      "100%|██████████| 10/10 [06:55<00:00, 41.53s/it]\n"
     ]
    },
    {
     "output_type": "stream",
     "name": "stdout",
     "text": [
      "Mean Score: 0.6370220636964683\n",
      "Std Score: 0.06150786171117007\n",
      "Min Score: 0.5814977973568282\n",
      "Max Score: 0.7227722772277227\n",
      "trees:  2000\n"
     ]
    },
    {
     "output_type": "stream",
     "name": "stderr",
     "text": [
      "100%|██████████| 10/10 [11:25<00:00, 68.60s/it]"
     ]
    },
    {
     "output_type": "stream",
     "name": "stdout",
     "text": [
      "Mean Score: 0.6370220636964683\n",
      "Std Score: 0.06150786171117007\n",
      "Min Score: 0.5814977973568282\n",
      "Max Score: 0.7227722772277227\n"
     ]
    },
    {
     "output_type": "stream",
     "name": "stderr",
     "text": [
      "\n"
     ]
    }
   ],
   "metadata": {}
  },
  {
   "cell_type": "code",
   "execution_count": null,
   "source": [
    "for boosting  in [\"dart\", \"goss\", \"rf\"]:\r\n",
    "    print(\"boosting: \", boosting)\r\n",
    "    model = lgb.LGBMClassifier(n_estimators=trees, n_jobs=-1, objective=\"multiclass\", boosting=boosting)\r\n",
    "    scores = lgbm_evaluator(model, X, y, file_lengths, n_repeats=10, voting=True, verbose=True)"
   ],
   "outputs": [],
   "metadata": {}
  },
  {
   "cell_type": "code",
   "execution_count": null,
   "source": [
    "for max_depth in [8, 12, 25]:\r\n",
    "    print(\"max_depth: \", max_depth)\r\n",
    "    model = lgb.LGBMClassifier(n_estimators=trees, n_jobs=-1, objective=\"multiclass\", max_depth=max_depth)\r\n",
    "    scores = lgbm_evaluator(model, X, y, file_lengths, n_repeats=10, voting=True, verbose=True)\r\n"
   ],
   "outputs": [],
   "metadata": {}
  },
  {
   "cell_type": "code",
   "execution_count": null,
   "source": [
    "for learning_rate in [0.05, 0.3]:\r\n",
    "    print(\"learning_rate: \", learning_rate)\r\n",
    "    model = lgb.LGBMClassifier(n_estimators=trees, n_jobs=-1, objective=\"multiclass\", learning_rate=learning_rate)\r\n",
    "    scores = lgbm_evaluator(model, X, y, file_lengths, n_repeats=10, voting=True, verbose=True)\r\n"
   ],
   "outputs": [],
   "metadata": {}
  },
  {
   "cell_type": "code",
   "execution_count": null,
   "source": [
    "for reg_alpha in [0.1, 0.3]:\r\n",
    "    print(\"reg_alpha: \", reg_alpha)\r\n",
    "    model = lgb.LGBMClassifier(n_estimators=trees, n_jobs=-1, objective=\"multiclass\", reg_alpha=reg_alpha)\r\n",
    "    scores = lgbm_evaluator(model, X, y, file_lengths, n_repeats=10, voting=True, verbose=True)"
   ],
   "outputs": [],
   "metadata": {}
  },
  {
   "cell_type": "markdown",
   "source": [
    "# XGBoost"
   ],
   "metadata": {}
  },
  {
   "cell_type": "code",
   "execution_count": 1,
   "source": [
    "def xgb_evaluator(model, X, y, file_lengths, n_repeats=10, voting=True, verbose=True):\r\n",
    "    scores = []\r\n",
    "    num_range = trange(n_repeats) if verbose else range(n_repeats)\r\n",
    "    for _ in num_range:\r\n",
    "        for p1, p2, p3 in [(1,2,3), (2,3,1), (3,1,2)]:\r\n",
    "            X_test, y_test = X[p1], y[p1]\r\n",
    "            X_train = X[p2] + X[p3]\r\n",
    "            y_train = y[p2] + y[p3]\r\n",
    "            X_train, X_test = np.array(X_train), np.array(X_test)\r\n",
    "            y_train, y_test = np.array(y_train), np.array(y_test)\r\n",
    "            model.fit(X_train, y_train)\r\n",
    "            pred = model.predict(X_test)\r\n",
    "            if voting:\r\n",
    "                filtered_pred = majority_voting(pred, file_lengths[p1])\r\n",
    "                scores.append(accuracy_score(y_test, filtered_pred))\r\n",
    "            else:\r\n",
    "                scores.append(accuracy_score(y_test, pred))\r\n",
    "    if verbose:\r\n",
    "        print(f\"Mean Score: {np.mean(scores)}\")\r\n",
    "        print(f\"Std Score: {np.std(scores)}\")\r\n",
    "        print(f\"Min Score: {np.min(scores)}\")\r\n",
    "        print(f\"Max Score: {np.max(scores)}\")\r\n",
    "    return scores"
   ],
   "outputs": [],
   "metadata": {}
  },
  {
   "cell_type": "code",
   "execution_count": null,
   "source": [
    "model = xgb.xgb_evaluator(n_estimators=100, objective=\"multi:softmax\")\r\n",
    "scores = model_evaluator(model, X, y, file_lengths, n_repeats=10, voting=True, verbose=True)"
   ],
   "outputs": [],
   "metadata": {}
  },
  {
   "cell_type": "markdown",
   "source": [
    "# Confusion Matrix"
   ],
   "metadata": {}
  },
  {
   "cell_type": "code",
   "execution_count": 21,
   "source": [
    "def get_pred(model, X, y, file_lengths, n_repeats=1, voting=True, verbose=True):\r\n",
    "    scores = []\r\n",
    "    y_trues, y_preds = [], []\r\n",
    "    num_range = trange(n_repeats) if verbose else range(n_repeats)\r\n",
    "    for _ in num_range:\r\n",
    "        for p1, p2, p3 in [(1,2,3), (2,3,1), (3,1,2)]:\r\n",
    "            X_test, y_test = X[p1], y[p1]\r\n",
    "            X_train = X[p2] + X[p3]\r\n",
    "            y_train = y[p2] + y[p3]\r\n",
    "            # print(f\"training model for person {p1}/3...\", end=\"\\t\")\r\n",
    "            model.fit(X_train, y_train)\r\n",
    "            pred = model.predict(X_test)\r\n",
    "            if voting:\r\n",
    "                filtered_pred = majority_voting(pred, file_lengths[p1])\r\n",
    "                scores.append(accuracy_score(y_test, filtered_pred))\r\n",
    "            else:\r\n",
    "                scores.append(accuracy_score(y_test, pred))\r\n",
    "            y_trues.append(y_test)\r\n",
    "            y_preds.append(pred)\r\n",
    "    if verbose:\r\n",
    "        print(f\"Mean Score: {np.mean(scores)}\")\r\n",
    "        print(f\"Std Score: {np.std(scores)}\")\r\n",
    "        print(f\"Min Score: {np.min(scores)}\")\r\n",
    "        print(f\"Max Score: {np.max(scores)}\")\r\n",
    "    return scores, y_trues, y_preds\r\n"
   ],
   "outputs": [],
   "metadata": {}
  },
  {
   "cell_type": "code",
   "execution_count": 38,
   "source": [
    "def plot_conf(cm):\r\n",
    "    df_cm = pd.DataFrame(cm, index = [i for i in range(1,11)],\r\n",
    "                    columns = [i for i in range(1,11)])\r\n",
    "    fig = plt.figure(figsize = (10,7))\r\n",
    "    sns.heatmap(df_cm, annot=True)\r\n",
    "    plt.xlabel(\"actual\")\r\n",
    "    plt.ylabel(\"pred\")\r\n",
    "    return fig "
   ],
   "outputs": [],
   "metadata": {}
  },
  {
   "cell_type": "code",
   "execution_count": 22,
   "source": [
    "get_streams, get_features, colnames = current_best()\r\n",
    "overlap_rate, window_size = 0.75, 3000\r\n",
    "X, y, file_lengths = get_processed_dataset(overlap_rate, window_size)\r\n",
    "ft_names = [i+j for i in colnames for j in [\"_std\", \"_max\", \"_min\", \"_med\"]]"
   ],
   "outputs": [
    {
     "output_type": "stream",
     "name": "stdout",
     "text": [
      "loading the data...\t"
     ]
    },
    {
     "output_type": "stream",
     "name": "stderr",
     "text": [
      "100%|██████████| 151/151 [00:15<00:00,  9.80it/s]\n"
     ]
    },
    {
     "output_type": "stream",
     "name": "stdout",
     "text": [
      "extracting the features...  "
     ]
    },
    {
     "output_type": "stream",
     "name": "stderr",
     "text": [
      "100%|██████████| 736/736 [01:27<00:00,  8.40it/s]\n"
     ]
    }
   ],
   "metadata": {}
  },
  {
   "cell_type": "code",
   "execution_count": 24,
   "source": [
    "model = ETC(1800, criterion=\"gini\", max_depth=12, n_jobs=-1)\r\n",
    "scores, y_trues, y_preds = get_pred(model, X, y, file_lengths, n_repeats=1, voting=True, verbose=True)"
   ],
   "outputs": [
    {
     "output_type": "stream",
     "name": "stderr",
     "text": [
      "100%|██████████| 1/1 [00:10<00:00, 10.68s/it]"
     ]
    },
    {
     "output_type": "stream",
     "name": "stdout",
     "text": [
      "Mean Score: 0.7253463445655971\n",
      "Std Score: 0.008398327051030573\n",
      "Min Score: 0.7136563876651982\n",
      "Max Score: 0.7330097087378641\n"
     ]
    },
    {
     "output_type": "stream",
     "name": "stderr",
     "text": [
      "\n"
     ]
    }
   ],
   "metadata": {}
  },
  {
   "cell_type": "code",
   "execution_count": 39,
   "source": [
    "cm = confusion_matrix(y_trues[2], y_preds[2])\r\n",
    "fig = plot_conf(cm)"
   ],
   "outputs": [
    {
     "output_type": "display_data",
     "data": {
      "text/plain": [
       "<Figure size 720x504 with 2 Axes>"
      ],
      "image/svg+xml": "<?xml version=\"1.0\" encoding=\"utf-8\" standalone=\"no\"?>\r\n<!DOCTYPE svg PUBLIC \"-//W3C//DTD SVG 1.1//EN\"\r\n  \"http://www.w3.org/Graphics/SVG/1.1/DTD/svg11.dtd\">\r\n<svg height=\"429.075469pt\" version=\"1.1\" viewBox=\"0 0 567.347875 429.075469\" width=\"567.347875pt\" xmlns=\"http://www.w3.org/2000/svg\" xmlns:xlink=\"http://www.w3.org/1999/xlink\">\r\n <metadata>\r\n  <rdf:RDF xmlns:cc=\"http://creativecommons.org/ns#\" xmlns:dc=\"http://purl.org/dc/elements/1.1/\" xmlns:rdf=\"http://www.w3.org/1999/02/22-rdf-syntax-ns#\">\r\n   <cc:Work>\r\n    <dc:type rdf:resource=\"http://purl.org/dc/dcmitype/StillImage\"/>\r\n    <dc:date>2021-08-17T16:53:14.349983</dc:date>\r\n    <dc:format>image/svg+xml</dc:format>\r\n    <dc:creator>\r\n     <cc:Agent>\r\n      <dc:title>Matplotlib v3.4.2, https://matplotlib.org/</dc:title>\r\n     </cc:Agent>\r\n    </dc:creator>\r\n   </cc:Work>\r\n  </rdf:RDF>\r\n </metadata>\r\n <defs>\r\n  <style type=\"text/css\">*{stroke-linecap:butt;stroke-linejoin:round;}</style>\r\n </defs>\r\n <g id=\"figure_1\">\r\n  <g id=\"patch_1\">\r\n   <path d=\"M 0 429.075469 \r\nL 567.347875 429.075469 \r\nL 567.347875 0 \r\nL 0 0 \r\nz\r\n\" style=\"fill:none;\"/>\r\n  </g>\r\n  <g id=\"axes_1\">\r\n   <g id=\"patch_2\">\r\n    <path d=\"M 37.55625 391.519219 \r\nL 483.95625 391.519219 \r\nL 483.95625 10.999219 \r\nL 37.55625 10.999219 \r\nz\r\n\" style=\"fill:#ffffff;\"/>\r\n   </g>\r\n   <g id=\"QuadMesh_1\">\r\n    <path clip-path=\"url(#p1f92864cfe)\" d=\"M 37.55625 10.999219 \r\nL 82.19625 10.999219 \r\nL 82.19625 49.051219 \r\nL 37.55625 49.051219 \r\nL 37.55625 10.999219 \r\n\" style=\"fill:#751f58;\"/>\r\n    <path clip-path=\"url(#p1f92864cfe)\" d=\"M 82.19625 10.999219 \r\nL 126.83625 10.999219 \r\nL 126.83625 49.051219 \r\nL 82.19625 49.051219 \r\nL 82.19625 10.999219 \r\n\" style=\"fill:#03051a;\"/>\r\n    <path clip-path=\"url(#p1f92864cfe)\" d=\"M 126.83625 10.999219 \r\nL 171.47625 10.999219 \r\nL 171.47625 49.051219 \r\nL 126.83625 49.051219 \r\nL 126.83625 10.999219 \r\n\" style=\"fill:#03051a;\"/>\r\n    <path clip-path=\"url(#p1f92864cfe)\" d=\"M 171.47625 10.999219 \r\nL 216.11625 10.999219 \r\nL 216.11625 49.051219 \r\nL 171.47625 49.051219 \r\nL 171.47625 10.999219 \r\n\" style=\"fill:#03051a;\"/>\r\n    <path clip-path=\"url(#p1f92864cfe)\" d=\"M 216.11625 10.999219 \r\nL 260.75625 10.999219 \r\nL 260.75625 49.051219 \r\nL 216.11625 49.051219 \r\nL 216.11625 10.999219 \r\n\" style=\"fill:#f6b18b;\"/>\r\n    <path clip-path=\"url(#p1f92864cfe)\" d=\"M 260.75625 10.999219 \r\nL 305.39625 10.999219 \r\nL 305.39625 49.051219 \r\nL 260.75625 49.051219 \r\nL 260.75625 10.999219 \r\n\" style=\"fill:#03051a;\"/>\r\n    <path clip-path=\"url(#p1f92864cfe)\" d=\"M 305.39625 10.999219 \r\nL 350.03625 10.999219 \r\nL 350.03625 49.051219 \r\nL 305.39625 49.051219 \r\nL 305.39625 10.999219 \r\n\" style=\"fill:#03051a;\"/>\r\n    <path clip-path=\"url(#p1f92864cfe)\" d=\"M 350.03625 10.999219 \r\nL 394.67625 10.999219 \r\nL 394.67625 49.051219 \r\nL 350.03625 49.051219 \r\nL 350.03625 10.999219 \r\n\" style=\"fill:#03051a;\"/>\r\n    <path clip-path=\"url(#p1f92864cfe)\" d=\"M 394.67625 10.999219 \r\nL 439.31625 10.999219 \r\nL 439.31625 49.051219 \r\nL 394.67625 49.051219 \r\nL 394.67625 10.999219 \r\n\" style=\"fill:#03051a;\"/>\r\n    <path clip-path=\"url(#p1f92864cfe)\" d=\"M 439.31625 10.999219 \r\nL 483.95625 10.999219 \r\nL 483.95625 49.051219 \r\nL 439.31625 49.051219 \r\nL 439.31625 10.999219 \r\n\" style=\"fill:#03051a;\"/>\r\n    <path clip-path=\"url(#p1f92864cfe)\" d=\"M 37.55625 49.051219 \r\nL 82.19625 49.051219 \r\nL 82.19625 87.103219 \r\nL 37.55625 87.103219 \r\nL 37.55625 49.051219 \r\n\" style=\"fill:#251433;\"/>\r\n    <path clip-path=\"url(#p1f92864cfe)\" d=\"M 82.19625 49.051219 \r\nL 126.83625 49.051219 \r\nL 126.83625 87.103219 \r\nL 82.19625 87.103219 \r\nL 82.19625 49.051219 \r\n\" style=\"fill:#f58860;\"/>\r\n    <path clip-path=\"url(#p1f92864cfe)\" d=\"M 126.83625 49.051219 \r\nL 171.47625 49.051219 \r\nL 171.47625 87.103219 \r\nL 126.83625 87.103219 \r\nL 126.83625 49.051219 \r\n\" style=\"fill:#381a40;\"/>\r\n    <path clip-path=\"url(#p1f92864cfe)\" d=\"M 171.47625 49.051219 \r\nL 216.11625 49.051219 \r\nL 216.11625 87.103219 \r\nL 171.47625 87.103219 \r\nL 171.47625 49.051219 \r\n\" style=\"fill:#130d25;\"/>\r\n    <path clip-path=\"url(#p1f92864cfe)\" d=\"M 216.11625 49.051219 \r\nL 260.75625 49.051219 \r\nL 260.75625 87.103219 \r\nL 216.11625 87.103219 \r\nL 216.11625 49.051219 \r\n\" style=\"fill:#03051a;\"/>\r\n    <path clip-path=\"url(#p1f92864cfe)\" d=\"M 260.75625 49.051219 \r\nL 305.39625 49.051219 \r\nL 305.39625 87.103219 \r\nL 260.75625 87.103219 \r\nL 260.75625 49.051219 \r\n\" style=\"fill:#03051a;\"/>\r\n    <path clip-path=\"url(#p1f92864cfe)\" d=\"M 305.39625 49.051219 \r\nL 350.03625 49.051219 \r\nL 350.03625 87.103219 \r\nL 305.39625 87.103219 \r\nL 305.39625 49.051219 \r\n\" style=\"fill:#03051a;\"/>\r\n    <path clip-path=\"url(#p1f92864cfe)\" d=\"M 350.03625 49.051219 \r\nL 394.67625 49.051219 \r\nL 394.67625 87.103219 \r\nL 350.03625 87.103219 \r\nL 350.03625 49.051219 \r\n\" style=\"fill:#03051a;\"/>\r\n    <path clip-path=\"url(#p1f92864cfe)\" d=\"M 394.67625 49.051219 \r\nL 439.31625 49.051219 \r\nL 439.31625 87.103219 \r\nL 394.67625 87.103219 \r\nL 394.67625 49.051219 \r\n\" style=\"fill:#03051a;\"/>\r\n    <path clip-path=\"url(#p1f92864cfe)\" d=\"M 439.31625 49.051219 \r\nL 483.95625 49.051219 \r\nL 483.95625 87.103219 \r\nL 439.31625 87.103219 \r\nL 439.31625 49.051219 \r\n\" style=\"fill:#03051a;\"/>\r\n    <path clip-path=\"url(#p1f92864cfe)\" d=\"M 37.55625 87.103219 \r\nL 82.19625 87.103219 \r\nL 82.19625 125.155219 \r\nL 37.55625 125.155219 \r\nL 37.55625 87.103219 \r\n\" style=\"fill:#03051a;\"/>\r\n    <path clip-path=\"url(#p1f92864cfe)\" d=\"M 82.19625 87.103219 \r\nL 126.83625 87.103219 \r\nL 126.83625 125.155219 \r\nL 82.19625 125.155219 \r\nL 82.19625 87.103219 \r\n\" style=\"fill:#8b1d5b;\"/>\r\n    <path clip-path=\"url(#p1f92864cfe)\" d=\"M 126.83625 87.103219 \r\nL 171.47625 87.103219 \r\nL 171.47625 125.155219 \r\nL 126.83625 125.155219 \r\nL 126.83625 87.103219 \r\n\" style=\"fill:#ef5840;\"/>\r\n    <path clip-path=\"url(#p1f92864cfe)\" d=\"M 171.47625 87.103219 \r\nL 216.11625 87.103219 \r\nL 216.11625 125.155219 \r\nL 171.47625 125.155219 \r\nL 171.47625 87.103219 \r\n\" style=\"fill:#03051a;\"/>\r\n    <path clip-path=\"url(#p1f92864cfe)\" d=\"M 216.11625 87.103219 \r\nL 260.75625 87.103219 \r\nL 260.75625 125.155219 \r\nL 216.11625 125.155219 \r\nL 216.11625 87.103219 \r\n\" style=\"fill:#03051a;\"/>\r\n    <path clip-path=\"url(#p1f92864cfe)\" d=\"M 260.75625 87.103219 \r\nL 305.39625 87.103219 \r\nL 305.39625 125.155219 \r\nL 260.75625 125.155219 \r\nL 260.75625 87.103219 \r\n\" style=\"fill:#03051a;\"/>\r\n    <path clip-path=\"url(#p1f92864cfe)\" d=\"M 305.39625 87.103219 \r\nL 350.03625 87.103219 \r\nL 350.03625 125.155219 \r\nL 305.39625 125.155219 \r\nL 305.39625 87.103219 \r\n\" style=\"fill:#03051a;\"/>\r\n    <path clip-path=\"url(#p1f92864cfe)\" d=\"M 350.03625 87.103219 \r\nL 394.67625 87.103219 \r\nL 394.67625 125.155219 \r\nL 350.03625 125.155219 \r\nL 350.03625 87.103219 \r\n\" style=\"fill:#03051a;\"/>\r\n    <path clip-path=\"url(#p1f92864cfe)\" d=\"M 394.67625 87.103219 \r\nL 439.31625 87.103219 \r\nL 439.31625 125.155219 \r\nL 394.67625 125.155219 \r\nL 394.67625 87.103219 \r\n\" style=\"fill:#03051a;\"/>\r\n    <path clip-path=\"url(#p1f92864cfe)\" d=\"M 439.31625 87.103219 \r\nL 483.95625 87.103219 \r\nL 483.95625 125.155219 \r\nL 439.31625 125.155219 \r\nL 439.31625 87.103219 \r\n\" style=\"fill:#03051a;\"/>\r\n    <path clip-path=\"url(#p1f92864cfe)\" d=\"M 37.55625 125.155219 \r\nL 82.19625 125.155219 \r\nL 82.19625 163.207219 \r\nL 37.55625 163.207219 \r\nL 37.55625 125.155219 \r\n\" style=\"fill:#03051a;\"/>\r\n    <path clip-path=\"url(#p1f92864cfe)\" d=\"M 82.19625 125.155219 \r\nL 126.83625 125.155219 \r\nL 126.83625 163.207219 \r\nL 82.19625 163.207219 \r\nL 82.19625 125.155219 \r\n\" style=\"fill:#03051a;\"/>\r\n    <path clip-path=\"url(#p1f92864cfe)\" d=\"M 126.83625 125.155219 \r\nL 171.47625 125.155219 \r\nL 171.47625 163.207219 \r\nL 126.83625 163.207219 \r\nL 126.83625 125.155219 \r\n\" style=\"fill:#03051a;\"/>\r\n    <path clip-path=\"url(#p1f92864cfe)\" d=\"M 171.47625 125.155219 \r\nL 216.11625 125.155219 \r\nL 216.11625 163.207219 \r\nL 171.47625 163.207219 \r\nL 171.47625 125.155219 \r\n\" style=\"fill:#faebdd;\"/>\r\n    <path clip-path=\"url(#p1f92864cfe)\" d=\"M 216.11625 125.155219 \r\nL 260.75625 125.155219 \r\nL 260.75625 163.207219 \r\nL 216.11625 163.207219 \r\nL 216.11625 125.155219 \r\n\" style=\"fill:#03051a;\"/>\r\n    <path clip-path=\"url(#p1f92864cfe)\" d=\"M 260.75625 125.155219 \r\nL 305.39625 125.155219 \r\nL 305.39625 163.207219 \r\nL 260.75625 163.207219 \r\nL 260.75625 125.155219 \r\n\" style=\"fill:#03051a;\"/>\r\n    <path clip-path=\"url(#p1f92864cfe)\" d=\"M 305.39625 125.155219 \r\nL 350.03625 125.155219 \r\nL 350.03625 163.207219 \r\nL 305.39625 163.207219 \r\nL 305.39625 125.155219 \r\n\" style=\"fill:#03051a;\"/>\r\n    <path clip-path=\"url(#p1f92864cfe)\" d=\"M 350.03625 125.155219 \r\nL 394.67625 125.155219 \r\nL 394.67625 163.207219 \r\nL 350.03625 163.207219 \r\nL 350.03625 125.155219 \r\n\" style=\"fill:#03051a;\"/>\r\n    <path clip-path=\"url(#p1f92864cfe)\" d=\"M 394.67625 125.155219 \r\nL 439.31625 125.155219 \r\nL 439.31625 163.207219 \r\nL 394.67625 163.207219 \r\nL 394.67625 125.155219 \r\n\" style=\"fill:#03051a;\"/>\r\n    <path clip-path=\"url(#p1f92864cfe)\" d=\"M 439.31625 125.155219 \r\nL 483.95625 125.155219 \r\nL 483.95625 163.207219 \r\nL 439.31625 163.207219 \r\nL 439.31625 125.155219 \r\n\" style=\"fill:#03051a;\"/>\r\n    <path clip-path=\"url(#p1f92864cfe)\" d=\"M 37.55625 163.207219 \r\nL 82.19625 163.207219 \r\nL 82.19625 201.259219 \r\nL 37.55625 201.259219 \r\nL 37.55625 163.207219 \r\n\" style=\"fill:#03051a;\"/>\r\n    <path clip-path=\"url(#p1f92864cfe)\" d=\"M 82.19625 163.207219 \r\nL 126.83625 163.207219 \r\nL 126.83625 201.259219 \r\nL 82.19625 201.259219 \r\nL 82.19625 163.207219 \r\n\" style=\"fill:#03051a;\"/>\r\n    <path clip-path=\"url(#p1f92864cfe)\" d=\"M 126.83625 163.207219 \r\nL 171.47625 163.207219 \r\nL 171.47625 201.259219 \r\nL 126.83625 201.259219 \r\nL 126.83625 163.207219 \r\n\" style=\"fill:#03051a;\"/>\r\n    <path clip-path=\"url(#p1f92864cfe)\" d=\"M 171.47625 163.207219 \r\nL 216.11625 163.207219 \r\nL 216.11625 201.259219 \r\nL 171.47625 201.259219 \r\nL 171.47625 163.207219 \r\n\" style=\"fill:#03051a;\"/>\r\n    <path clip-path=\"url(#p1f92864cfe)\" d=\"M 216.11625 163.207219 \r\nL 260.75625 163.207219 \r\nL 260.75625 201.259219 \r\nL 216.11625 201.259219 \r\nL 216.11625 163.207219 \r\n\" style=\"fill:#faebdd;\"/>\r\n    <path clip-path=\"url(#p1f92864cfe)\" d=\"M 260.75625 163.207219 \r\nL 305.39625 163.207219 \r\nL 305.39625 201.259219 \r\nL 260.75625 201.259219 \r\nL 260.75625 163.207219 \r\n\" style=\"fill:#03051a;\"/>\r\n    <path clip-path=\"url(#p1f92864cfe)\" d=\"M 305.39625 163.207219 \r\nL 350.03625 163.207219 \r\nL 350.03625 201.259219 \r\nL 305.39625 201.259219 \r\nL 305.39625 163.207219 \r\n\" style=\"fill:#03051a;\"/>\r\n    <path clip-path=\"url(#p1f92864cfe)\" d=\"M 350.03625 163.207219 \r\nL 394.67625 163.207219 \r\nL 394.67625 201.259219 \r\nL 350.03625 201.259219 \r\nL 350.03625 163.207219 \r\n\" style=\"fill:#03051a;\"/>\r\n    <path clip-path=\"url(#p1f92864cfe)\" d=\"M 394.67625 163.207219 \r\nL 439.31625 163.207219 \r\nL 439.31625 201.259219 \r\nL 394.67625 201.259219 \r\nL 394.67625 163.207219 \r\n\" style=\"fill:#03051a;\"/>\r\n    <path clip-path=\"url(#p1f92864cfe)\" d=\"M 439.31625 163.207219 \r\nL 483.95625 163.207219 \r\nL 483.95625 201.259219 \r\nL 439.31625 201.259219 \r\nL 439.31625 163.207219 \r\n\" style=\"fill:#03051a;\"/>\r\n    <path clip-path=\"url(#p1f92864cfe)\" d=\"M 37.55625 201.259219 \r\nL 82.19625 201.259219 \r\nL 82.19625 239.311219 \r\nL 37.55625 239.311219 \r\nL 37.55625 201.259219 \r\n\" style=\"fill:#03051a;\"/>\r\n    <path clip-path=\"url(#p1f92864cfe)\" d=\"M 82.19625 201.259219 \r\nL 126.83625 201.259219 \r\nL 126.83625 239.311219 \r\nL 82.19625 239.311219 \r\nL 82.19625 201.259219 \r\n\" style=\"fill:#03051a;\"/>\r\n    <path clip-path=\"url(#p1f92864cfe)\" d=\"M 126.83625 201.259219 \r\nL 171.47625 201.259219 \r\nL 171.47625 239.311219 \r\nL 126.83625 239.311219 \r\nL 126.83625 201.259219 \r\n\" style=\"fill:#03051a;\"/>\r\n    <path clip-path=\"url(#p1f92864cfe)\" d=\"M 171.47625 201.259219 \r\nL 216.11625 201.259219 \r\nL 216.11625 239.311219 \r\nL 171.47625 239.311219 \r\nL 171.47625 201.259219 \r\n\" style=\"fill:#03051a;\"/>\r\n    <path clip-path=\"url(#p1f92864cfe)\" d=\"M 216.11625 201.259219 \r\nL 260.75625 201.259219 \r\nL 260.75625 239.311219 \r\nL 216.11625 239.311219 \r\nL 216.11625 201.259219 \r\n\" style=\"fill:#03051a;\"/>\r\n    <path clip-path=\"url(#p1f92864cfe)\" d=\"M 260.75625 201.259219 \r\nL 305.39625 201.259219 \r\nL 305.39625 239.311219 \r\nL 260.75625 239.311219 \r\nL 260.75625 201.259219 \r\n\" style=\"fill:#a11a5b;\"/>\r\n    <path clip-path=\"url(#p1f92864cfe)\" d=\"M 305.39625 201.259219 \r\nL 350.03625 201.259219 \r\nL 350.03625 239.311219 \r\nL 305.39625 239.311219 \r\nL 305.39625 201.259219 \r\n\" style=\"fill:#4c1d4b;\"/>\r\n    <path clip-path=\"url(#p1f92864cfe)\" d=\"M 350.03625 201.259219 \r\nL 394.67625 201.259219 \r\nL 394.67625 239.311219 \r\nL 350.03625 239.311219 \r\nL 350.03625 201.259219 \r\n\" style=\"fill:#4c1d4b;\"/>\r\n    <path clip-path=\"url(#p1f92864cfe)\" d=\"M 394.67625 201.259219 \r\nL 439.31625 201.259219 \r\nL 439.31625 239.311219 \r\nL 394.67625 239.311219 \r\nL 394.67625 201.259219 \r\n\" style=\"fill:#03051a;\"/>\r\n    <path clip-path=\"url(#p1f92864cfe)\" d=\"M 439.31625 201.259219 \r\nL 483.95625 201.259219 \r\nL 483.95625 239.311219 \r\nL 439.31625 239.311219 \r\nL 439.31625 201.259219 \r\n\" style=\"fill:#751f58;\"/>\r\n    <path clip-path=\"url(#p1f92864cfe)\" d=\"M 37.55625 239.311219 \r\nL 82.19625 239.311219 \r\nL 82.19625 277.363219 \r\nL 37.55625 277.363219 \r\nL 37.55625 239.311219 \r\n\" style=\"fill:#03051a;\"/>\r\n    <path clip-path=\"url(#p1f92864cfe)\" d=\"M 82.19625 239.311219 \r\nL 126.83625 239.311219 \r\nL 126.83625 277.363219 \r\nL 82.19625 277.363219 \r\nL 82.19625 239.311219 \r\n\" style=\"fill:#03051a;\"/>\r\n    <path clip-path=\"url(#p1f92864cfe)\" d=\"M 126.83625 239.311219 \r\nL 171.47625 239.311219 \r\nL 171.47625 277.363219 \r\nL 126.83625 277.363219 \r\nL 126.83625 239.311219 \r\n\" style=\"fill:#03051a;\"/>\r\n    <path clip-path=\"url(#p1f92864cfe)\" d=\"M 171.47625 239.311219 \r\nL 216.11625 239.311219 \r\nL 216.11625 277.363219 \r\nL 171.47625 277.363219 \r\nL 171.47625 239.311219 \r\n\" style=\"fill:#03051a;\"/>\r\n    <path clip-path=\"url(#p1f92864cfe)\" d=\"M 216.11625 239.311219 \r\nL 260.75625 239.311219 \r\nL 260.75625 277.363219 \r\nL 216.11625 277.363219 \r\nL 216.11625 239.311219 \r\n\" style=\"fill:#03051a;\"/>\r\n    <path clip-path=\"url(#p1f92864cfe)\" d=\"M 260.75625 239.311219 \r\nL 305.39625 239.311219 \r\nL 305.39625 277.363219 \r\nL 260.75625 277.363219 \r\nL 260.75625 239.311219 \r\n\" style=\"fill:#03051a;\"/>\r\n    <path clip-path=\"url(#p1f92864cfe)\" d=\"M 305.39625 239.311219 \r\nL 350.03625 239.311219 \r\nL 350.03625 277.363219 \r\nL 305.39625 277.363219 \r\nL 305.39625 239.311219 \r\n\" style=\"fill:#f8d9c3;\"/>\r\n    <path clip-path=\"url(#p1f92864cfe)\" d=\"M 350.03625 239.311219 \r\nL 394.67625 239.311219 \r\nL 394.67625 277.363219 \r\nL 350.03625 277.363219 \r\nL 350.03625 239.311219 \r\n\" style=\"fill:#130d25;\"/>\r\n    <path clip-path=\"url(#p1f92864cfe)\" d=\"M 394.67625 239.311219 \r\nL 439.31625 239.311219 \r\nL 439.31625 277.363219 \r\nL 394.67625 277.363219 \r\nL 394.67625 239.311219 \r\n\" style=\"fill:#130d25;\"/>\r\n    <path clip-path=\"url(#p1f92864cfe)\" d=\"M 439.31625 239.311219 \r\nL 483.95625 239.311219 \r\nL 483.95625 277.363219 \r\nL 439.31625 277.363219 \r\nL 439.31625 239.311219 \r\n\" style=\"fill:#03051a;\"/>\r\n    <path clip-path=\"url(#p1f92864cfe)\" d=\"M 37.55625 277.363219 \r\nL 82.19625 277.363219 \r\nL 82.19625 315.415219 \r\nL 37.55625 315.415219 \r\nL 37.55625 277.363219 \r\n\" style=\"fill:#03051a;\"/>\r\n    <path clip-path=\"url(#p1f92864cfe)\" d=\"M 82.19625 277.363219 \r\nL 126.83625 277.363219 \r\nL 126.83625 315.415219 \r\nL 82.19625 315.415219 \r\nL 82.19625 277.363219 \r\n\" style=\"fill:#03051a;\"/>\r\n    <path clip-path=\"url(#p1f92864cfe)\" d=\"M 126.83625 277.363219 \r\nL 171.47625 277.363219 \r\nL 171.47625 315.415219 \r\nL 126.83625 315.415219 \r\nL 126.83625 277.363219 \r\n\" style=\"fill:#03051a;\"/>\r\n    <path clip-path=\"url(#p1f92864cfe)\" d=\"M 171.47625 277.363219 \r\nL 216.11625 277.363219 \r\nL 216.11625 315.415219 \r\nL 171.47625 315.415219 \r\nL 171.47625 277.363219 \r\n\" style=\"fill:#03051a;\"/>\r\n    <path clip-path=\"url(#p1f92864cfe)\" d=\"M 216.11625 277.363219 \r\nL 260.75625 277.363219 \r\nL 260.75625 315.415219 \r\nL 216.11625 315.415219 \r\nL 216.11625 277.363219 \r\n\" style=\"fill:#03051a;\"/>\r\n    <path clip-path=\"url(#p1f92864cfe)\" d=\"M 260.75625 277.363219 \r\nL 305.39625 277.363219 \r\nL 305.39625 315.415219 \r\nL 260.75625 315.415219 \r\nL 260.75625 277.363219 \r\n\" style=\"fill:#03051a;\"/>\r\n    <path clip-path=\"url(#p1f92864cfe)\" d=\"M 305.39625 277.363219 \r\nL 350.03625 277.363219 \r\nL 350.03625 315.415219 \r\nL 305.39625 315.415219 \r\nL 305.39625 277.363219 \r\n\" style=\"fill:#e83f3f;\"/>\r\n    <path clip-path=\"url(#p1f92864cfe)\" d=\"M 350.03625 277.363219 \r\nL 394.67625 277.363219 \r\nL 394.67625 315.415219 \r\nL 350.03625 315.415219 \r\nL 350.03625 277.363219 \r\n\" style=\"fill:#8b1d5b;\"/>\r\n    <path clip-path=\"url(#p1f92864cfe)\" d=\"M 394.67625 277.363219 \r\nL 439.31625 277.363219 \r\nL 439.31625 315.415219 \r\nL 394.67625 315.415219 \r\nL 394.67625 277.363219 \r\n\" style=\"fill:#03051a;\"/>\r\n    <path clip-path=\"url(#p1f92864cfe)\" d=\"M 439.31625 277.363219 \r\nL 483.95625 277.363219 \r\nL 483.95625 315.415219 \r\nL 439.31625 315.415219 \r\nL 439.31625 277.363219 \r\n\" style=\"fill:#03051a;\"/>\r\n    <path clip-path=\"url(#p1f92864cfe)\" d=\"M 37.55625 315.415219 \r\nL 82.19625 315.415219 \r\nL 82.19625 353.467219 \r\nL 37.55625 353.467219 \r\nL 37.55625 315.415219 \r\n\" style=\"fill:#03051a;\"/>\r\n    <path clip-path=\"url(#p1f92864cfe)\" d=\"M 82.19625 315.415219 \r\nL 126.83625 315.415219 \r\nL 126.83625 353.467219 \r\nL 82.19625 353.467219 \r\nL 82.19625 315.415219 \r\n\" style=\"fill:#03051a;\"/>\r\n    <path clip-path=\"url(#p1f92864cfe)\" d=\"M 126.83625 315.415219 \r\nL 171.47625 315.415219 \r\nL 171.47625 353.467219 \r\nL 126.83625 353.467219 \r\nL 126.83625 315.415219 \r\n\" style=\"fill:#03051a;\"/>\r\n    <path clip-path=\"url(#p1f92864cfe)\" d=\"M 171.47625 315.415219 \r\nL 216.11625 315.415219 \r\nL 216.11625 353.467219 \r\nL 171.47625 353.467219 \r\nL 171.47625 315.415219 \r\n\" style=\"fill:#03051a;\"/>\r\n    <path clip-path=\"url(#p1f92864cfe)\" d=\"M 216.11625 315.415219 \r\nL 260.75625 315.415219 \r\nL 260.75625 353.467219 \r\nL 216.11625 353.467219 \r\nL 216.11625 315.415219 \r\n\" style=\"fill:#03051a;\"/>\r\n    <path clip-path=\"url(#p1f92864cfe)\" d=\"M 260.75625 315.415219 \r\nL 305.39625 315.415219 \r\nL 305.39625 353.467219 \r\nL 260.75625 353.467219 \r\nL 260.75625 315.415219 \r\n\" style=\"fill:#03051a;\"/>\r\n    <path clip-path=\"url(#p1f92864cfe)\" d=\"M 305.39625 315.415219 \r\nL 350.03625 315.415219 \r\nL 350.03625 353.467219 \r\nL 305.39625 353.467219 \r\nL 305.39625 315.415219 \r\n\" style=\"fill:#03051a;\"/>\r\n    <path clip-path=\"url(#p1f92864cfe)\" d=\"M 350.03625 315.415219 \r\nL 394.67625 315.415219 \r\nL 394.67625 353.467219 \r\nL 350.03625 353.467219 \r\nL 350.03625 315.415219 \r\n\" style=\"fill:#03051a;\"/>\r\n    <path clip-path=\"url(#p1f92864cfe)\" d=\"M 394.67625 315.415219 \r\nL 439.31625 315.415219 \r\nL 439.31625 353.467219 \r\nL 394.67625 353.467219 \r\nL 394.67625 315.415219 \r\n\" style=\"fill:#faebdd;\"/>\r\n    <path clip-path=\"url(#p1f92864cfe)\" d=\"M 439.31625 315.415219 \r\nL 483.95625 315.415219 \r\nL 483.95625 353.467219 \r\nL 439.31625 353.467219 \r\nL 439.31625 315.415219 \r\n\" style=\"fill:#03051a;\"/>\r\n    <path clip-path=\"url(#p1f92864cfe)\" d=\"M 37.55625 353.467219 \r\nL 82.19625 353.467219 \r\nL 82.19625 391.519219 \r\nL 37.55625 391.519219 \r\nL 37.55625 353.467219 \r\n\" style=\"fill:#03051a;\"/>\r\n    <path clip-path=\"url(#p1f92864cfe)\" d=\"M 82.19625 353.467219 \r\nL 126.83625 353.467219 \r\nL 126.83625 391.519219 \r\nL 82.19625 391.519219 \r\nL 82.19625 353.467219 \r\n\" style=\"fill:#03051a;\"/>\r\n    <path clip-path=\"url(#p1f92864cfe)\" d=\"M 126.83625 353.467219 \r\nL 171.47625 353.467219 \r\nL 171.47625 391.519219 \r\nL 126.83625 391.519219 \r\nL 126.83625 353.467219 \r\n\" style=\"fill:#03051a;\"/>\r\n    <path clip-path=\"url(#p1f92864cfe)\" d=\"M 171.47625 353.467219 \r\nL 216.11625 353.467219 \r\nL 216.11625 391.519219 \r\nL 171.47625 391.519219 \r\nL 171.47625 353.467219 \r\n\" style=\"fill:#03051a;\"/>\r\n    <path clip-path=\"url(#p1f92864cfe)\" d=\"M 216.11625 353.467219 \r\nL 260.75625 353.467219 \r\nL 260.75625 391.519219 \r\nL 216.11625 391.519219 \r\nL 216.11625 353.467219 \r\n\" style=\"fill:#03051a;\"/>\r\n    <path clip-path=\"url(#p1f92864cfe)\" d=\"M 260.75625 353.467219 \r\nL 305.39625 353.467219 \r\nL 305.39625 391.519219 \r\nL 260.75625 391.519219 \r\nL 260.75625 353.467219 \r\n\" style=\"fill:#381a40;\"/>\r\n    <path clip-path=\"url(#p1f92864cfe)\" d=\"M 305.39625 353.467219 \r\nL 350.03625 353.467219 \r\nL 350.03625 391.519219 \r\nL 305.39625 391.519219 \r\nL 305.39625 353.467219 \r\n\" style=\"fill:#03051a;\"/>\r\n    <path clip-path=\"url(#p1f92864cfe)\" d=\"M 350.03625 353.467219 \r\nL 394.67625 353.467219 \r\nL 394.67625 391.519219 \r\nL 350.03625 391.519219 \r\nL 350.03625 353.467219 \r\n\" style=\"fill:#03051a;\"/>\r\n    <path clip-path=\"url(#p1f92864cfe)\" d=\"M 394.67625 353.467219 \r\nL 439.31625 353.467219 \r\nL 439.31625 391.519219 \r\nL 394.67625 391.519219 \r\nL 394.67625 353.467219 \r\n\" style=\"fill:#03051a;\"/>\r\n    <path clip-path=\"url(#p1f92864cfe)\" d=\"M 439.31625 353.467219 \r\nL 483.95625 353.467219 \r\nL 483.95625 391.519219 \r\nL 439.31625 391.519219 \r\nL 439.31625 353.467219 \r\n\" style=\"fill:#f6b18b;\"/>\r\n   </g>\r\n   <g id=\"matplotlib.axis_1\">\r\n    <g id=\"xtick_1\">\r\n     <g id=\"line2d_1\">\r\n      <defs>\r\n       <path d=\"M 0 0 \r\nL 0 3.5 \r\n\" id=\"m2aa9dab113\" style=\"stroke:#000000;stroke-width:0.8;\"/>\r\n      </defs>\r\n      <g>\r\n       <use style=\"stroke:#000000;stroke-width:0.8;\" x=\"59.87625\" xlink:href=\"#m2aa9dab113\" y=\"391.519219\"/>\r\n      </g>\r\n     </g>\r\n     <g id=\"text_1\">\r\n      <!-- 1 -->\r\n      <g transform=\"translate(56.695 406.117656)scale(0.1 -0.1)\">\r\n       <defs>\r\n        <path d=\"M 794 531 \r\nL 1825 531 \r\nL 1825 4091 \r\nL 703 3866 \r\nL 703 4441 \r\nL 1819 4666 \r\nL 2450 4666 \r\nL 2450 531 \r\nL 3481 531 \r\nL 3481 0 \r\nL 794 0 \r\nL 794 531 \r\nz\r\n\" id=\"DejaVuSans-31\" transform=\"scale(0.015625)\"/>\r\n       </defs>\r\n       <use xlink:href=\"#DejaVuSans-31\"/>\r\n      </g>\r\n     </g>\r\n    </g>\r\n    <g id=\"xtick_2\">\r\n     <g id=\"line2d_2\">\r\n      <g>\r\n       <use style=\"stroke:#000000;stroke-width:0.8;\" x=\"104.51625\" xlink:href=\"#m2aa9dab113\" y=\"391.519219\"/>\r\n      </g>\r\n     </g>\r\n     <g id=\"text_2\">\r\n      <!-- 2 -->\r\n      <g transform=\"translate(101.335 406.117656)scale(0.1 -0.1)\">\r\n       <defs>\r\n        <path d=\"M 1228 531 \r\nL 3431 531 \r\nL 3431 0 \r\nL 469 0 \r\nL 469 531 \r\nQ 828 903 1448 1529 \r\nQ 2069 2156 2228 2338 \r\nQ 2531 2678 2651 2914 \r\nQ 2772 3150 2772 3378 \r\nQ 2772 3750 2511 3984 \r\nQ 2250 4219 1831 4219 \r\nQ 1534 4219 1204 4116 \r\nQ 875 4013 500 3803 \r\nL 500 4441 \r\nQ 881 4594 1212 4672 \r\nQ 1544 4750 1819 4750 \r\nQ 2544 4750 2975 4387 \r\nQ 3406 4025 3406 3419 \r\nQ 3406 3131 3298 2873 \r\nQ 3191 2616 2906 2266 \r\nQ 2828 2175 2409 1742 \r\nQ 1991 1309 1228 531 \r\nz\r\n\" id=\"DejaVuSans-32\" transform=\"scale(0.015625)\"/>\r\n       </defs>\r\n       <use xlink:href=\"#DejaVuSans-32\"/>\r\n      </g>\r\n     </g>\r\n    </g>\r\n    <g id=\"xtick_3\">\r\n     <g id=\"line2d_3\">\r\n      <g>\r\n       <use style=\"stroke:#000000;stroke-width:0.8;\" x=\"149.15625\" xlink:href=\"#m2aa9dab113\" y=\"391.519219\"/>\r\n      </g>\r\n     </g>\r\n     <g id=\"text_3\">\r\n      <!-- 3 -->\r\n      <g transform=\"translate(145.975 406.117656)scale(0.1 -0.1)\">\r\n       <defs>\r\n        <path d=\"M 2597 2516 \r\nQ 3050 2419 3304 2112 \r\nQ 3559 1806 3559 1356 \r\nQ 3559 666 3084 287 \r\nQ 2609 -91 1734 -91 \r\nQ 1441 -91 1130 -33 \r\nQ 819 25 488 141 \r\nL 488 750 \r\nQ 750 597 1062 519 \r\nQ 1375 441 1716 441 \r\nQ 2309 441 2620 675 \r\nQ 2931 909 2931 1356 \r\nQ 2931 1769 2642 2001 \r\nQ 2353 2234 1838 2234 \r\nL 1294 2234 \r\nL 1294 2753 \r\nL 1863 2753 \r\nQ 2328 2753 2575 2939 \r\nQ 2822 3125 2822 3475 \r\nQ 2822 3834 2567 4026 \r\nQ 2313 4219 1838 4219 \r\nQ 1578 4219 1281 4162 \r\nQ 984 4106 628 3988 \r\nL 628 4550 \r\nQ 988 4650 1302 4700 \r\nQ 1616 4750 1894 4750 \r\nQ 2613 4750 3031 4423 \r\nQ 3450 4097 3450 3541 \r\nQ 3450 3153 3228 2886 \r\nQ 3006 2619 2597 2516 \r\nz\r\n\" id=\"DejaVuSans-33\" transform=\"scale(0.015625)\"/>\r\n       </defs>\r\n       <use xlink:href=\"#DejaVuSans-33\"/>\r\n      </g>\r\n     </g>\r\n    </g>\r\n    <g id=\"xtick_4\">\r\n     <g id=\"line2d_4\">\r\n      <g>\r\n       <use style=\"stroke:#000000;stroke-width:0.8;\" x=\"193.79625\" xlink:href=\"#m2aa9dab113\" y=\"391.519219\"/>\r\n      </g>\r\n     </g>\r\n     <g id=\"text_4\">\r\n      <!-- 4 -->\r\n      <g transform=\"translate(190.615 406.117656)scale(0.1 -0.1)\">\r\n       <defs>\r\n        <path d=\"M 2419 4116 \r\nL 825 1625 \r\nL 2419 1625 \r\nL 2419 4116 \r\nz\r\nM 2253 4666 \r\nL 3047 4666 \r\nL 3047 1625 \r\nL 3713 1625 \r\nL 3713 1100 \r\nL 3047 1100 \r\nL 3047 0 \r\nL 2419 0 \r\nL 2419 1100 \r\nL 313 1100 \r\nL 313 1709 \r\nL 2253 4666 \r\nz\r\n\" id=\"DejaVuSans-34\" transform=\"scale(0.015625)\"/>\r\n       </defs>\r\n       <use xlink:href=\"#DejaVuSans-34\"/>\r\n      </g>\r\n     </g>\r\n    </g>\r\n    <g id=\"xtick_5\">\r\n     <g id=\"line2d_5\">\r\n      <g>\r\n       <use style=\"stroke:#000000;stroke-width:0.8;\" x=\"238.43625\" xlink:href=\"#m2aa9dab113\" y=\"391.519219\"/>\r\n      </g>\r\n     </g>\r\n     <g id=\"text_5\">\r\n      <!-- 5 -->\r\n      <g transform=\"translate(235.255 406.117656)scale(0.1 -0.1)\">\r\n       <defs>\r\n        <path d=\"M 691 4666 \r\nL 3169 4666 \r\nL 3169 4134 \r\nL 1269 4134 \r\nL 1269 2991 \r\nQ 1406 3038 1543 3061 \r\nQ 1681 3084 1819 3084 \r\nQ 2600 3084 3056 2656 \r\nQ 3513 2228 3513 1497 \r\nQ 3513 744 3044 326 \r\nQ 2575 -91 1722 -91 \r\nQ 1428 -91 1123 -41 \r\nQ 819 9 494 109 \r\nL 494 744 \r\nQ 775 591 1075 516 \r\nQ 1375 441 1709 441 \r\nQ 2250 441 2565 725 \r\nQ 2881 1009 2881 1497 \r\nQ 2881 1984 2565 2268 \r\nQ 2250 2553 1709 2553 \r\nQ 1456 2553 1204 2497 \r\nQ 953 2441 691 2322 \r\nL 691 4666 \r\nz\r\n\" id=\"DejaVuSans-35\" transform=\"scale(0.015625)\"/>\r\n       </defs>\r\n       <use xlink:href=\"#DejaVuSans-35\"/>\r\n      </g>\r\n     </g>\r\n    </g>\r\n    <g id=\"xtick_6\">\r\n     <g id=\"line2d_6\">\r\n      <g>\r\n       <use style=\"stroke:#000000;stroke-width:0.8;\" x=\"283.07625\" xlink:href=\"#m2aa9dab113\" y=\"391.519219\"/>\r\n      </g>\r\n     </g>\r\n     <g id=\"text_6\">\r\n      <!-- 6 -->\r\n      <g transform=\"translate(279.895 406.117656)scale(0.1 -0.1)\">\r\n       <defs>\r\n        <path d=\"M 2113 2584 \r\nQ 1688 2584 1439 2293 \r\nQ 1191 2003 1191 1497 \r\nQ 1191 994 1439 701 \r\nQ 1688 409 2113 409 \r\nQ 2538 409 2786 701 \r\nQ 3034 994 3034 1497 \r\nQ 3034 2003 2786 2293 \r\nQ 2538 2584 2113 2584 \r\nz\r\nM 3366 4563 \r\nL 3366 3988 \r\nQ 3128 4100 2886 4159 \r\nQ 2644 4219 2406 4219 \r\nQ 1781 4219 1451 3797 \r\nQ 1122 3375 1075 2522 \r\nQ 1259 2794 1537 2939 \r\nQ 1816 3084 2150 3084 \r\nQ 2853 3084 3261 2657 \r\nQ 3669 2231 3669 1497 \r\nQ 3669 778 3244 343 \r\nQ 2819 -91 2113 -91 \r\nQ 1303 -91 875 529 \r\nQ 447 1150 447 2328 \r\nQ 447 3434 972 4092 \r\nQ 1497 4750 2381 4750 \r\nQ 2619 4750 2861 4703 \r\nQ 3103 4656 3366 4563 \r\nz\r\n\" id=\"DejaVuSans-36\" transform=\"scale(0.015625)\"/>\r\n       </defs>\r\n       <use xlink:href=\"#DejaVuSans-36\"/>\r\n      </g>\r\n     </g>\r\n    </g>\r\n    <g id=\"xtick_7\">\r\n     <g id=\"line2d_7\">\r\n      <g>\r\n       <use style=\"stroke:#000000;stroke-width:0.8;\" x=\"327.71625\" xlink:href=\"#m2aa9dab113\" y=\"391.519219\"/>\r\n      </g>\r\n     </g>\r\n     <g id=\"text_7\">\r\n      <!-- 7 -->\r\n      <g transform=\"translate(324.535 406.117656)scale(0.1 -0.1)\">\r\n       <defs>\r\n        <path d=\"M 525 4666 \r\nL 3525 4666 \r\nL 3525 4397 \r\nL 1831 0 \r\nL 1172 0 \r\nL 2766 4134 \r\nL 525 4134 \r\nL 525 4666 \r\nz\r\n\" id=\"DejaVuSans-37\" transform=\"scale(0.015625)\"/>\r\n       </defs>\r\n       <use xlink:href=\"#DejaVuSans-37\"/>\r\n      </g>\r\n     </g>\r\n    </g>\r\n    <g id=\"xtick_8\">\r\n     <g id=\"line2d_8\">\r\n      <g>\r\n       <use style=\"stroke:#000000;stroke-width:0.8;\" x=\"372.35625\" xlink:href=\"#m2aa9dab113\" y=\"391.519219\"/>\r\n      </g>\r\n     </g>\r\n     <g id=\"text_8\">\r\n      <!-- 8 -->\r\n      <g transform=\"translate(369.175 406.117656)scale(0.1 -0.1)\">\r\n       <defs>\r\n        <path d=\"M 2034 2216 \r\nQ 1584 2216 1326 1975 \r\nQ 1069 1734 1069 1313 \r\nQ 1069 891 1326 650 \r\nQ 1584 409 2034 409 \r\nQ 2484 409 2743 651 \r\nQ 3003 894 3003 1313 \r\nQ 3003 1734 2745 1975 \r\nQ 2488 2216 2034 2216 \r\nz\r\nM 1403 2484 \r\nQ 997 2584 770 2862 \r\nQ 544 3141 544 3541 \r\nQ 544 4100 942 4425 \r\nQ 1341 4750 2034 4750 \r\nQ 2731 4750 3128 4425 \r\nQ 3525 4100 3525 3541 \r\nQ 3525 3141 3298 2862 \r\nQ 3072 2584 2669 2484 \r\nQ 3125 2378 3379 2068 \r\nQ 3634 1759 3634 1313 \r\nQ 3634 634 3220 271 \r\nQ 2806 -91 2034 -91 \r\nQ 1263 -91 848 271 \r\nQ 434 634 434 1313 \r\nQ 434 1759 690 2068 \r\nQ 947 2378 1403 2484 \r\nz\r\nM 1172 3481 \r\nQ 1172 3119 1398 2916 \r\nQ 1625 2713 2034 2713 \r\nQ 2441 2713 2670 2916 \r\nQ 2900 3119 2900 3481 \r\nQ 2900 3844 2670 4047 \r\nQ 2441 4250 2034 4250 \r\nQ 1625 4250 1398 4047 \r\nQ 1172 3844 1172 3481 \r\nz\r\n\" id=\"DejaVuSans-38\" transform=\"scale(0.015625)\"/>\r\n       </defs>\r\n       <use xlink:href=\"#DejaVuSans-38\"/>\r\n      </g>\r\n     </g>\r\n    </g>\r\n    <g id=\"xtick_9\">\r\n     <g id=\"line2d_9\">\r\n      <g>\r\n       <use style=\"stroke:#000000;stroke-width:0.8;\" x=\"416.99625\" xlink:href=\"#m2aa9dab113\" y=\"391.519219\"/>\r\n      </g>\r\n     </g>\r\n     <g id=\"text_9\">\r\n      <!-- 9 -->\r\n      <g transform=\"translate(413.815 406.117656)scale(0.1 -0.1)\">\r\n       <defs>\r\n        <path d=\"M 703 97 \r\nL 703 672 \r\nQ 941 559 1184 500 \r\nQ 1428 441 1663 441 \r\nQ 2288 441 2617 861 \r\nQ 2947 1281 2994 2138 \r\nQ 2813 1869 2534 1725 \r\nQ 2256 1581 1919 1581 \r\nQ 1219 1581 811 2004 \r\nQ 403 2428 403 3163 \r\nQ 403 3881 828 4315 \r\nQ 1253 4750 1959 4750 \r\nQ 2769 4750 3195 4129 \r\nQ 3622 3509 3622 2328 \r\nQ 3622 1225 3098 567 \r\nQ 2575 -91 1691 -91 \r\nQ 1453 -91 1209 -44 \r\nQ 966 3 703 97 \r\nz\r\nM 1959 2075 \r\nQ 2384 2075 2632 2365 \r\nQ 2881 2656 2881 3163 \r\nQ 2881 3666 2632 3958 \r\nQ 2384 4250 1959 4250 \r\nQ 1534 4250 1286 3958 \r\nQ 1038 3666 1038 3163 \r\nQ 1038 2656 1286 2365 \r\nQ 1534 2075 1959 2075 \r\nz\r\n\" id=\"DejaVuSans-39\" transform=\"scale(0.015625)\"/>\r\n       </defs>\r\n       <use xlink:href=\"#DejaVuSans-39\"/>\r\n      </g>\r\n     </g>\r\n    </g>\r\n    <g id=\"xtick_10\">\r\n     <g id=\"line2d_10\">\r\n      <g>\r\n       <use style=\"stroke:#000000;stroke-width:0.8;\" x=\"461.63625\" xlink:href=\"#m2aa9dab113\" y=\"391.519219\"/>\r\n      </g>\r\n     </g>\r\n     <g id=\"text_10\">\r\n      <!-- 10 -->\r\n      <g transform=\"translate(455.27375 406.117656)scale(0.1 -0.1)\">\r\n       <defs>\r\n        <path d=\"M 2034 4250 \r\nQ 1547 4250 1301 3770 \r\nQ 1056 3291 1056 2328 \r\nQ 1056 1369 1301 889 \r\nQ 1547 409 2034 409 \r\nQ 2525 409 2770 889 \r\nQ 3016 1369 3016 2328 \r\nQ 3016 3291 2770 3770 \r\nQ 2525 4250 2034 4250 \r\nz\r\nM 2034 4750 \r\nQ 2819 4750 3233 4129 \r\nQ 3647 3509 3647 2328 \r\nQ 3647 1150 3233 529 \r\nQ 2819 -91 2034 -91 \r\nQ 1250 -91 836 529 \r\nQ 422 1150 422 2328 \r\nQ 422 3509 836 4129 \r\nQ 1250 4750 2034 4750 \r\nz\r\n\" id=\"DejaVuSans-30\" transform=\"scale(0.015625)\"/>\r\n       </defs>\r\n       <use xlink:href=\"#DejaVuSans-31\"/>\r\n       <use x=\"63.623047\" xlink:href=\"#DejaVuSans-30\"/>\r\n      </g>\r\n     </g>\r\n    </g>\r\n    <g id=\"text_11\">\r\n     <!-- actual -->\r\n     <g transform=\"translate(245.360938 419.795781)scale(0.1 -0.1)\">\r\n      <defs>\r\n       <path d=\"M 2194 1759 \r\nQ 1497 1759 1228 1600 \r\nQ 959 1441 959 1056 \r\nQ 959 750 1161 570 \r\nQ 1363 391 1709 391 \r\nQ 2188 391 2477 730 \r\nQ 2766 1069 2766 1631 \r\nL 2766 1759 \r\nL 2194 1759 \r\nz\r\nM 3341 1997 \r\nL 3341 0 \r\nL 2766 0 \r\nL 2766 531 \r\nQ 2569 213 2275 61 \r\nQ 1981 -91 1556 -91 \r\nQ 1019 -91 701 211 \r\nQ 384 513 384 1019 \r\nQ 384 1609 779 1909 \r\nQ 1175 2209 1959 2209 \r\nL 2766 2209 \r\nL 2766 2266 \r\nQ 2766 2663 2505 2880 \r\nQ 2244 3097 1772 3097 \r\nQ 1472 3097 1187 3025 \r\nQ 903 2953 641 2809 \r\nL 641 3341 \r\nQ 956 3463 1253 3523 \r\nQ 1550 3584 1831 3584 \r\nQ 2591 3584 2966 3190 \r\nQ 3341 2797 3341 1997 \r\nz\r\n\" id=\"DejaVuSans-61\" transform=\"scale(0.015625)\"/>\r\n       <path d=\"M 3122 3366 \r\nL 3122 2828 \r\nQ 2878 2963 2633 3030 \r\nQ 2388 3097 2138 3097 \r\nQ 1578 3097 1268 2742 \r\nQ 959 2388 959 1747 \r\nQ 959 1106 1268 751 \r\nQ 1578 397 2138 397 \r\nQ 2388 397 2633 464 \r\nQ 2878 531 3122 666 \r\nL 3122 134 \r\nQ 2881 22 2623 -34 \r\nQ 2366 -91 2075 -91 \r\nQ 1284 -91 818 406 \r\nQ 353 903 353 1747 \r\nQ 353 2603 823 3093 \r\nQ 1294 3584 2113 3584 \r\nQ 2378 3584 2631 3529 \r\nQ 2884 3475 3122 3366 \r\nz\r\n\" id=\"DejaVuSans-63\" transform=\"scale(0.015625)\"/>\r\n       <path d=\"M 1172 4494 \r\nL 1172 3500 \r\nL 2356 3500 \r\nL 2356 3053 \r\nL 1172 3053 \r\nL 1172 1153 \r\nQ 1172 725 1289 603 \r\nQ 1406 481 1766 481 \r\nL 2356 481 \r\nL 2356 0 \r\nL 1766 0 \r\nQ 1100 0 847 248 \r\nQ 594 497 594 1153 \r\nL 594 3053 \r\nL 172 3053 \r\nL 172 3500 \r\nL 594 3500 \r\nL 594 4494 \r\nL 1172 4494 \r\nz\r\n\" id=\"DejaVuSans-74\" transform=\"scale(0.015625)\"/>\r\n       <path d=\"M 544 1381 \r\nL 544 3500 \r\nL 1119 3500 \r\nL 1119 1403 \r\nQ 1119 906 1312 657 \r\nQ 1506 409 1894 409 \r\nQ 2359 409 2629 706 \r\nQ 2900 1003 2900 1516 \r\nL 2900 3500 \r\nL 3475 3500 \r\nL 3475 0 \r\nL 2900 0 \r\nL 2900 538 \r\nQ 2691 219 2414 64 \r\nQ 2138 -91 1772 -91 \r\nQ 1169 -91 856 284 \r\nQ 544 659 544 1381 \r\nz\r\nM 1991 3584 \r\nL 1991 3584 \r\nz\r\n\" id=\"DejaVuSans-75\" transform=\"scale(0.015625)\"/>\r\n       <path d=\"M 603 4863 \r\nL 1178 4863 \r\nL 1178 0 \r\nL 603 0 \r\nL 603 4863 \r\nz\r\n\" id=\"DejaVuSans-6c\" transform=\"scale(0.015625)\"/>\r\n      </defs>\r\n      <use xlink:href=\"#DejaVuSans-61\"/>\r\n      <use x=\"61.279297\" xlink:href=\"#DejaVuSans-63\"/>\r\n      <use x=\"116.259766\" xlink:href=\"#DejaVuSans-74\"/>\r\n      <use x=\"155.46875\" xlink:href=\"#DejaVuSans-75\"/>\r\n      <use x=\"218.847656\" xlink:href=\"#DejaVuSans-61\"/>\r\n      <use x=\"280.126953\" xlink:href=\"#DejaVuSans-6c\"/>\r\n     </g>\r\n    </g>\r\n   </g>\r\n   <g id=\"matplotlib.axis_2\">\r\n    <g id=\"ytick_1\">\r\n     <g id=\"line2d_11\">\r\n      <defs>\r\n       <path d=\"M 0 0 \r\nL -3.5 0 \r\n\" id=\"m0edd152d31\" style=\"stroke:#000000;stroke-width:0.8;\"/>\r\n      </defs>\r\n      <g>\r\n       <use style=\"stroke:#000000;stroke-width:0.8;\" x=\"37.55625\" xlink:href=\"#m0edd152d31\" y=\"30.025219\"/>\r\n      </g>\r\n     </g>\r\n     <g id=\"text_12\">\r\n      <!-- 1 -->\r\n      <g transform=\"translate(28.476562 32.5885)rotate(-90)scale(0.1 -0.1)\">\r\n       <use xlink:href=\"#DejaVuSans-31\"/>\r\n      </g>\r\n     </g>\r\n    </g>\r\n    <g id=\"ytick_2\">\r\n     <g id=\"line2d_12\">\r\n      <g>\r\n       <use style=\"stroke:#000000;stroke-width:0.8;\" x=\"37.55625\" xlink:href=\"#m0edd152d31\" y=\"68.077219\"/>\r\n      </g>\r\n     </g>\r\n     <g id=\"text_13\">\r\n      <!-- 2 -->\r\n      <g transform=\"translate(28.476562 70.6405)rotate(-90)scale(0.1 -0.1)\">\r\n       <use xlink:href=\"#DejaVuSans-32\"/>\r\n      </g>\r\n     </g>\r\n    </g>\r\n    <g id=\"ytick_3\">\r\n     <g id=\"line2d_13\">\r\n      <g>\r\n       <use style=\"stroke:#000000;stroke-width:0.8;\" x=\"37.55625\" xlink:href=\"#m0edd152d31\" y=\"106.129219\"/>\r\n      </g>\r\n     </g>\r\n     <g id=\"text_14\">\r\n      <!-- 3 -->\r\n      <g transform=\"translate(28.476562 108.6925)rotate(-90)scale(0.1 -0.1)\">\r\n       <use xlink:href=\"#DejaVuSans-33\"/>\r\n      </g>\r\n     </g>\r\n    </g>\r\n    <g id=\"ytick_4\">\r\n     <g id=\"line2d_14\">\r\n      <g>\r\n       <use style=\"stroke:#000000;stroke-width:0.8;\" x=\"37.55625\" xlink:href=\"#m0edd152d31\" y=\"144.181219\"/>\r\n      </g>\r\n     </g>\r\n     <g id=\"text_15\">\r\n      <!-- 4 -->\r\n      <g transform=\"translate(28.476562 146.7445)rotate(-90)scale(0.1 -0.1)\">\r\n       <use xlink:href=\"#DejaVuSans-34\"/>\r\n      </g>\r\n     </g>\r\n    </g>\r\n    <g id=\"ytick_5\">\r\n     <g id=\"line2d_15\">\r\n      <g>\r\n       <use style=\"stroke:#000000;stroke-width:0.8;\" x=\"37.55625\" xlink:href=\"#m0edd152d31\" y=\"182.233219\"/>\r\n      </g>\r\n     </g>\r\n     <g id=\"text_16\">\r\n      <!-- 5 -->\r\n      <g transform=\"translate(28.476562 184.7965)rotate(-90)scale(0.1 -0.1)\">\r\n       <use xlink:href=\"#DejaVuSans-35\"/>\r\n      </g>\r\n     </g>\r\n    </g>\r\n    <g id=\"ytick_6\">\r\n     <g id=\"line2d_16\">\r\n      <g>\r\n       <use style=\"stroke:#000000;stroke-width:0.8;\" x=\"37.55625\" xlink:href=\"#m0edd152d31\" y=\"220.285219\"/>\r\n      </g>\r\n     </g>\r\n     <g id=\"text_17\">\r\n      <!-- 6 -->\r\n      <g transform=\"translate(28.476562 222.8485)rotate(-90)scale(0.1 -0.1)\">\r\n       <use xlink:href=\"#DejaVuSans-36\"/>\r\n      </g>\r\n     </g>\r\n    </g>\r\n    <g id=\"ytick_7\">\r\n     <g id=\"line2d_17\">\r\n      <g>\r\n       <use style=\"stroke:#000000;stroke-width:0.8;\" x=\"37.55625\" xlink:href=\"#m0edd152d31\" y=\"258.337219\"/>\r\n      </g>\r\n     </g>\r\n     <g id=\"text_18\">\r\n      <!-- 7 -->\r\n      <g transform=\"translate(28.476562 260.9005)rotate(-90)scale(0.1 -0.1)\">\r\n       <use xlink:href=\"#DejaVuSans-37\"/>\r\n      </g>\r\n     </g>\r\n    </g>\r\n    <g id=\"ytick_8\">\r\n     <g id=\"line2d_18\">\r\n      <g>\r\n       <use style=\"stroke:#000000;stroke-width:0.8;\" x=\"37.55625\" xlink:href=\"#m0edd152d31\" y=\"296.389219\"/>\r\n      </g>\r\n     </g>\r\n     <g id=\"text_19\">\r\n      <!-- 8 -->\r\n      <g transform=\"translate(28.476562 298.9525)rotate(-90)scale(0.1 -0.1)\">\r\n       <use xlink:href=\"#DejaVuSans-38\"/>\r\n      </g>\r\n     </g>\r\n    </g>\r\n    <g id=\"ytick_9\">\r\n     <g id=\"line2d_19\">\r\n      <g>\r\n       <use style=\"stroke:#000000;stroke-width:0.8;\" x=\"37.55625\" xlink:href=\"#m0edd152d31\" y=\"334.441219\"/>\r\n      </g>\r\n     </g>\r\n     <g id=\"text_20\">\r\n      <!-- 9 -->\r\n      <g transform=\"translate(28.476562 337.0045)rotate(-90)scale(0.1 -0.1)\">\r\n       <use xlink:href=\"#DejaVuSans-39\"/>\r\n      </g>\r\n     </g>\r\n    </g>\r\n    <g id=\"ytick_10\">\r\n     <g id=\"line2d_20\">\r\n      <g>\r\n       <use style=\"stroke:#000000;stroke-width:0.8;\" x=\"37.55625\" xlink:href=\"#m0edd152d31\" y=\"372.493219\"/>\r\n      </g>\r\n     </g>\r\n     <g id=\"text_21\">\r\n      <!-- 10 -->\r\n      <g transform=\"translate(28.476562 381.419)rotate(-90)scale(0.1 -0.1)\">\r\n       <use xlink:href=\"#DejaVuSans-31\"/>\r\n       <use x=\"63.623047\" xlink:href=\"#DejaVuSans-30\"/>\r\n      </g>\r\n     </g>\r\n    </g>\r\n    <g id=\"text_22\">\r\n     <!-- pred -->\r\n     <g transform=\"translate(14.798437 212.627187)rotate(-90)scale(0.1 -0.1)\">\r\n      <defs>\r\n       <path d=\"M 1159 525 \r\nL 1159 -1331 \r\nL 581 -1331 \r\nL 581 3500 \r\nL 1159 3500 \r\nL 1159 2969 \r\nQ 1341 3281 1617 3432 \r\nQ 1894 3584 2278 3584 \r\nQ 2916 3584 3314 3078 \r\nQ 3713 2572 3713 1747 \r\nQ 3713 922 3314 415 \r\nQ 2916 -91 2278 -91 \r\nQ 1894 -91 1617 61 \r\nQ 1341 213 1159 525 \r\nz\r\nM 3116 1747 \r\nQ 3116 2381 2855 2742 \r\nQ 2594 3103 2138 3103 \r\nQ 1681 3103 1420 2742 \r\nQ 1159 2381 1159 1747 \r\nQ 1159 1113 1420 752 \r\nQ 1681 391 2138 391 \r\nQ 2594 391 2855 752 \r\nQ 3116 1113 3116 1747 \r\nz\r\n\" id=\"DejaVuSans-70\" transform=\"scale(0.015625)\"/>\r\n       <path d=\"M 2631 2963 \r\nQ 2534 3019 2420 3045 \r\nQ 2306 3072 2169 3072 \r\nQ 1681 3072 1420 2755 \r\nQ 1159 2438 1159 1844 \r\nL 1159 0 \r\nL 581 0 \r\nL 581 3500 \r\nL 1159 3500 \r\nL 1159 2956 \r\nQ 1341 3275 1631 3429 \r\nQ 1922 3584 2338 3584 \r\nQ 2397 3584 2469 3576 \r\nQ 2541 3569 2628 3553 \r\nL 2631 2963 \r\nz\r\n\" id=\"DejaVuSans-72\" transform=\"scale(0.015625)\"/>\r\n       <path d=\"M 3597 1894 \r\nL 3597 1613 \r\nL 953 1613 \r\nQ 991 1019 1311 708 \r\nQ 1631 397 2203 397 \r\nQ 2534 397 2845 478 \r\nQ 3156 559 3463 722 \r\nL 3463 178 \r\nQ 3153 47 2828 -22 \r\nQ 2503 -91 2169 -91 \r\nQ 1331 -91 842 396 \r\nQ 353 884 353 1716 \r\nQ 353 2575 817 3079 \r\nQ 1281 3584 2069 3584 \r\nQ 2775 3584 3186 3129 \r\nQ 3597 2675 3597 1894 \r\nz\r\nM 3022 2063 \r\nQ 3016 2534 2758 2815 \r\nQ 2500 3097 2075 3097 \r\nQ 1594 3097 1305 2825 \r\nQ 1016 2553 972 2059 \r\nL 3022 2063 \r\nz\r\n\" id=\"DejaVuSans-65\" transform=\"scale(0.015625)\"/>\r\n       <path d=\"M 2906 2969 \r\nL 2906 4863 \r\nL 3481 4863 \r\nL 3481 0 \r\nL 2906 0 \r\nL 2906 525 \r\nQ 2725 213 2448 61 \r\nQ 2172 -91 1784 -91 \r\nQ 1150 -91 751 415 \r\nQ 353 922 353 1747 \r\nQ 353 2572 751 3078 \r\nQ 1150 3584 1784 3584 \r\nQ 2172 3584 2448 3432 \r\nQ 2725 3281 2906 2969 \r\nz\r\nM 947 1747 \r\nQ 947 1113 1208 752 \r\nQ 1469 391 1925 391 \r\nQ 2381 391 2643 752 \r\nQ 2906 1113 2906 1747 \r\nQ 2906 2381 2643 2742 \r\nQ 2381 3103 1925 3103 \r\nQ 1469 3103 1208 2742 \r\nQ 947 2381 947 1747 \r\nz\r\n\" id=\"DejaVuSans-64\" transform=\"scale(0.015625)\"/>\r\n      </defs>\r\n      <use xlink:href=\"#DejaVuSans-70\"/>\r\n      <use x=\"63.476562\" xlink:href=\"#DejaVuSans-72\"/>\r\n      <use x=\"102.339844\" xlink:href=\"#DejaVuSans-65\"/>\r\n      <use x=\"163.863281\" xlink:href=\"#DejaVuSans-64\"/>\r\n     </g>\r\n    </g>\r\n   </g>\r\n   <g id=\"text_23\">\r\n    <!-- 6 -->\r\n    <g style=\"fill:#ffffff;\" transform=\"translate(56.695 32.784594)scale(0.1 -0.1)\">\r\n     <use xlink:href=\"#DejaVuSans-36\"/>\r\n    </g>\r\n   </g>\r\n   <g id=\"text_24\">\r\n    <!-- 0 -->\r\n    <g style=\"fill:#ffffff;\" transform=\"translate(101.335 32.784594)scale(0.1 -0.1)\">\r\n     <use xlink:href=\"#DejaVuSans-30\"/>\r\n    </g>\r\n   </g>\r\n   <g id=\"text_25\">\r\n    <!-- 0 -->\r\n    <g style=\"fill:#ffffff;\" transform=\"translate(145.975 32.784594)scale(0.1 -0.1)\">\r\n     <use xlink:href=\"#DejaVuSans-30\"/>\r\n    </g>\r\n   </g>\r\n   <g id=\"text_26\">\r\n    <!-- 0 -->\r\n    <g style=\"fill:#ffffff;\" transform=\"translate(190.615 32.784594)scale(0.1 -0.1)\">\r\n     <use xlink:href=\"#DejaVuSans-30\"/>\r\n    </g>\r\n   </g>\r\n   <g id=\"text_27\">\r\n    <!-- 17 -->\r\n    <g style=\"fill:#262626;\" transform=\"translate(232.07375 32.784594)scale(0.1 -0.1)\">\r\n     <use xlink:href=\"#DejaVuSans-31\"/>\r\n     <use x=\"63.623047\" xlink:href=\"#DejaVuSans-37\"/>\r\n    </g>\r\n   </g>\r\n   <g id=\"text_28\">\r\n    <!-- 0 -->\r\n    <g style=\"fill:#ffffff;\" transform=\"translate(279.895 32.784594)scale(0.1 -0.1)\">\r\n     <use xlink:href=\"#DejaVuSans-30\"/>\r\n    </g>\r\n   </g>\r\n   <g id=\"text_29\">\r\n    <!-- 0 -->\r\n    <g style=\"fill:#ffffff;\" transform=\"translate(324.535 32.784594)scale(0.1 -0.1)\">\r\n     <use xlink:href=\"#DejaVuSans-30\"/>\r\n    </g>\r\n   </g>\r\n   <g id=\"text_30\">\r\n    <!-- 0 -->\r\n    <g style=\"fill:#ffffff;\" transform=\"translate(369.175 32.784594)scale(0.1 -0.1)\">\r\n     <use xlink:href=\"#DejaVuSans-30\"/>\r\n    </g>\r\n   </g>\r\n   <g id=\"text_31\">\r\n    <!-- 0 -->\r\n    <g style=\"fill:#ffffff;\" transform=\"translate(413.815 32.784594)scale(0.1 -0.1)\">\r\n     <use xlink:href=\"#DejaVuSans-30\"/>\r\n    </g>\r\n   </g>\r\n   <g id=\"text_32\">\r\n    <!-- 0 -->\r\n    <g style=\"fill:#ffffff;\" transform=\"translate(458.455 32.784594)scale(0.1 -0.1)\">\r\n     <use xlink:href=\"#DejaVuSans-30\"/>\r\n    </g>\r\n   </g>\r\n   <g id=\"text_33\">\r\n    <!-- 2 -->\r\n    <g style=\"fill:#ffffff;\" transform=\"translate(56.695 70.836594)scale(0.1 -0.1)\">\r\n     <use xlink:href=\"#DejaVuSans-32\"/>\r\n    </g>\r\n   </g>\r\n   <g id=\"text_34\">\r\n    <!-- 15 -->\r\n    <g style=\"fill:#ffffff;\" transform=\"translate(98.15375 70.836594)scale(0.1 -0.1)\">\r\n     <use xlink:href=\"#DejaVuSans-31\"/>\r\n     <use x=\"63.623047\" xlink:href=\"#DejaVuSans-35\"/>\r\n    </g>\r\n   </g>\r\n   <g id=\"text_35\">\r\n    <!-- 3 -->\r\n    <g style=\"fill:#ffffff;\" transform=\"translate(145.975 70.836594)scale(0.1 -0.1)\">\r\n     <use xlink:href=\"#DejaVuSans-33\"/>\r\n    </g>\r\n   </g>\r\n   <g id=\"text_36\">\r\n    <!-- 1 -->\r\n    <g style=\"fill:#ffffff;\" transform=\"translate(190.615 70.836594)scale(0.1 -0.1)\">\r\n     <use xlink:href=\"#DejaVuSans-31\"/>\r\n    </g>\r\n   </g>\r\n   <g id=\"text_37\">\r\n    <!-- 0 -->\r\n    <g style=\"fill:#ffffff;\" transform=\"translate(235.255 70.836594)scale(0.1 -0.1)\">\r\n     <use xlink:href=\"#DejaVuSans-30\"/>\r\n    </g>\r\n   </g>\r\n   <g id=\"text_38\">\r\n    <!-- 0 -->\r\n    <g style=\"fill:#ffffff;\" transform=\"translate(279.895 70.836594)scale(0.1 -0.1)\">\r\n     <use xlink:href=\"#DejaVuSans-30\"/>\r\n    </g>\r\n   </g>\r\n   <g id=\"text_39\">\r\n    <!-- 0 -->\r\n    <g style=\"fill:#ffffff;\" transform=\"translate(324.535 70.836594)scale(0.1 -0.1)\">\r\n     <use xlink:href=\"#DejaVuSans-30\"/>\r\n    </g>\r\n   </g>\r\n   <g id=\"text_40\">\r\n    <!-- 0 -->\r\n    <g style=\"fill:#ffffff;\" transform=\"translate(369.175 70.836594)scale(0.1 -0.1)\">\r\n     <use xlink:href=\"#DejaVuSans-30\"/>\r\n    </g>\r\n   </g>\r\n   <g id=\"text_41\">\r\n    <!-- 0 -->\r\n    <g style=\"fill:#ffffff;\" transform=\"translate(413.815 70.836594)scale(0.1 -0.1)\">\r\n     <use xlink:href=\"#DejaVuSans-30\"/>\r\n    </g>\r\n   </g>\r\n   <g id=\"text_42\">\r\n    <!-- 0 -->\r\n    <g style=\"fill:#ffffff;\" transform=\"translate(458.455 70.836594)scale(0.1 -0.1)\">\r\n     <use xlink:href=\"#DejaVuSans-30\"/>\r\n    </g>\r\n   </g>\r\n   <g id=\"text_43\">\r\n    <!-- 0 -->\r\n    <g style=\"fill:#ffffff;\" transform=\"translate(56.695 108.888594)scale(0.1 -0.1)\">\r\n     <use xlink:href=\"#DejaVuSans-30\"/>\r\n    </g>\r\n   </g>\r\n   <g id=\"text_44\">\r\n    <!-- 7 -->\r\n    <g style=\"fill:#ffffff;\" transform=\"translate(101.335 108.888594)scale(0.1 -0.1)\">\r\n     <use xlink:href=\"#DejaVuSans-37\"/>\r\n    </g>\r\n   </g>\r\n   <g id=\"text_45\">\r\n    <!-- 13 -->\r\n    <g style=\"fill:#ffffff;\" transform=\"translate(142.79375 108.888594)scale(0.1 -0.1)\">\r\n     <use xlink:href=\"#DejaVuSans-31\"/>\r\n     <use x=\"63.623047\" xlink:href=\"#DejaVuSans-33\"/>\r\n    </g>\r\n   </g>\r\n   <g id=\"text_46\">\r\n    <!-- 0 -->\r\n    <g style=\"fill:#ffffff;\" transform=\"translate(190.615 108.888594)scale(0.1 -0.1)\">\r\n     <use xlink:href=\"#DejaVuSans-30\"/>\r\n    </g>\r\n   </g>\r\n   <g id=\"text_47\">\r\n    <!-- 0 -->\r\n    <g style=\"fill:#ffffff;\" transform=\"translate(235.255 108.888594)scale(0.1 -0.1)\">\r\n     <use xlink:href=\"#DejaVuSans-30\"/>\r\n    </g>\r\n   </g>\r\n   <g id=\"text_48\">\r\n    <!-- 0 -->\r\n    <g style=\"fill:#ffffff;\" transform=\"translate(279.895 108.888594)scale(0.1 -0.1)\">\r\n     <use xlink:href=\"#DejaVuSans-30\"/>\r\n    </g>\r\n   </g>\r\n   <g id=\"text_49\">\r\n    <!-- 0 -->\r\n    <g style=\"fill:#ffffff;\" transform=\"translate(324.535 108.888594)scale(0.1 -0.1)\">\r\n     <use xlink:href=\"#DejaVuSans-30\"/>\r\n    </g>\r\n   </g>\r\n   <g id=\"text_50\">\r\n    <!-- 0 -->\r\n    <g style=\"fill:#ffffff;\" transform=\"translate(369.175 108.888594)scale(0.1 -0.1)\">\r\n     <use xlink:href=\"#DejaVuSans-30\"/>\r\n    </g>\r\n   </g>\r\n   <g id=\"text_51\">\r\n    <!-- 0 -->\r\n    <g style=\"fill:#ffffff;\" transform=\"translate(413.815 108.888594)scale(0.1 -0.1)\">\r\n     <use xlink:href=\"#DejaVuSans-30\"/>\r\n    </g>\r\n   </g>\r\n   <g id=\"text_52\">\r\n    <!-- 0 -->\r\n    <g style=\"fill:#ffffff;\" transform=\"translate(458.455 108.888594)scale(0.1 -0.1)\">\r\n     <use xlink:href=\"#DejaVuSans-30\"/>\r\n    </g>\r\n   </g>\r\n   <g id=\"text_53\">\r\n    <!-- 0 -->\r\n    <g style=\"fill:#ffffff;\" transform=\"translate(56.695 146.940594)scale(0.1 -0.1)\">\r\n     <use xlink:href=\"#DejaVuSans-30\"/>\r\n    </g>\r\n   </g>\r\n   <g id=\"text_54\">\r\n    <!-- 0 -->\r\n    <g style=\"fill:#ffffff;\" transform=\"translate(101.335 146.940594)scale(0.1 -0.1)\">\r\n     <use xlink:href=\"#DejaVuSans-30\"/>\r\n    </g>\r\n   </g>\r\n   <g id=\"text_55\">\r\n    <!-- 0 -->\r\n    <g style=\"fill:#ffffff;\" transform=\"translate(145.975 146.940594)scale(0.1 -0.1)\">\r\n     <use xlink:href=\"#DejaVuSans-30\"/>\r\n    </g>\r\n   </g>\r\n   <g id=\"text_56\">\r\n    <!-- 20 -->\r\n    <g style=\"fill:#262626;\" transform=\"translate(187.43375 146.940594)scale(0.1 -0.1)\">\r\n     <use xlink:href=\"#DejaVuSans-32\"/>\r\n     <use x=\"63.623047\" xlink:href=\"#DejaVuSans-30\"/>\r\n    </g>\r\n   </g>\r\n   <g id=\"text_57\">\r\n    <!-- 0 -->\r\n    <g style=\"fill:#ffffff;\" transform=\"translate(235.255 146.940594)scale(0.1 -0.1)\">\r\n     <use xlink:href=\"#DejaVuSans-30\"/>\r\n    </g>\r\n   </g>\r\n   <g id=\"text_58\">\r\n    <!-- 0 -->\r\n    <g style=\"fill:#ffffff;\" transform=\"translate(279.895 146.940594)scale(0.1 -0.1)\">\r\n     <use xlink:href=\"#DejaVuSans-30\"/>\r\n    </g>\r\n   </g>\r\n   <g id=\"text_59\">\r\n    <!-- 0 -->\r\n    <g style=\"fill:#ffffff;\" transform=\"translate(324.535 146.940594)scale(0.1 -0.1)\">\r\n     <use xlink:href=\"#DejaVuSans-30\"/>\r\n    </g>\r\n   </g>\r\n   <g id=\"text_60\">\r\n    <!-- 0 -->\r\n    <g style=\"fill:#ffffff;\" transform=\"translate(369.175 146.940594)scale(0.1 -0.1)\">\r\n     <use xlink:href=\"#DejaVuSans-30\"/>\r\n    </g>\r\n   </g>\r\n   <g id=\"text_61\">\r\n    <!-- 0 -->\r\n    <g style=\"fill:#ffffff;\" transform=\"translate(413.815 146.940594)scale(0.1 -0.1)\">\r\n     <use xlink:href=\"#DejaVuSans-30\"/>\r\n    </g>\r\n   </g>\r\n   <g id=\"text_62\">\r\n    <!-- 0 -->\r\n    <g style=\"fill:#ffffff;\" transform=\"translate(458.455 146.940594)scale(0.1 -0.1)\">\r\n     <use xlink:href=\"#DejaVuSans-30\"/>\r\n    </g>\r\n   </g>\r\n   <g id=\"text_63\">\r\n    <!-- 0 -->\r\n    <g style=\"fill:#ffffff;\" transform=\"translate(56.695 184.992594)scale(0.1 -0.1)\">\r\n     <use xlink:href=\"#DejaVuSans-30\"/>\r\n    </g>\r\n   </g>\r\n   <g id=\"text_64\">\r\n    <!-- 0 -->\r\n    <g style=\"fill:#ffffff;\" transform=\"translate(101.335 184.992594)scale(0.1 -0.1)\">\r\n     <use xlink:href=\"#DejaVuSans-30\"/>\r\n    </g>\r\n   </g>\r\n   <g id=\"text_65\">\r\n    <!-- 0 -->\r\n    <g style=\"fill:#ffffff;\" transform=\"translate(145.975 184.992594)scale(0.1 -0.1)\">\r\n     <use xlink:href=\"#DejaVuSans-30\"/>\r\n    </g>\r\n   </g>\r\n   <g id=\"text_66\">\r\n    <!-- 0 -->\r\n    <g style=\"fill:#ffffff;\" transform=\"translate(190.615 184.992594)scale(0.1 -0.1)\">\r\n     <use xlink:href=\"#DejaVuSans-30\"/>\r\n    </g>\r\n   </g>\r\n   <g id=\"text_67\">\r\n    <!-- 20 -->\r\n    <g style=\"fill:#262626;\" transform=\"translate(232.07375 184.992594)scale(0.1 -0.1)\">\r\n     <use xlink:href=\"#DejaVuSans-32\"/>\r\n     <use x=\"63.623047\" xlink:href=\"#DejaVuSans-30\"/>\r\n    </g>\r\n   </g>\r\n   <g id=\"text_68\">\r\n    <!-- 0 -->\r\n    <g style=\"fill:#ffffff;\" transform=\"translate(279.895 184.992594)scale(0.1 -0.1)\">\r\n     <use xlink:href=\"#DejaVuSans-30\"/>\r\n    </g>\r\n   </g>\r\n   <g id=\"text_69\">\r\n    <!-- 0 -->\r\n    <g style=\"fill:#ffffff;\" transform=\"translate(324.535 184.992594)scale(0.1 -0.1)\">\r\n     <use xlink:href=\"#DejaVuSans-30\"/>\r\n    </g>\r\n   </g>\r\n   <g id=\"text_70\">\r\n    <!-- 0 -->\r\n    <g style=\"fill:#ffffff;\" transform=\"translate(369.175 184.992594)scale(0.1 -0.1)\">\r\n     <use xlink:href=\"#DejaVuSans-30\"/>\r\n    </g>\r\n   </g>\r\n   <g id=\"text_71\">\r\n    <!-- 0 -->\r\n    <g style=\"fill:#ffffff;\" transform=\"translate(413.815 184.992594)scale(0.1 -0.1)\">\r\n     <use xlink:href=\"#DejaVuSans-30\"/>\r\n    </g>\r\n   </g>\r\n   <g id=\"text_72\">\r\n    <!-- 0 -->\r\n    <g style=\"fill:#ffffff;\" transform=\"translate(458.455 184.992594)scale(0.1 -0.1)\">\r\n     <use xlink:href=\"#DejaVuSans-30\"/>\r\n    </g>\r\n   </g>\r\n   <g id=\"text_73\">\r\n    <!-- 0 -->\r\n    <g style=\"fill:#ffffff;\" transform=\"translate(56.695 223.044594)scale(0.1 -0.1)\">\r\n     <use xlink:href=\"#DejaVuSans-30\"/>\r\n    </g>\r\n   </g>\r\n   <g id=\"text_74\">\r\n    <!-- 0 -->\r\n    <g style=\"fill:#ffffff;\" transform=\"translate(101.335 223.044594)scale(0.1 -0.1)\">\r\n     <use xlink:href=\"#DejaVuSans-30\"/>\r\n    </g>\r\n   </g>\r\n   <g id=\"text_75\">\r\n    <!-- 0 -->\r\n    <g style=\"fill:#ffffff;\" transform=\"translate(145.975 223.044594)scale(0.1 -0.1)\">\r\n     <use xlink:href=\"#DejaVuSans-30\"/>\r\n    </g>\r\n   </g>\r\n   <g id=\"text_76\">\r\n    <!-- 0 -->\r\n    <g style=\"fill:#ffffff;\" transform=\"translate(190.615 223.044594)scale(0.1 -0.1)\">\r\n     <use xlink:href=\"#DejaVuSans-30\"/>\r\n    </g>\r\n   </g>\r\n   <g id=\"text_77\">\r\n    <!-- 0 -->\r\n    <g style=\"fill:#ffffff;\" transform=\"translate(235.255 223.044594)scale(0.1 -0.1)\">\r\n     <use xlink:href=\"#DejaVuSans-30\"/>\r\n    </g>\r\n   </g>\r\n   <g id=\"text_78\">\r\n    <!-- 8 -->\r\n    <g style=\"fill:#ffffff;\" transform=\"translate(279.895 223.044594)scale(0.1 -0.1)\">\r\n     <use xlink:href=\"#DejaVuSans-38\"/>\r\n    </g>\r\n   </g>\r\n   <g id=\"text_79\">\r\n    <!-- 4 -->\r\n    <g style=\"fill:#ffffff;\" transform=\"translate(324.535 223.044594)scale(0.1 -0.1)\">\r\n     <use xlink:href=\"#DejaVuSans-34\"/>\r\n    </g>\r\n   </g>\r\n   <g id=\"text_80\">\r\n    <!-- 4 -->\r\n    <g style=\"fill:#ffffff;\" transform=\"translate(369.175 223.044594)scale(0.1 -0.1)\">\r\n     <use xlink:href=\"#DejaVuSans-34\"/>\r\n    </g>\r\n   </g>\r\n   <g id=\"text_81\">\r\n    <!-- 0 -->\r\n    <g style=\"fill:#ffffff;\" transform=\"translate(413.815 223.044594)scale(0.1 -0.1)\">\r\n     <use xlink:href=\"#DejaVuSans-30\"/>\r\n    </g>\r\n   </g>\r\n   <g id=\"text_82\">\r\n    <!-- 6 -->\r\n    <g style=\"fill:#ffffff;\" transform=\"translate(458.455 223.044594)scale(0.1 -0.1)\">\r\n     <use xlink:href=\"#DejaVuSans-36\"/>\r\n    </g>\r\n   </g>\r\n   <g id=\"text_83\">\r\n    <!-- 0 -->\r\n    <g style=\"fill:#ffffff;\" transform=\"translate(56.695 261.096594)scale(0.1 -0.1)\">\r\n     <use xlink:href=\"#DejaVuSans-30\"/>\r\n    </g>\r\n   </g>\r\n   <g id=\"text_84\">\r\n    <!-- 0 -->\r\n    <g style=\"fill:#ffffff;\" transform=\"translate(101.335 261.096594)scale(0.1 -0.1)\">\r\n     <use xlink:href=\"#DejaVuSans-30\"/>\r\n    </g>\r\n   </g>\r\n   <g id=\"text_85\">\r\n    <!-- 0 -->\r\n    <g style=\"fill:#ffffff;\" transform=\"translate(145.975 261.096594)scale(0.1 -0.1)\">\r\n     <use xlink:href=\"#DejaVuSans-30\"/>\r\n    </g>\r\n   </g>\r\n   <g id=\"text_86\">\r\n    <!-- 0 -->\r\n    <g style=\"fill:#ffffff;\" transform=\"translate(190.615 261.096594)scale(0.1 -0.1)\">\r\n     <use xlink:href=\"#DejaVuSans-30\"/>\r\n    </g>\r\n   </g>\r\n   <g id=\"text_87\">\r\n    <!-- 0 -->\r\n    <g style=\"fill:#ffffff;\" transform=\"translate(235.255 261.096594)scale(0.1 -0.1)\">\r\n     <use xlink:href=\"#DejaVuSans-30\"/>\r\n    </g>\r\n   </g>\r\n   <g id=\"text_88\">\r\n    <!-- 0 -->\r\n    <g style=\"fill:#ffffff;\" transform=\"translate(279.895 261.096594)scale(0.1 -0.1)\">\r\n     <use xlink:href=\"#DejaVuSans-30\"/>\r\n    </g>\r\n   </g>\r\n   <g id=\"text_89\">\r\n    <!-- 19 -->\r\n    <g style=\"fill:#262626;\" transform=\"translate(321.35375 261.096594)scale(0.1 -0.1)\">\r\n     <use xlink:href=\"#DejaVuSans-31\"/>\r\n     <use x=\"63.623047\" xlink:href=\"#DejaVuSans-39\"/>\r\n    </g>\r\n   </g>\r\n   <g id=\"text_90\">\r\n    <!-- 1 -->\r\n    <g style=\"fill:#ffffff;\" transform=\"translate(369.175 261.096594)scale(0.1 -0.1)\">\r\n     <use xlink:href=\"#DejaVuSans-31\"/>\r\n    </g>\r\n   </g>\r\n   <g id=\"text_91\">\r\n    <!-- 1 -->\r\n    <g style=\"fill:#ffffff;\" transform=\"translate(413.815 261.096594)scale(0.1 -0.1)\">\r\n     <use xlink:href=\"#DejaVuSans-31\"/>\r\n    </g>\r\n   </g>\r\n   <g id=\"text_92\">\r\n    <!-- 0 -->\r\n    <g style=\"fill:#ffffff;\" transform=\"translate(458.455 261.096594)scale(0.1 -0.1)\">\r\n     <use xlink:href=\"#DejaVuSans-30\"/>\r\n    </g>\r\n   </g>\r\n   <g id=\"text_93\">\r\n    <!-- 0 -->\r\n    <g style=\"fill:#ffffff;\" transform=\"translate(56.695 299.148594)scale(0.1 -0.1)\">\r\n     <use xlink:href=\"#DejaVuSans-30\"/>\r\n    </g>\r\n   </g>\r\n   <g id=\"text_94\">\r\n    <!-- 0 -->\r\n    <g style=\"fill:#ffffff;\" transform=\"translate(101.335 299.148594)scale(0.1 -0.1)\">\r\n     <use xlink:href=\"#DejaVuSans-30\"/>\r\n    </g>\r\n   </g>\r\n   <g id=\"text_95\">\r\n    <!-- 0 -->\r\n    <g style=\"fill:#ffffff;\" transform=\"translate(145.975 299.148594)scale(0.1 -0.1)\">\r\n     <use xlink:href=\"#DejaVuSans-30\"/>\r\n    </g>\r\n   </g>\r\n   <g id=\"text_96\">\r\n    <!-- 0 -->\r\n    <g style=\"fill:#ffffff;\" transform=\"translate(190.615 299.148594)scale(0.1 -0.1)\">\r\n     <use xlink:href=\"#DejaVuSans-30\"/>\r\n    </g>\r\n   </g>\r\n   <g id=\"text_97\">\r\n    <!-- 0 -->\r\n    <g style=\"fill:#ffffff;\" transform=\"translate(235.255 299.148594)scale(0.1 -0.1)\">\r\n     <use xlink:href=\"#DejaVuSans-30\"/>\r\n    </g>\r\n   </g>\r\n   <g id=\"text_98\">\r\n    <!-- 0 -->\r\n    <g style=\"fill:#ffffff;\" transform=\"translate(279.895 299.148594)scale(0.1 -0.1)\">\r\n     <use xlink:href=\"#DejaVuSans-30\"/>\r\n    </g>\r\n   </g>\r\n   <g id=\"text_99\">\r\n    <!-- 12 -->\r\n    <g style=\"fill:#ffffff;\" transform=\"translate(321.35375 299.148594)scale(0.1 -0.1)\">\r\n     <use xlink:href=\"#DejaVuSans-31\"/>\r\n     <use x=\"63.623047\" xlink:href=\"#DejaVuSans-32\"/>\r\n    </g>\r\n   </g>\r\n   <g id=\"text_100\">\r\n    <!-- 7 -->\r\n    <g style=\"fill:#ffffff;\" transform=\"translate(369.175 299.148594)scale(0.1 -0.1)\">\r\n     <use xlink:href=\"#DejaVuSans-37\"/>\r\n    </g>\r\n   </g>\r\n   <g id=\"text_101\">\r\n    <!-- 0 -->\r\n    <g style=\"fill:#ffffff;\" transform=\"translate(413.815 299.148594)scale(0.1 -0.1)\">\r\n     <use xlink:href=\"#DejaVuSans-30\"/>\r\n    </g>\r\n   </g>\r\n   <g id=\"text_102\">\r\n    <!-- 0 -->\r\n    <g style=\"fill:#ffffff;\" transform=\"translate(458.455 299.148594)scale(0.1 -0.1)\">\r\n     <use xlink:href=\"#DejaVuSans-30\"/>\r\n    </g>\r\n   </g>\r\n   <g id=\"text_103\">\r\n    <!-- 0 -->\r\n    <g style=\"fill:#ffffff;\" transform=\"translate(56.695 337.200594)scale(0.1 -0.1)\">\r\n     <use xlink:href=\"#DejaVuSans-30\"/>\r\n    </g>\r\n   </g>\r\n   <g id=\"text_104\">\r\n    <!-- 0 -->\r\n    <g style=\"fill:#ffffff;\" transform=\"translate(101.335 337.200594)scale(0.1 -0.1)\">\r\n     <use xlink:href=\"#DejaVuSans-30\"/>\r\n    </g>\r\n   </g>\r\n   <g id=\"text_105\">\r\n    <!-- 0 -->\r\n    <g style=\"fill:#ffffff;\" transform=\"translate(145.975 337.200594)scale(0.1 -0.1)\">\r\n     <use xlink:href=\"#DejaVuSans-30\"/>\r\n    </g>\r\n   </g>\r\n   <g id=\"text_106\">\r\n    <!-- 0 -->\r\n    <g style=\"fill:#ffffff;\" transform=\"translate(190.615 337.200594)scale(0.1 -0.1)\">\r\n     <use xlink:href=\"#DejaVuSans-30\"/>\r\n    </g>\r\n   </g>\r\n   <g id=\"text_107\">\r\n    <!-- 0 -->\r\n    <g style=\"fill:#ffffff;\" transform=\"translate(235.255 337.200594)scale(0.1 -0.1)\">\r\n     <use xlink:href=\"#DejaVuSans-30\"/>\r\n    </g>\r\n   </g>\r\n   <g id=\"text_108\">\r\n    <!-- 0 -->\r\n    <g style=\"fill:#ffffff;\" transform=\"translate(279.895 337.200594)scale(0.1 -0.1)\">\r\n     <use xlink:href=\"#DejaVuSans-30\"/>\r\n    </g>\r\n   </g>\r\n   <g id=\"text_109\">\r\n    <!-- 0 -->\r\n    <g style=\"fill:#ffffff;\" transform=\"translate(324.535 337.200594)scale(0.1 -0.1)\">\r\n     <use xlink:href=\"#DejaVuSans-30\"/>\r\n    </g>\r\n   </g>\r\n   <g id=\"text_110\">\r\n    <!-- 0 -->\r\n    <g style=\"fill:#ffffff;\" transform=\"translate(369.175 337.200594)scale(0.1 -0.1)\">\r\n     <use xlink:href=\"#DejaVuSans-30\"/>\r\n    </g>\r\n   </g>\r\n   <g id=\"text_111\">\r\n    <!-- 20 -->\r\n    <g style=\"fill:#262626;\" transform=\"translate(410.63375 337.200594)scale(0.1 -0.1)\">\r\n     <use xlink:href=\"#DejaVuSans-32\"/>\r\n     <use x=\"63.623047\" xlink:href=\"#DejaVuSans-30\"/>\r\n    </g>\r\n   </g>\r\n   <g id=\"text_112\">\r\n    <!-- 0 -->\r\n    <g style=\"fill:#ffffff;\" transform=\"translate(458.455 337.200594)scale(0.1 -0.1)\">\r\n     <use xlink:href=\"#DejaVuSans-30\"/>\r\n    </g>\r\n   </g>\r\n   <g id=\"text_113\">\r\n    <!-- 0 -->\r\n    <g style=\"fill:#ffffff;\" transform=\"translate(56.695 375.252594)scale(0.1 -0.1)\">\r\n     <use xlink:href=\"#DejaVuSans-30\"/>\r\n    </g>\r\n   </g>\r\n   <g id=\"text_114\">\r\n    <!-- 0 -->\r\n    <g style=\"fill:#ffffff;\" transform=\"translate(101.335 375.252594)scale(0.1 -0.1)\">\r\n     <use xlink:href=\"#DejaVuSans-30\"/>\r\n    </g>\r\n   </g>\r\n   <g id=\"text_115\">\r\n    <!-- 0 -->\r\n    <g style=\"fill:#ffffff;\" transform=\"translate(145.975 375.252594)scale(0.1 -0.1)\">\r\n     <use xlink:href=\"#DejaVuSans-30\"/>\r\n    </g>\r\n   </g>\r\n   <g id=\"text_116\">\r\n    <!-- 0 -->\r\n    <g style=\"fill:#ffffff;\" transform=\"translate(190.615 375.252594)scale(0.1 -0.1)\">\r\n     <use xlink:href=\"#DejaVuSans-30\"/>\r\n    </g>\r\n   </g>\r\n   <g id=\"text_117\">\r\n    <!-- 0 -->\r\n    <g style=\"fill:#ffffff;\" transform=\"translate(235.255 375.252594)scale(0.1 -0.1)\">\r\n     <use xlink:href=\"#DejaVuSans-30\"/>\r\n    </g>\r\n   </g>\r\n   <g id=\"text_118\">\r\n    <!-- 3 -->\r\n    <g style=\"fill:#ffffff;\" transform=\"translate(279.895 375.252594)scale(0.1 -0.1)\">\r\n     <use xlink:href=\"#DejaVuSans-33\"/>\r\n    </g>\r\n   </g>\r\n   <g id=\"text_119\">\r\n    <!-- 0 -->\r\n    <g style=\"fill:#ffffff;\" transform=\"translate(324.535 375.252594)scale(0.1 -0.1)\">\r\n     <use xlink:href=\"#DejaVuSans-30\"/>\r\n    </g>\r\n   </g>\r\n   <g id=\"text_120\">\r\n    <!-- 0 -->\r\n    <g style=\"fill:#ffffff;\" transform=\"translate(369.175 375.252594)scale(0.1 -0.1)\">\r\n     <use xlink:href=\"#DejaVuSans-30\"/>\r\n    </g>\r\n   </g>\r\n   <g id=\"text_121\">\r\n    <!-- 0 -->\r\n    <g style=\"fill:#ffffff;\" transform=\"translate(413.815 375.252594)scale(0.1 -0.1)\">\r\n     <use xlink:href=\"#DejaVuSans-30\"/>\r\n    </g>\r\n   </g>\r\n   <g id=\"text_122\">\r\n    <!-- 17 -->\r\n    <g style=\"fill:#262626;\" transform=\"translate(455.27375 375.252594)scale(0.1 -0.1)\">\r\n     <use xlink:href=\"#DejaVuSans-31\"/>\r\n     <use x=\"63.623047\" xlink:href=\"#DejaVuSans-37\"/>\r\n    </g>\r\n   </g>\r\n  </g>\r\n  <g id=\"axes_2\">\r\n   <g id=\"patch_3\">\r\n    <path d=\"M 511.85625 391.519219 \r\nL 530.88225 391.519219 \r\nL 530.88225 10.999219 \r\nL 511.85625 10.999219 \r\nz\r\n\" style=\"fill:#ffffff;\"/>\r\n   </g>\r\n   <g id=\"patch_4\">\r\n    <path clip-path=\"url(#p5eefde625c)\" d=\"M 511.85625 391.519219 \r\nL 511.85625 390.032812 \r\nL 511.85625 12.485625 \r\nL 511.85625 10.999219 \r\nL 530.88225 10.999219 \r\nL 530.88225 12.485625 \r\nL 530.88225 390.032812 \r\nL 530.88225 391.519219 \r\nL 530.88225 391.519219 \r\nz\r\n\" style=\"fill:#ffffff;stroke:#ffffff;stroke-linejoin:miter;stroke-width:0.01;\"/>\r\n   </g>\r\n   <image height=\"380\" id=\"imaged5f216deb2\" transform=\"scale(1 -1)translate(0 -380)\" width=\"19\" x=\"512\" xlink:href=\"data:image/png;base64,\r\niVBORw0KGgoAAAANSUhEUgAAABMAAAF8CAYAAAAthYD3AAAB90lEQVR4nO2ciW3EMAwERZ/SRPrv81IDjQEywC4LWGi0/HyP5/Pz+z1Q3KGUzjkPqHXuDHc2VAzGPFLM+2TcmRgTdRO8MzNm3dyGGJMsdBaTzDPxdCLzLAeTO1zn5j6K+UKsmOswY2rnZregF2JazK4H/yzm/fiGXZBbAdswY4rdBMXq5jrEbobsGuTRuiDvA25BYsxuQWsxTEpem1wUcx8xtZnhZkjSknmWsx6AYr2zdZj7GfYTo7r5JmIeXkkx73Qiyyknabmom/tIcXNIN72YrJva9aADZS9mbkEcpzhpU3baL+kmJiVvQdydqVtQRGrAha5NDVLMjEkmLdg26H4WUZsDPgjcBxQzTycvZoiboJ3ondHfo4NuknfWpN3HHXB1NLvJYlrdZGsTPJu4NsnUMA8UL2Zb0AsxTMtdm5iWuwJAsaOdTrCbnJgYkzxbMfeRgwn+YqmY62AxD4lJ3hmNiYpZMeGktWKySav9xx+KaXaT0xNjptQmuAaZMdm5aX35ENuCtO9YgjttRgVkFDpZm2LMEDfZ2hRvjqibGW1bPJ1AN8XP6GwLinAzpQVl1KY4aclXYogxm7R7sWJuw4zprc2Q9cCKmVIBMx9MTIzZCliHGlObtHVzLZbSgjIGihmTyzM1JlqbEZhmN5u0W7Em7Tq8SfsHsT0ut03D2bAAAAAASUVORK5CYII=\" y=\"-11\"/>\r\n   <g id=\"matplotlib.axis_3\"/>\r\n   <g id=\"matplotlib.axis_4\">\r\n    <g id=\"ytick_11\">\r\n     <g id=\"line2d_21\">\r\n      <defs>\r\n       <path d=\"M 0 0 \r\nL 3.5 0 \r\n\" id=\"m727e21e1fa\" style=\"stroke:#000000;stroke-width:0.8;\"/>\r\n      </defs>\r\n      <g>\r\n       <use style=\"stroke:#000000;stroke-width:0.8;\" x=\"530.88225\" xlink:href=\"#m727e21e1fa\" y=\"391.519219\"/>\r\n      </g>\r\n     </g>\r\n     <g id=\"text_123\">\r\n      <!-- 0.0 -->\r\n      <g transform=\"translate(537.88225 395.318437)scale(0.1 -0.1)\">\r\n       <defs>\r\n        <path d=\"M 684 794 \r\nL 1344 794 \r\nL 1344 0 \r\nL 684 0 \r\nL 684 794 \r\nz\r\n\" id=\"DejaVuSans-2e\" transform=\"scale(0.015625)\"/>\r\n       </defs>\r\n       <use xlink:href=\"#DejaVuSans-30\"/>\r\n       <use x=\"63.623047\" xlink:href=\"#DejaVuSans-2e\"/>\r\n       <use x=\"95.410156\" xlink:href=\"#DejaVuSans-30\"/>\r\n      </g>\r\n     </g>\r\n    </g>\r\n    <g id=\"ytick_12\">\r\n     <g id=\"line2d_22\">\r\n      <g>\r\n       <use style=\"stroke:#000000;stroke-width:0.8;\" x=\"530.88225\" xlink:href=\"#m727e21e1fa\" y=\"343.954219\"/>\r\n      </g>\r\n     </g>\r\n     <g id=\"text_124\">\r\n      <!-- 2.5 -->\r\n      <g transform=\"translate(537.88225 347.753437)scale(0.1 -0.1)\">\r\n       <use xlink:href=\"#DejaVuSans-32\"/>\r\n       <use x=\"63.623047\" xlink:href=\"#DejaVuSans-2e\"/>\r\n       <use x=\"95.410156\" xlink:href=\"#DejaVuSans-35\"/>\r\n      </g>\r\n     </g>\r\n    </g>\r\n    <g id=\"ytick_13\">\r\n     <g id=\"line2d_23\">\r\n      <g>\r\n       <use style=\"stroke:#000000;stroke-width:0.8;\" x=\"530.88225\" xlink:href=\"#m727e21e1fa\" y=\"296.389219\"/>\r\n      </g>\r\n     </g>\r\n     <g id=\"text_125\">\r\n      <!-- 5.0 -->\r\n      <g transform=\"translate(537.88225 300.188437)scale(0.1 -0.1)\">\r\n       <use xlink:href=\"#DejaVuSans-35\"/>\r\n       <use x=\"63.623047\" xlink:href=\"#DejaVuSans-2e\"/>\r\n       <use x=\"95.410156\" xlink:href=\"#DejaVuSans-30\"/>\r\n      </g>\r\n     </g>\r\n    </g>\r\n    <g id=\"ytick_14\">\r\n     <g id=\"line2d_24\">\r\n      <g>\r\n       <use style=\"stroke:#000000;stroke-width:0.8;\" x=\"530.88225\" xlink:href=\"#m727e21e1fa\" y=\"248.824219\"/>\r\n      </g>\r\n     </g>\r\n     <g id=\"text_126\">\r\n      <!-- 7.5 -->\r\n      <g transform=\"translate(537.88225 252.623437)scale(0.1 -0.1)\">\r\n       <use xlink:href=\"#DejaVuSans-37\"/>\r\n       <use x=\"63.623047\" xlink:href=\"#DejaVuSans-2e\"/>\r\n       <use x=\"95.410156\" xlink:href=\"#DejaVuSans-35\"/>\r\n      </g>\r\n     </g>\r\n    </g>\r\n    <g id=\"ytick_15\">\r\n     <g id=\"line2d_25\">\r\n      <g>\r\n       <use style=\"stroke:#000000;stroke-width:0.8;\" x=\"530.88225\" xlink:href=\"#m727e21e1fa\" y=\"201.259219\"/>\r\n      </g>\r\n     </g>\r\n     <g id=\"text_127\">\r\n      <!-- 10.0 -->\r\n      <g transform=\"translate(537.88225 205.058437)scale(0.1 -0.1)\">\r\n       <use xlink:href=\"#DejaVuSans-31\"/>\r\n       <use x=\"63.623047\" xlink:href=\"#DejaVuSans-30\"/>\r\n       <use x=\"127.246094\" xlink:href=\"#DejaVuSans-2e\"/>\r\n       <use x=\"159.033203\" xlink:href=\"#DejaVuSans-30\"/>\r\n      </g>\r\n     </g>\r\n    </g>\r\n    <g id=\"ytick_16\">\r\n     <g id=\"line2d_26\">\r\n      <g>\r\n       <use style=\"stroke:#000000;stroke-width:0.8;\" x=\"530.88225\" xlink:href=\"#m727e21e1fa\" y=\"153.694219\"/>\r\n      </g>\r\n     </g>\r\n     <g id=\"text_128\">\r\n      <!-- 12.5 -->\r\n      <g transform=\"translate(537.88225 157.493437)scale(0.1 -0.1)\">\r\n       <use xlink:href=\"#DejaVuSans-31\"/>\r\n       <use x=\"63.623047\" xlink:href=\"#DejaVuSans-32\"/>\r\n       <use x=\"127.246094\" xlink:href=\"#DejaVuSans-2e\"/>\r\n       <use x=\"159.033203\" xlink:href=\"#DejaVuSans-35\"/>\r\n      </g>\r\n     </g>\r\n    </g>\r\n    <g id=\"ytick_17\">\r\n     <g id=\"line2d_27\">\r\n      <g>\r\n       <use style=\"stroke:#000000;stroke-width:0.8;\" x=\"530.88225\" xlink:href=\"#m727e21e1fa\" y=\"106.129219\"/>\r\n      </g>\r\n     </g>\r\n     <g id=\"text_129\">\r\n      <!-- 15.0 -->\r\n      <g transform=\"translate(537.88225 109.928437)scale(0.1 -0.1)\">\r\n       <use xlink:href=\"#DejaVuSans-31\"/>\r\n       <use x=\"63.623047\" xlink:href=\"#DejaVuSans-35\"/>\r\n       <use x=\"127.246094\" xlink:href=\"#DejaVuSans-2e\"/>\r\n       <use x=\"159.033203\" xlink:href=\"#DejaVuSans-30\"/>\r\n      </g>\r\n     </g>\r\n    </g>\r\n    <g id=\"ytick_18\">\r\n     <g id=\"line2d_28\">\r\n      <g>\r\n       <use style=\"stroke:#000000;stroke-width:0.8;\" x=\"530.88225\" xlink:href=\"#m727e21e1fa\" y=\"58.564219\"/>\r\n      </g>\r\n     </g>\r\n     <g id=\"text_130\">\r\n      <!-- 17.5 -->\r\n      <g transform=\"translate(537.88225 62.363438)scale(0.1 -0.1)\">\r\n       <use xlink:href=\"#DejaVuSans-31\"/>\r\n       <use x=\"63.623047\" xlink:href=\"#DejaVuSans-37\"/>\r\n       <use x=\"127.246094\" xlink:href=\"#DejaVuSans-2e\"/>\r\n       <use x=\"159.033203\" xlink:href=\"#DejaVuSans-35\"/>\r\n      </g>\r\n     </g>\r\n    </g>\r\n    <g id=\"ytick_19\">\r\n     <g id=\"line2d_29\">\r\n      <g>\r\n       <use style=\"stroke:#000000;stroke-width:0.8;\" x=\"530.88225\" xlink:href=\"#m727e21e1fa\" y=\"10.999219\"/>\r\n      </g>\r\n     </g>\r\n     <g id=\"text_131\">\r\n      <!-- 20.0 -->\r\n      <g transform=\"translate(537.88225 14.798437)scale(0.1 -0.1)\">\r\n       <use xlink:href=\"#DejaVuSans-32\"/>\r\n       <use x=\"63.623047\" xlink:href=\"#DejaVuSans-30\"/>\r\n       <use x=\"127.246094\" xlink:href=\"#DejaVuSans-2e\"/>\r\n       <use x=\"159.033203\" xlink:href=\"#DejaVuSans-30\"/>\r\n      </g>\r\n     </g>\r\n    </g>\r\n   </g>\r\n   <g id=\"LineCollection_1\"/>\r\n   <g id=\"patch_5\">\r\n    <path d=\"M 511.85625 391.519219 \r\nL 511.85625 390.032812 \r\nL 511.85625 12.485625 \r\nL 511.85625 10.999219 \r\nL 530.88225 10.999219 \r\nL 530.88225 12.485625 \r\nL 530.88225 390.032812 \r\nL 530.88225 391.519219 \r\nz\r\n\" style=\"fill:none;\"/>\r\n   </g>\r\n  </g>\r\n </g>\r\n <defs>\r\n  <clipPath id=\"p1f92864cfe\">\r\n   <rect height=\"380.52\" width=\"446.4\" x=\"37.55625\" y=\"10.999219\"/>\r\n  </clipPath>\r\n  <clipPath id=\"p5eefde625c\">\r\n   <rect height=\"380.52\" width=\"19.026\" x=\"511.85625\" y=\"10.999219\"/>\r\n  </clipPath>\r\n </defs>\r\n</svg>\r\n",
      "image/png": "[encoded data removed]"
     },
     "metadata": {
      "needs_background": "light"
     }
    }
   ],
   "metadata": {}
  },
  {
   "cell_type": "code",
   "execution_count": 41,
   "source": [
    "fig.savefig(\"../conf_3.png\", dpi=300)"
   ],
   "outputs": [],
   "metadata": {}
  },
  {
   "cell_type": "code",
   "execution_count": 42,
   "source": [
    "from collections import Counter\r\n",
    "Counter(y_preds[0])"
   ],
   "outputs": [
    {
     "output_type": "execute_result",
     "data": {
      "text/plain": [
       "Counter({2: 27, 3: 27, 5: 33, 6: 7, 10: 22, 8: 28, 9: 20, 4: 33, 7: 30})"
      ]
     },
     "metadata": {},
     "execution_count": 42
    }
   ],
   "metadata": {}
  },
  {
   "cell_type": "code",
   "execution_count": null,
   "source": [],
   "outputs": [],
   "metadata": {}
  }
 ],
 "metadata": {
  "orig_nbformat": 4,
  "language_info": {
   "name": "python",
   "version": "3.8.5",
   "mimetype": "text/x-python",
   "codemirror_mode": {
    "name": "ipython",
    "version": 3
   },
   "pygments_lexer": "ipython3",
   "nbconvert_exporter": "python",
   "file_extension": ".py"
  },
  "kernelspec": {
   "name": "python3",
   "display_name": "Python 3.8.5 64-bit"
  },
  "interpreter": {
   "hash": "1baa965d5efe3ac65b79dfc60c0d706280b1da80fedb7760faf2759126c4f253"
  }
 },
 "nbformat": 4,
 "nbformat_minor": 2
}