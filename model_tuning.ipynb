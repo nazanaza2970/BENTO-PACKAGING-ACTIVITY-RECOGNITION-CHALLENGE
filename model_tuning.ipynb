{
 "cells": [
  {
   "cell_type": "code",
   "execution_count": 105,
   "source": [
    "import glob\r\n",
    "from datetime import datetime\r\n",
    "import os\r\n",
    "\r\n",
    "import numpy as np\r\n",
    "import pandas as pd\r\n",
    "from matplotlib import pyplot as plt\r\n",
    "from scipy import stats, signal\r\n",
    "from scipy.stats import mode\r\n",
    "from scipy.fft import fft\r\n",
    "from sklearn.ensemble import RandomForestClassifier as RFC, ExtraTreesClassifier as ETC\r\n",
    "from sklearn.model_selection import RepeatedStratifiedKFold, cross_val_score, StratifiedKFold, train_test_split\r\n",
    "from sklearn.metrics import accuracy_score\r\n",
    "\r\n",
    "import lightgbm as lgb\r\n",
    "import xgboost as xgb\r\n",
    "\r\n",
    "from tqdm import tqdm, trange"
   ],
   "outputs": [],
   "metadata": {}
  },
  {
   "cell_type": "markdown",
   "source": [
    "# Generic functions (usable for all test cases)"
   ],
   "metadata": {}
  },
  {
   "cell_type": "markdown",
   "source": [
    "## Core functions (Change path here)"
   ],
   "metadata": {}
  },
  {
   "cell_type": "code",
   "execution_count": 2,
   "source": [
    "def segmentation(df, overlap_rate, time_window):\r\n",
    "    seg_data = []\r\n",
    "    #convert overlap rate to step for sliding window\r\n",
    "    overlap = int((1 - overlap_rate)*time_window)\r\n",
    "    # interpolate\r\n",
    "    df = df.interpolate().ffill().fillna(0)\r\n",
    "    for i in range(0, len(df)-time_window+1, overlap):\r\n",
    "        seg_data.append(df.loc[i:i+time_window-1, :].copy().reset_index(drop=True))\r\n",
    "    return seg_data\r\n",
    "\r\n",
    "\r\n",
    "def rename_columns(df):\r\n",
    "    df.columns = [\r\n",
    "        \"FH_X\", \"FH_Y\", \"FH_Z\",     #1\r\n",
    "        \"TH_X\", \"TH_Y\", \"TH_Z\",     #2\r\n",
    "        \"RH_X\", \"RH_Y\", \"RH_Z\",     #3\r\n",
    "        \"RS_X\", \"RS_Y\", \"RS_Z\",     #4\r\n",
    "        \"RO_X\", \"RO_Y\", \"RO_Z\",     #5\r\n",
    "        \"RE_X\", \"RE_Y\", \"RE_Z\",     #6\r\n",
    "        \"RW_X\", \"RW_Y\", \"RW_Z\",     #7\r\n",
    "        \"LS_X\", \"LS_Y\", \"LS_Z\",     #8\r\n",
    "        \"LE_X\", \"LE_Y\", \"LE_Z\",     #9\r\n",
    "        \"LW_X\", \"LW_Y\", \"LW_Z\",     #10\r\n",
    "        \"RA_X\", \"RA_Y\", \"RA_Z\",     #11\r\n",
    "        \"LA_X\", \"LA_Y\", \"LA_Z\",     #12\r\n",
    "        \"VS_X\", \"VS_Y\", \"VS_Z\",     #13\r\n",
    "        \"subject_id\", \"activity\",   # Other columns\r\n",
    "    ]\r\n",
    "    return df\r\n",
    "\r\n",
    "\r\n",
    "def dataloader(overlap, window_size, verbose=True):\r\n",
    "    if verbose:\r\n",
    "        print(\"loading the data...\", end=\"\\t\")\r\n",
    "    data_list = []\r\n",
    "    file_lengths = {1: [], 2: [], 3: []}\r\n",
    "    ##### CHANGE PATH ######\r\n",
    "    files = tqdm(glob.glob(\"../TrainData/*/*/*.csv\")) if verbose else glob.glob(\"../TrainData/*/*/*.csv\")\r\n",
    "    ##### ##### ##### ######\r\n",
    "    for file in files:\r\n",
    "        tempdf = pd.read_csv(file)\r\n",
    "        tempdf = rename_columns(tempdf)\r\n",
    "        segmented_data = segmentation(tempdf, overlap, window_size)\r\n",
    "        if len(segmented_data)>0:\r\n",
    "            person = segmented_data[0].reset_index(drop=True).loc[0, \"subject_id\"]\r\n",
    "            file_lengths[person].append(len(segmented_data))   \r\n",
    "        data_list.extend(segmented_data)\r\n",
    "    return data_list, file_lengths\r\n",
    "\r\n",
    "\r\n",
    "def feature_extractor(data_list, verbose=True):\r\n",
    "    if verbose:\r\n",
    "        print(f\"extracting the features...\", end=\"  \")\r\n",
    "    X, y = {1:[], 2:[], 3:[]}, {1:[], 2:[], 3:[]}\r\n",
    "    num_range = trange(0,len(data_list)) if verbose else range(0,len(data_list))\r\n",
    "    for j in num_range:\r\n",
    "        #extract only xyz columns\r\n",
    "        person = data_list[j].loc[0, \"subject_id\"]\r\n",
    "        x_data = data_list[j].drop(columns=[\"subject_id\",\"activity\"])\r\n",
    "        X[person].append(get_features(x_data))\r\n",
    "        y[person].append(data_list[j].reset_index(drop=True).loc[0, \"activity\"])\r\n",
    "    return X, y\r\n",
    "\r\n",
    "\r\n",
    "def majority_voting(predictions, file_lengths):\r\n",
    "    filtered_predictions = []\r\n",
    "    index = 0\r\n",
    "    for length in file_lengths:\r\n",
    "        file_pred = predictions[index:index+length]\r\n",
    "        modes = mode(file_pred)\r\n",
    "        majority_choice = modes.mode[0]\r\n",
    "        filtered_predictions.extend([majority_choice]*length)\r\n",
    "        index += length\r\n",
    "    return filtered_predictions"
   ],
   "outputs": [],
   "metadata": {}
  },
  {
   "cell_type": "code",
   "execution_count": 36,
   "source": [
    "def get_processed_dataset(overlap_rate, window_size, verbose=True):\r\n",
    "    data_list, file_lengths = dataloader(overlap_rate, window_size, verbose=verbose)\r\n",
    "    stream_list = []\r\n",
    "    for df in data_list:\r\n",
    "        stream_list.append(get_streams(df))\r\n",
    "    X, y = feature_extractor(stream_list, verbose=verbose)\r\n",
    "    return X, y, file_lengths\r\n",
    "\r\n",
    "\r\n",
    "def model_evaluator(model, X, y, file_lengths, n_repeats=10, voting=True, verbose=True):\r\n",
    "    scores = []\r\n",
    "    num_range = trange(n_repeats) if verbose else range(n_repeats)\r\n",
    "    for _ in num_range:\r\n",
    "        for p1, p2, p3 in [(1,2,3), (2,3,1), (3,1,2)]:\r\n",
    "            X_test, y_test = X[p1], y[p1]\r\n",
    "            X_train = X[p2] + X[p3]\r\n",
    "            y_train = y[p2] + y[p3]\r\n",
    "            # print(f\"training model for person {p1}/3...\", end=\"\\t\")\r\n",
    "            model.fit(X_train, y_train)\r\n",
    "            pred = model.predict(X_test)\r\n",
    "            if voting:\r\n",
    "                filtered_pred = majority_voting(pred, file_lengths[p1])\r\n",
    "                scores.append(accuracy_score(y_test, filtered_pred))\r\n",
    "            else:\r\n",
    "                scores.append(accuracy_score(y_test, pred))\r\n",
    "    if verbose:\r\n",
    "        print(f\"Mean Score: {np.mean(scores)}\")\r\n",
    "        print(f\"Std Score: {np.std(scores)}\")\r\n",
    "        print(f\"Min Score: {np.min(scores)}\")\r\n",
    "        print(f\"Max Score: {np.max(scores)}\")\r\n",
    "    return scores\r\n"
   ],
   "outputs": [],
   "metadata": {}
  },
  {
   "cell_type": "code",
   "execution_count": 3,
   "source": [
    "def LOOCV_train_evaluate(model, overlap_rate, window_size, voting=True, n_repeats=1, verbose=True):\r\n",
    "    scores = []\r\n",
    "    data_list, file_lengths = dataloader(overlap_rate, window_size, verbose=verbose)\r\n",
    "    stream_list = []\r\n",
    "    for df in data_list:\r\n",
    "        stream_list.append(get_streams(df))\r\n",
    "    X, y = feature_extractor(stream_list, verbose=verbose)\r\n",
    "    num_range = trange(n_repeats) if verbose else range(n_repeats)\r\n",
    "    for _ in num_range:\r\n",
    "        for p1, p2, p3 in [(1,2,3), (2,3,1), (3,1,2)]:\r\n",
    "            X_test, y_test = X[p1], y[p1]\r\n",
    "            X_train = X[p2] + X[p3]\r\n",
    "            y_train = y[p2] + y[p3]\r\n",
    "            # print(f\"training model for person {p1}/3...\", end=\"\\t\")\r\n",
    "            model.fit(X_train, y_train)\r\n",
    "            pred = model.predict(X_test)\r\n",
    "            if voting:\r\n",
    "                filtered_pred = majority_voting(pred, file_lengths[p1])\r\n",
    "                scores.append(accuracy_score(y_test, filtered_pred))\r\n",
    "            else:\r\n",
    "                scores.append(accuracy_score(y_test, pred))\r\n",
    "    if verbose:\r\n",
    "        print(f\"\\nMean Score: {np.mean(scores)}\")\r\n",
    "    return scores\r\n",
    "\r\n",
    "\r\n",
    "def GridSearch(parameters, csvpath = \"..\", filename=\"gridCV_results\", n_repeats=7, verbose=False, progress=True):\r\n",
    "    score_df = pd.DataFrame({\"model\": [], \"window_size\": [], \"overlap_rate\": [], \"n_repeats\":[], \r\n",
    "                            \"avg_score\": [], \"std_score\": [], \"scores\":[]})\r\n",
    "    models, window_sizes, overlap_rates = parameters[\"model\"], parameters[\"window_size\"], parameters[\"overlap_rate\"]\r\n",
    "    combinations = [(i,j,k) for i in models for j in window_sizes for k in overlap_rates]\r\n",
    "    if progress:\r\n",
    "        combinations = tqdm(combinations)\r\n",
    "    for combination in combinations:\r\n",
    "        model, window_size, overlap_rate = combination\r\n",
    "        scores = LOOCV_train_evaluate(model, overlap_rate, window_size, n_repeats=n_repeats, verbose=verbose)\r\n",
    "        score_df = score_df.append({\"model\": model.__str__(), \"window_size\": window_size, \r\n",
    "                    \"overlap_rate\": overlap_rate, \"n_repeats\": n_repeats, \"avg_score\": np.mean(scores),\r\n",
    "                    \"std_score\": np.array(scores).std(),\"scores\": scores}, ignore_index=True)\r\n",
    "    savepath = f\"{csvpath}/{filename}_{str(datetime.now())[:-7]}.csv\".replace(\":\", \".\")\r\n",
    "    score_df.to_csv(savepath, index=False)\r\n",
    "    print(f\"result exported to: {savepath}\")\r\n"
   ],
   "outputs": [],
   "metadata": {}
  },
  {
   "cell_type": "markdown",
   "source": [
    "## Stream Extractors"
   ],
   "metadata": {}
  },
  {
   "cell_type": "code",
   "execution_count": 4,
   "source": [
    "def get_speed_acc(x_data):\r\n",
    "    x_data = x_data.drop(columns=[\"activity\", \"subject_id\"])\r\n",
    "    speed = x_data.diff().fillna(0)\r\n",
    "    acc = speed.diff().fillna(0)\r\n",
    "    speed.columns = [f\"{col}_speed\" for col in speed.columns]\r\n",
    "    acc.columns = [f\"{col}_acc\" for col in acc.columns]\r\n",
    "    return speed, acc\r\n",
    "\r\n",
    "def get_speed_acc_jerk(x_data):\r\n",
    "    x_data = x_data.drop(columns=[\"activity\", \"subject_id\"])\r\n",
    "    speed = x_data.diff().fillna(0)\r\n",
    "    acc = speed.diff().fillna(0)\r\n",
    "    jerk = acc.diff().fillna(0)\r\n",
    "    speed.columns = [f\"{col}_speed\" for col in speed.columns]\r\n",
    "    acc.columns = [f\"{col}_acc\" for col in acc.columns]\r\n",
    "    jerk.columns = [f\"{col}_jerk\" for col in acc.columns]\r\n",
    "    return speed, acc, jerk"
   ],
   "outputs": [],
   "metadata": {}
  },
  {
   "cell_type": "code",
   "execution_count": 5,
   "source": [
    "def joint_distance(x_data, joint1, joint2):\r\n",
    "    \"\"\"\r\n",
    "    returns the distance between two joints. \r\n",
    "    \"\"\"\r\n",
    "    x1, y1, z1 = x_data[f\"{joint1}_X\"], x_data[f\"{joint1}_Y\"], x_data[f\"{joint1}_Z\"]\r\n",
    "    x2, y2, z2 = x_data[f\"{joint2}_X\"], x_data[f\"{joint2}_Y\"], x_data[f\"{joint2}_Z\"]\r\n",
    "    distance = np.sqrt((x2-x1)**2 + (y2-y1)**2 + (z2-z1)**2)\r\n",
    "    return distance\r\n",
    "\r\n",
    "def get_all_joint_distances(x_data):\r\n",
    "    \"\"\"\r\n",
    "    calculates all the necessary joint distances from the `x_data`, \r\n",
    "    adds columns to it and returns the modified `x_data`.\r\n",
    "    the two joints should not be essentially consecutive, \r\n",
    "    because the distance between two consecutive joints is always constant.\r\n",
    "    For example, distance between left_wrist and left_elbow is always constant.\r\n",
    "    \"\"\"\r\n",
    "    # joints\r\n",
    "    # Front head        ->  left shoulder       (1->8)\r\n",
    "    x_data[\"dist_FH_LS\"] = joint_distance(x_data, \"FH\", \"LS\")\r\n",
    "    # Front head        ->  right shoulder      (1->4)\r\n",
    "    x_data[\"dist_FH_RS\"] = joint_distance(x_data, \"FH\", \"RS\")\r\n",
    "    # left shoulder     ->  left wrist          (8->10)\r\n",
    "    x_data[\"dist_LS_LW\"] = joint_distance(x_data, \"LS\", \"LW\")\r\n",
    "    # right shoulder    ->  right wrist         (4->7)\r\n",
    "    x_data[\"dist_RS_RW\"] = joint_distance(x_data, \"RS\", \"RW\")\r\n",
    "    # v sacral          ->  left elbow          (13->9)\r\n",
    "    x_data[\"dist_VS_LE\"] = joint_distance(x_data, \"VS\", \"LE\")\r\n",
    "    # v sacral          ->  right elbow         (13->6)\r\n",
    "    x_data[\"dist_VS_RE\"] = joint_distance(x_data, \"VS\", \"RE\")\r\n",
    "    # v sacral          ->  left wrist          (13->10)\r\n",
    "    x_data[\"dist_VS_LW\"] = joint_distance(x_data, \"VS\", \"LW\")\r\n",
    "    # v sacral          ->  right wrist         (13->7)\r\n",
    "    x_data[\"dist_VS_RW\"] = joint_distance(x_data, \"VS\", \"RW\")\r\n",
    "    # v sacral          ->  rear head           (13->3)\r\n",
    "    x_data[\"dist_VS_RH\"] = joint_distance(x_data, \"VS\", \"RH\")\r\n",
    "    # v sacral          ->  top head            (13->2)\r\n",
    "    x_data[\"dist_VS_TH\"] = joint_distance(x_data, \"VS\", \"TH\")\r\n",
    "    # left wrist        ->  right wrist         (10->7)\r\n",
    "    x_data[\"dist_LW_RW\"] = joint_distance(x_data, \"LW\", \"RW\")\r\n",
    "    # left asis         ->  left wrist          (12->10)\r\n",
    "    x_data[\"dist_LA_LW\"] = joint_distance(x_data, \"LA\", \"LW\")\r\n",
    "    # right asis        ->  right wrist         (11->7)\r\n",
    "    x_data[\"dist_RA_RW\"] = joint_distance(x_data, \"RA\", \"RW\")\r\n",
    "    # left wrist        ->  top head            (10->2)\r\n",
    "    x_data[\"dist_LW_TH\"] = joint_distance(x_data, \"LW\", \"TH\")\r\n",
    "    # right wrist       ->  top head            (7->2)\r\n",
    "    x_data[\"dist_RW_TH\"] = joint_distance(x_data, \"RW\", \"TH\")\r\n",
    "    # top head          ->  left asis           (2->12)\r\n",
    "    x_data[\"dist_TH_LA\"] = joint_distance(x_data, \"TH\", \"LA\")\r\n",
    "    return x_data\r\n",
    "\r\n"
   ],
   "outputs": [],
   "metadata": {}
  },
  {
   "cell_type": "code",
   "execution_count": 6,
   "source": [
    "def joint_angle(x_data, joint1, joint2, joint3):\r\n",
    "    x1, y1, z1 = x_data[f\"{joint1}_X\"], x_data[f\"{joint1}_Y\"], x_data[f\"{joint1}_Z\"]\r\n",
    "    x2, y2, z2 = x_data[f\"{joint2}_X\"], x_data[f\"{joint2}_Y\"], x_data[f\"{joint2}_Z\"]\r\n",
    "    x3, y3, z3 = x_data[f\"{joint3}_X\"], x_data[f\"{joint3}_Y\"], x_data[f\"{joint3}_Z\"]\r\n",
    "    v1 = np.array([x2-x1, y2-y1, z2-z1]).T\r\n",
    "    v2 = np.array([x3-x2, y3-y2, z3-z2]).T\r\n",
    "    v1_unit = v1/np.expand_dims(np.linalg.norm(v1, axis=1), axis=1)\r\n",
    "    v2_unit = v2/np.expand_dims(np.linalg.norm(v2, axis=1), axis=1)\r\n",
    "    angle = np.arccos(np.sum(v1_unit*v2_unit, axis=1)) # dot multiplication\r\n",
    "    return angle\r\n",
    "\r\n",
    "def get_all_joint_angles(x_data):\r\n",
    "    # joints\r\n",
    "    # left shoulder     ->  left elbow      ->  left wrist      (8->9->10)\r\n",
    "    x_data[\"angle_LS_LE_LW\"] = joint_angle(x_data, \"LS\", \"LE\", \"LW\")\r\n",
    "    # right shoulder    ->  right elbow     ->  right wrist     (4->6->7)\r\n",
    "    x_data[\"angle_RS_RE_RW\"] = joint_angle(x_data, \"RS\", \"RE\", \"RW\")\r\n",
    "    # right shoulder    ->  left shoulder   ->  front head      (4->8->1)\r\n",
    "    x_data[\"angle_RS_LS_FH\"] = joint_angle(x_data, \"RS\", \"LS\", \"FH\")\r\n",
    "    # right shoulder    ->  left shoulder   ->  left elbow      (4->8->9)\r\n",
    "    x_data[\"angle_RS_LS_LE\"] = joint_angle(x_data, \"RS\", \"LS\", \"LE\")\r\n",
    "    # left shoulder     ->  right shoulder  ->  right elbow     (8->4->6)\r\n",
    "    x_data[\"angle_LS_RS_RE\"] = joint_angle(x_data, \"LS\", \"RS\", \"RE\")\r\n",
    "    # v sacral          ->  right offset    ->  rear head       (13->5->3)\r\n",
    "    x_data[\"angle_VS_RO_RH\"] = joint_angle(x_data, \"VS\", \"RO\", \"RH\")\r\n",
    "    # vsacral           ->  top head        ->  front head      (13->2->1)\r\n",
    "    x_data[\"angle_VS_TH_FH\"] = joint_angle(x_data, \"VS\", \"TH\", \"FH\")\r\n",
    "    # v sacral          ->  left shoulder   ->  left elbow      (13->8->9)\r\n",
    "    x_data[\"angle_VS_LS_LE\"] = joint_angle(x_data, \"VS\", \"LS\", \"LE\")\r\n",
    "    # v sacral          ->  right shoulder  ->  right elbow     (13->4->6)\r\n",
    "    x_data[\"angle_VS_RS_RE\"] = joint_angle(x_data, \"VS\", \"RS\", \"RE\")\r\n",
    "    # left asis         ->  left shoulder   ->  left elbow      (12->8->9)\r\n",
    "    x_data[\"angle_LA_LS_LE\"] = joint_angle(x_data, \"LA\", \"LS\", \"LE\")\r\n",
    "    # right asis        -> right shoulder   ->  right elbow     (11->4->6)\r\n",
    "    x_data[\"angle_RA_RS_RE\"] = joint_angle(x_data, \"RA\", \"RS\", \"RE\")\r\n",
    "    return x_data"
   ],
   "outputs": [],
   "metadata": {}
  },
  {
   "cell_type": "code",
   "execution_count": 7,
   "source": [
    "def plane_angles(x_data, joint1, joint2):\r\n",
    "    x1, y1, z1 = x_data[f\"{joint1}_X\"], x_data[f\"{joint1}_Y\"], x_data[f\"{joint1}_Z\"]\r\n",
    "    x2, y2, z2 = x_data[f\"{joint2}_X\"], x_data[f\"{joint2}_Y\"], x_data[f\"{joint2}_Z\"]\r\n",
    "    v = np.array([x2-x1, y2-y1, z2-z1]).T\r\n",
    "    vx = np.array([1, 0, 0])\r\n",
    "    vy = np.array([0, 1, 0])\r\n",
    "    vz = np.array([0, 0, 1])\r\n",
    "    v_unit = v/np.expand_dims(np.linalg.norm(v, axis=1), axis=1)\r\n",
    "    angle_x = np.arccos(np.sum(v_unit*vx, axis=1)) \r\n",
    "    angle_y = np.arccos(np.sum(v_unit*vy, axis=1)) \r\n",
    "    angle_z = np.arccos(np.sum(v_unit*vz, axis=1)) \r\n",
    "    return angle_x, angle_y, angle_z\r\n",
    "\r\n",
    "def get_all_angles_with_plane(x_data):\r\n",
    "    # joints\r\n",
    "    # arm angles: left shoulder     ->  left elbow \r\n",
    "    x_data[\"angle_x_LS_LE\"], x_data[\"angle_y_LS_LE\"], x_data[\"angle_z_LS_LE\"] = plane_angles(x_data, \"LS\", \"LE\")\r\n",
    "    # forearm angles: left elbow    ->  left  wrist\r\n",
    "    x_data[\"angle_x_LE_LW\"], x_data[\"angle_y_LE_LW\"], x_data[\"angle_z_LE_LW\"] = plane_angles(x_data, \"LE\", \"LW\")\r\n",
    "    # arm angles: right shoulder    ->  right elbow \r\n",
    "    x_data[\"angle_x_RS_RE\"], x_data[\"angle_y_RS_RE\"], x_data[\"angle_z_RS_RE\"] = plane_angles(x_data, \"RS\", \"RE\")\r\n",
    "    # forearm angles: right elbow   ->  right  wrist\r\n",
    "    x_data[\"angle_x_RE_RW\"], x_data[\"angle_y_RE_RW\"], x_data[\"angle_z_RE_RW\"] = plane_angles(x_data, \"RE\", \"RW\")\r\n",
    "    # backbone angles: v sacral     ->  rear head\r\n",
    "    x_data[\"angle_x_VS_RH\"], x_data[\"angle_y_VS_RH\"], x_data[\"angle_z_VS_RH\"] = plane_angles(x_data, \"VS\", \"RH\")\r\n",
    "    return x_data"
   ],
   "outputs": [],
   "metadata": {}
  },
  {
   "cell_type": "markdown",
   "source": [
    "## Pre-processed functions (add/remove streams/features here)"
   ],
   "metadata": {}
  },
  {
   "cell_type": "code",
   "execution_count": 29,
   "source": [
    "def current_best():\r\n",
    "    def get_streams(x_data):\r\n",
    "        speed, acc = get_speed_acc(x_data)\r\n",
    "        x_data = pd.concat([x_data, speed, acc], axis=1)\r\n",
    "        # speed, acc, jerk = get_speed_acc_jerk(x_data)\r\n",
    "        # x_data = pd.concat([x_data, speed, acc, jerk], axis=1)\r\n",
    "        x_data = get_all_joint_distances(x_data)\r\n",
    "        # x_data = get_all_joint_angles(x_data)\r\n",
    "        # x_data = get_all_angles_with_plane(x_data)\r\n",
    "        return x_data\r\n",
    "\r\n",
    "    def get_features(x_data):\r\n",
    "        features = []\r\n",
    "        cols = x_data.columns.tolist()\r\n",
    "        #Calculate features (STD, Average, Max, Min, Median, Variance) for each data columns X Y Z \r\n",
    "        for k in cols:\r\n",
    "            features.append(x_data[k].std(ddof=0))\r\n",
    "            # features.append(np.average(x_data[k]))\r\n",
    "            features.append(np.max(x_data[k]))\r\n",
    "            features.append(np.min(x_data[k]))\r\n",
    "            features.append(np.median(x_data[k]))        \r\n",
    "            # features.append(np.var(x_data[k]))\r\n",
    "            # fd = np.abs(fft(np.array(x_data[k])))**2\r\n",
    "            # features.append(stats.skew(fd))\r\n",
    "            # features.append(stats.kurtosis(fd))\r\n",
    "        return features\r\n",
    "    joint_names = ['FH', 'TH', 'RH', 'RS', 'RO', 'RE', 'RW', 'LS', 'LE', 'LW', 'RA', 'LA', 'VS']\r\n",
    "    pos_cols = [i+j for i in joint_names for j in [\"_X\", \"_Y\", \"_Z\"]]\r\n",
    "    speed_cols = [f\"{col}_speed\" for col in pos_cols]\r\n",
    "    acc_cols = [f\"{col}_acc\" for col in pos_cols]\r\n",
    "    distance_cols = ['dist_FH_LS', 'dist_FH_RS', 'dist_LS_LW', 'dist_RS_RW', 'dist_VS_LE', 'dist_VS_RE', \r\n",
    "        'dist_VS_LW', 'dist_VS_RW','dist_VS_RH', 'dist_VS_TH', 'dist_LW_RW', 'dist_LA_LW', 'dist_RA_RW', \r\n",
    "        'dist_LW_TH', 'dist_RW_TH', 'dist_TH_LA']\r\n",
    "    colnames = pos_cols + speed_cols + acc_cols + distance_cols\r\n",
    "    return get_streams, get_features, colnames"
   ],
   "outputs": [],
   "metadata": {}
  },
  {
   "cell_type": "markdown",
   "source": [
    "# Random Forest"
   ],
   "metadata": {}
  },
  {
   "cell_type": "code",
   "execution_count": 13,
   "source": [
    "get_streams, get_features, colnames = current_best()\r\n",
    "overlap_rate, window_size = 0.75, 3000\r\n",
    "X, y, file_lengths = get_processed_dataset(overlap_rate, window_size)"
   ],
   "outputs": [
    {
     "output_type": "stream",
     "name": "stdout",
     "text": [
      "loading the data...\t"
     ]
    },
    {
     "output_type": "stream",
     "name": "stderr",
     "text": [
      "100%|██████████| 151/151 [00:16<00:00,  9.00it/s]\n"
     ]
    },
    {
     "output_type": "stream",
     "name": "stdout",
     "text": [
      "extracting the features...  "
     ]
    },
    {
     "output_type": "stream",
     "name": "stderr",
     "text": [
      "100%|██████████| 736/736 [01:18<00:00,  9.43it/s]\n"
     ]
    }
   ],
   "metadata": {}
  },
  {
   "cell_type": "code",
   "execution_count": 40,
   "source": [
    "model = RFC(600, criterion=\"entropy\", n_jobs=-1)\r\n",
    "scores = model_evaluator(model, X, y, file_lengths, n_repeats=10, voting=True, verbose=True)\r\n"
   ],
   "outputs": [
    {
     "output_type": "stream",
     "name": "stderr",
     "text": [
      "100%|██████████| 10/10 [02:13<00:00, 13.34s/it]"
     ]
    },
    {
     "output_type": "stream",
     "name": "stdout",
     "text": [
      "Mean Score: 0.6996705457295657\n",
      "Std Score: 0.04504596375149795\n",
      "Min Score: 0.5903083700440529\n",
      "Max Score: 0.759075907590759\n"
     ]
    },
    {
     "output_type": "stream",
     "name": "stderr",
     "text": [
      "\n"
     ]
    }
   ],
   "metadata": {}
  },
  {
   "cell_type": "code",
   "execution_count": 43,
   "source": [
    "model = RFC(1200, criterion=\"gini\", max_depth=12, n_jobs=-1)\r\n",
    "scores = model_evaluator(model, X, y, file_lengths, n_repeats=10, voting=True, verbose=True)\r\n"
   ],
   "outputs": [
    {
     "output_type": "stream",
     "name": "stderr",
     "text": [
      "100%|██████████| 10/10 [02:05<00:00, 12.56s/it]"
     ]
    },
    {
     "output_type": "stream",
     "name": "stdout",
     "text": [
      "Mean Score: 0.715566886015833\n",
      "Std Score: 0.03187665295686838\n",
      "Min Score: 0.6343612334801763\n",
      "Max Score: 0.7961165048543689\n"
     ]
    },
    {
     "output_type": "stream",
     "name": "stderr",
     "text": [
      "\n"
     ]
    }
   ],
   "metadata": {}
  },
  {
   "cell_type": "code",
   "execution_count": 45,
   "source": [
    "model = RFC(1200, criterion=\"gini\", min_samples_split=6, n_jobs=-1)\r\n",
    "scores = model_evaluator(model, X, y, file_lengths, n_repeats=10, voting=True, verbose=True)\r\n"
   ],
   "outputs": [
    {
     "output_type": "stream",
     "name": "stderr",
     "text": [
      "100%|██████████| 10/10 [02:21<00:00, 14.17s/it]"
     ]
    },
    {
     "output_type": "stream",
     "name": "stdout",
     "text": [
      "Mean Score: 0.7183364356708543\n",
      "Std Score: 0.030369686801219008\n",
      "Min Score: 0.6563876651982379\n",
      "Max Score: 0.7572815533980582\n"
     ]
    },
    {
     "output_type": "stream",
     "name": "stderr",
     "text": [
      "\n"
     ]
    }
   ],
   "metadata": {}
  },
  {
   "cell_type": "markdown",
   "source": [
    "# Extra Trees"
   ],
   "metadata": {}
  },
  {
   "cell_type": "code",
   "execution_count": 13,
   "source": [
    "get_streams, get_features, colnames = current_best()\r\n",
    "overlap_rate, window_size = 0.75, 3000\r\n",
    "X, y, file_lengths = get_processed_dataset(overlap_rate, window_size)\r\n",
    "ft_names = [i+j for i in colnames for j in [\"_std\", \"_max\", \"_min\", \"_med\"]]"
   ],
   "outputs": [
    {
     "output_type": "stream",
     "name": "stdout",
     "text": [
      "loading the data...\t"
     ]
    },
    {
     "output_type": "stream",
     "name": "stderr",
     "text": [
      "100%|██████████| 151/151 [00:16<00:00,  9.00it/s]\n"
     ]
    },
    {
     "output_type": "stream",
     "name": "stdout",
     "text": [
      "extracting the features...  "
     ]
    },
    {
     "output_type": "stream",
     "name": "stderr",
     "text": [
      "100%|██████████| 736/736 [01:18<00:00,  9.43it/s]\n"
     ]
    }
   ],
   "metadata": {}
  },
  {
   "cell_type": "code",
   "execution_count": 60,
   "source": [
    "model = ETC(1800, criterion=\"gini\", min_samples_split=4, max_depth=12, n_jobs=-1)\r\n",
    "scores = model_evaluator(model, X, y, file_lengths, n_repeats=10, voting=True, verbose=True)"
   ],
   "outputs": [
    {
     "output_type": "stream",
     "name": "stderr",
     "text": [
      "100%|██████████| 10/10 [02:20<00:00, 14.03s/it]"
     ]
    },
    {
     "output_type": "stream",
     "name": "stdout",
     "text": [
      "Mean Score: 0.7363534084472131\n",
      "Std Score: 0.034126056701583855\n",
      "Min Score: 0.6651982378854625\n",
      "Max Score: 0.8203883495145631\n"
     ]
    },
    {
     "output_type": "stream",
     "name": "stderr",
     "text": [
      "\n"
     ]
    }
   ],
   "metadata": {}
  },
  {
   "cell_type": "code",
   "execution_count": 72,
   "source": [
    "model = ETC(1800, criterion=\"gini\", max_depth=12, n_jobs=-1)\r\n",
    "scores = model_evaluator(model, X, y, file_lengths, n_repeats=10, voting=True, verbose=True)\r\n"
   ],
   "outputs": [
    {
     "output_type": "stream",
     "name": "stderr",
     "text": [
      "100%|██████████| 10/10 [02:11<00:00, 13.16s/it]"
     ]
    },
    {
     "output_type": "stream",
     "name": "stdout",
     "text": [
      "Mean Score: 0.7338456671893613\n",
      "Std Score: 0.03239559131793469\n",
      "Min Score: 0.6519823788546255\n",
      "Max Score: 0.8155339805825242\n"
     ]
    },
    {
     "output_type": "stream",
     "name": "stderr",
     "text": [
      "\n"
     ]
    }
   ],
   "metadata": {}
  },
  {
   "cell_type": "code",
   "execution_count": 74,
   "source": [
    "imps = dict(zip(ft_names, model.feature_importances_))"
   ],
   "outputs": [],
   "metadata": {}
  },
  {
   "cell_type": "code",
   "execution_count": 84,
   "source": [
    "with open(\"../imps_asc.txt\", \"w\") as f:\r\n",
    "    for i in pd.Series(imps).sort_values().index.tolist():\r\n",
    "        f.write(f\"{i:15}\\t{imps[i]:15}\\n\")"
   ],
   "outputs": [],
   "metadata": {}
  },
  {
   "cell_type": "code",
   "execution_count": 99,
   "source": [
    "x = X.copy()\r\n",
    "for p in [1,2,3]:\r\n",
    "    x[p] = pd.DataFrame(np.array(x[p]), columns=ft_names)\r\n",
    "    x[p].drop(columns=to_be_removed, inplace=True)\r\n",
    "    x[p] = x[p].to_numpy().tolist()\r\n",
    "to_be_removed = pd.Series(imps).sort_values().index.tolist()[:75]\r\n"
   ],
   "outputs": [],
   "metadata": {}
  },
  {
   "cell_type": "code",
   "execution_count": 100,
   "source": [
    "model = ETC(1800, criterion=\"gini\", max_depth=12, n_jobs=-1)\r\n",
    "scores = model_evaluator(model, x, y, file_lengths, n_repeats=10, voting=True, verbose=True)\r\n"
   ],
   "outputs": [
    {
     "output_type": "stream",
     "name": "stderr",
     "text": [
      "100%|██████████| 10/10 [02:03<00:00, 12.31s/it]"
     ]
    },
    {
     "output_type": "stream",
     "name": "stdout",
     "text": [
      "Mean Score: 0.7265674497392854\n",
      "Std Score: 0.026565626386254284\n",
      "Min Score: 0.6696035242290749\n",
      "Max Score: 0.7766990291262136\n"
     ]
    },
    {
     "output_type": "stream",
     "name": "stderr",
     "text": [
      "\n"
     ]
    }
   ],
   "metadata": {}
  },
  {
   "cell_type": "code",
   "execution_count": 101,
   "source": [
    "model = ETC(1800, criterion=\"gini\", max_depth=12, n_jobs=-1)\r\n",
    "scores = model_evaluator(model, X, y, file_lengths, n_repeats=10, voting=True, verbose=True)\r\n"
   ],
   "outputs": [
    {
     "output_type": "stream",
     "name": "stderr",
     "text": [
      "100%|██████████| 10/10 [02:11<00:00, 13.11s/it]"
     ]
    },
    {
     "output_type": "stream",
     "name": "stdout",
     "text": [
      "Mean Score: 0.7288466079831541\n",
      "Std Score: 0.030193467747322445\n",
      "Min Score: 0.6475770925110133\n",
      "Max Score: 0.8106796116504854\n"
     ]
    },
    {
     "output_type": "stream",
     "name": "stderr",
     "text": [
      "\n"
     ]
    }
   ],
   "metadata": {}
  },
  {
   "cell_type": "code",
   "execution_count": null,
   "source": [
    "start, end = 0, 100\r\n",
    "plt.figure(figsize=(20,5));\r\n",
    "plt.bar(list(imps.keys())[start:end], list(imps.values())[start:end]);\r\n",
    "plt.xticks(rotation=90);"
   ],
   "outputs": [],
   "metadata": {}
  },
  {
   "cell_type": "markdown",
   "source": [
    "# LightGBM"
   ],
   "metadata": {}
  },
  {
   "cell_type": "code",
   "execution_count": 102,
   "source": [
    "def lgbm_evaluator(model, X, y, file_lengths, n_repeats=10, voting=True, verbose=True):\r\n",
    "    scores = []\r\n",
    "    num_range = trange(n_repeats) if verbose else range(n_repeats)\r\n",
    "    for _ in num_range:\r\n",
    "        for p1, p2, p3 in [(1,2,3), (2,3,1), (3,1,2)]:\r\n",
    "            X_test, y_test = X[p1], y[p1]\r\n",
    "            X_train = X[p2] + X[p3]\r\n",
    "            y_train = y[p2] + y[p3]\r\n",
    "            X_train, X_test = np.array(X_train), np.array(X_test)\r\n",
    "            y_train, y_test = np.array(y_train), np.array(y_test)\r\n",
    "            # train_data = lgb.Dataset(X_train, label=y_train, feature_name=ft_names)\r\n",
    "            # test_data = lgb.Dataset(X_test, label=y_test, feature_name=ft_names)\r\n",
    "            model.fit(X_train, y_train)\r\n",
    "            pred = model.predict(X_test)\r\n",
    "            if voting:\r\n",
    "                filtered_pred = majority_voting(pred, file_lengths[p1])\r\n",
    "                scores.append(accuracy_score(y_test, filtered_pred))\r\n",
    "            else:\r\n",
    "                scores.append(accuracy_score(y_test, pred))\r\n",
    "    if verbose:\r\n",
    "        print(f\"Mean Score: {np.mean(scores)}\")\r\n",
    "        print(f\"Std Score: {np.std(scores)}\")\r\n",
    "        print(f\"Min Score: {np.min(scores)}\")\r\n",
    "        print(f\"Max Score: {np.max(scores)}\")\r\n",
    "    return scores"
   ],
   "outputs": [],
   "metadata": {}
  },
  {
   "cell_type": "code",
   "execution_count": 13,
   "source": [
    "get_streams, get_features, colnames = current_best()\r\n",
    "ft_names = [i+j for i in colnames for j in [\"_std\", \"_max\", \"_min\", \"_med\"]]\r\n",
    "overlap_rate, window_size = 0.75, 3000\r\n",
    "X, y, file_lengths = get_processed_dataset(overlap_rate, window_size)"
   ],
   "outputs": [
    {
     "output_type": "stream",
     "name": "stdout",
     "text": [
      "loading the data...\t"
     ]
    },
    {
     "output_type": "stream",
     "name": "stderr",
     "text": [
      "100%|██████████| 151/151 [00:16<00:00,  9.00it/s]\n"
     ]
    },
    {
     "output_type": "stream",
     "name": "stdout",
     "text": [
      "extracting the features...  "
     ]
    },
    {
     "output_type": "stream",
     "name": "stderr",
     "text": [
      "100%|██████████| 736/736 [01:18<00:00,  9.43it/s]\n"
     ]
    }
   ],
   "metadata": {}
  },
  {
   "cell_type": "code",
   "execution_count": 104,
   "source": [
    "model = lgb.LGBMClassifier(n_estimators=600, n_jobs=-1)\r\n",
    "scores = lgbm_evaluator(model, X, y, file_lengths, n_repeats=10, voting=True, verbose=True)"
   ],
   "outputs": [
    {
     "output_type": "stream",
     "name": "stderr",
     "text": [
      "100%|██████████| 10/10 [05:20<00:00, 32.04s/it]"
     ]
    },
    {
     "output_type": "stream",
     "name": "stdout",
     "text": [
      "Mean Score: 0.6370220636964683\n",
      "Std Score: 0.06150786171117007\n",
      "Min Score: 0.5814977973568282\n",
      "Max Score: 0.7227722772277227\n"
     ]
    },
    {
     "output_type": "stream",
     "name": "stderr",
     "text": [
      "\n"
     ]
    }
   ],
   "metadata": {}
  },
  {
   "cell_type": "code",
   "execution_count": 107,
   "source": [
    "for num_leaves in [45, 20]:\r\n",
    "    print(\"num_leaves: \", num_leaves)\r\n",
    "    model = lgb.LGBMClassifier(n_estimators=100, n_jobs=-1, objective=\"multiclass\", num_leaves=num_leaves)\r\n",
    "    scores = lgbm_evaluator(model, X, y, file_lengths, ft_names, n_repeats=10, voting=True, verbose=True)"
   ],
   "outputs": [
    {
     "output_type": "stream",
     "name": "stdout",
     "text": [
      "num_leaves:  45\n"
     ]
    },
    {
     "output_type": "stream",
     "name": "stderr",
     "text": [
      "100%|██████████| 10/10 [03:54<00:00, 23.41s/it]\n"
     ]
    },
    {
     "output_type": "stream",
     "name": "stdout",
     "text": [
      "Mean Score: 0.6351950087442771\n",
      "Std Score: 0.04569828538378031\n",
      "Min Score: 0.5991189427312775\n",
      "Max Score: 0.6996699669966997\n",
      "num_leaves:  20\n"
     ]
    },
    {
     "output_type": "stream",
     "name": "stderr",
     "text": [
      "100%|██████████| 10/10 [03:52<00:00, 23.21s/it]"
     ]
    },
    {
     "output_type": "stream",
     "name": "stdout",
     "text": [
      "Mean Score: 0.5871531466905726\n",
      "Std Score: 0.046134842274195266\n",
      "Min Score: 0.5242718446601942\n",
      "Max Score: 0.6336633663366337\n"
     ]
    },
    {
     "output_type": "stream",
     "name": "stderr",
     "text": [
      "\n"
     ]
    }
   ],
   "metadata": {}
  },
  {
   "cell_type": "markdown",
   "source": [
    "# XGBoost"
   ],
   "metadata": {}
  },
  {
   "cell_type": "code",
   "execution_count": 1,
   "source": [
    "def xgb_evaluator(model, X, y, file_lengths, n_repeats=10, voting=True, verbose=True):\r\n",
    "    scores = []\r\n",
    "    num_range = trange(n_repeats) if verbose else range(n_repeats)\r\n",
    "    for _ in num_range:\r\n",
    "        for p1, p2, p3 in [(1,2,3), (2,3,1), (3,1,2)]:\r\n",
    "            X_test, y_test = X[p1], y[p1]\r\n",
    "            X_train = X[p2] + X[p3]\r\n",
    "            y_train = y[p2] + y[p3]\r\n",
    "            X_train, X_test = np.array(X_train), np.array(X_test)\r\n",
    "            y_train, y_test = np.array(y_train), np.array(y_test)\r\n",
    "            model.fit(X_train, y_train)\r\n",
    "            pred = model.predict(X_test)\r\n",
    "            if voting:\r\n",
    "                filtered_pred = majority_voting(pred, file_lengths[p1])\r\n",
    "                scores.append(accuracy_score(y_test, filtered_pred))\r\n",
    "            else:\r\n",
    "                scores.append(accuracy_score(y_test, pred))\r\n",
    "    if verbose:\r\n",
    "        print(f\"Mean Score: {np.mean(scores)}\")\r\n",
    "        print(f\"Std Score: {np.std(scores)}\")\r\n",
    "        print(f\"Min Score: {np.min(scores)}\")\r\n",
    "        print(f\"Max Score: {np.max(scores)}\")\r\n",
    "    return scores"
   ],
   "outputs": [],
   "metadata": {}
  },
  {
   "cell_type": "code",
   "execution_count": null,
   "source": [
    "model = xgb.xgb_evaluator(n_estimators=100, objective=\"multi:softmax\")\r\n",
    "scores = model_evaluator(model, X, y, file_lengths, n_repeats=10, voting=True, verbose=True)"
   ],
   "outputs": [],
   "metadata": {}
  }
 ],
 "metadata": {
  "orig_nbformat": 4,
  "language_info": {
   "name": "python",
   "version": "3.8.5",
   "mimetype": "text/x-python",
   "codemirror_mode": {
    "name": "ipython",
    "version": 3
   },
   "pygments_lexer": "ipython3",
   "nbconvert_exporter": "python",
   "file_extension": ".py"
  },
  "kernelspec": {
   "name": "python3",
   "display_name": "Python 3.8.5 64-bit"
  },
  "interpreter": {
   "hash": "1baa965d5efe3ac65b79dfc60c0d706280b1da80fedb7760faf2759126c4f253"
  }
 },
 "nbformat": 4,
 "nbformat_minor": 2
}