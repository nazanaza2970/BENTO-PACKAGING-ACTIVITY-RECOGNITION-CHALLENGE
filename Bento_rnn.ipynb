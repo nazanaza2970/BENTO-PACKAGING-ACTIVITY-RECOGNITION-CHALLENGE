{
  "nbformat": 4,
  "nbformat_minor": 0,
  "metadata": {
    "accelerator": "GPU",
    "colab": {
      "name": "Bento_rnn.ipynb",
      "provenance": [],
      "collapsed_sections": [],
      "mount_file_id": "1414vguzA_Akj9LPQzJaDcFFcxqK371ue",
      "authorship_tag": "ABX9TyPjQsN6pxZSVgbtm1JyRAqC",
      "include_colab_link": true
    },
    "kernelspec": {
      "display_name": "Python 3",
      "name": "python3"
    },
    "language_info": {
      "name": "python"
    }
  },
  "cells": [
    {
      "cell_type": "markdown",
      "metadata": {
        "id": "view-in-github",
        "colab_type": "text"
      },
      "source": [
        "<a href=\"https://colab.research.google.com/github/nazanaza2970/BENTO-PACKAGING-ACTIVITY-RECOGNITION-CHALLENGE/blob/naza/Bento_rnn.ipynb\" target=\"_parent\"><img src=\"https://colab.research.google.com/assets/colab-badge.svg\" alt=\"Open In Colab\"/></a>"
      ]
    },
    {
      "cell_type": "code",
      "metadata": {
        "id": "DT84a7MMoghV"
      },
      "source": [
        "import numpy as np\n",
        "import pandas as pd\n",
        "import tensorflow as tf\n",
        "from tensorflow import keras\n",
        "import matplotlib.pyplot as plt\n",
        "import os\n",
        "from tqdm import tqdm\n",
        "from sklearn.model_selection import train_test_split"
      ],
      "execution_count": null,
      "outputs": []
    },
    {
      "cell_type": "code",
      "metadata": {
        "id": "50qIRSEVekWl"
      },
      "source": [
        "data = pd.read_pickle(\"/content/drive/MyDrive/Competitions/2021/Bento 2021/Data/windowed_500_xz\",compression = \"xz\")\n",
        "q = pd.read_feather(\"/content/drive/MyDrive/Competitions/2021/Bento 2021/Data/quaternions.feather\")"
      ],
      "execution_count": null,
      "outputs": []
    },
    {
      "cell_type": "code",
      "metadata": {
        "colab": {
          "base_uri": "https://localhost:8080/"
        },
        "id": "E24XSlCFFewd",
        "outputId": "8db17349-4db3-4c06-a466-02eed81b8030"
      },
      "source": [
        "cols = list(q.columns )\n",
        "q2 = []\n",
        "for i in tqdm(cols):\n",
        "    col = np.stack(q[i])\n",
        "    q2.append(col[:,0])\n",
        "    q2.append(col[:,1])\n",
        "    q2.append(col[:,2])\n",
        "    q2.append(col[:,3])\n",
        "\n",
        "q2 = np.transpose(np.array(q2))\n",
        "q2 = np.append(q2,q2[0]).reshape(1786500,60)"
      ],
      "execution_count": null,
      "outputs": [
        {
          "output_type": "stream",
          "text": [
            "100%|██████████| 15/15 [00:39<00:00,  2.65s/it]\n"
          ],
          "name": "stderr"
        }
      ]
    },
    {
      "cell_type": "code",
      "metadata": {
        "colab": {
          "base_uri": "https://localhost:8080/"
        },
        "id": "x3OSjKOPFezT",
        "outputId": "e58c8726-82a9-46b0-d105-3c1a6d90e8fb"
      },
      "source": [
        "q2.shape"
      ],
      "execution_count": null,
      "outputs": [
        {
          "output_type": "execute_result",
          "data": {
            "text/plain": [
              "(1786500, 60)"
            ]
          },
          "metadata": {
            "tags": []
          },
          "execution_count": 4
        }
      ]
    },
    {
      "cell_type": "code",
      "metadata": {
        "colab": {
          "base_uri": "https://localhost:8080/"
        },
        "id": "EJ4LKqHjsNqb",
        "outputId": "cb364be7-1281-428b-9ea1-dda702d052f0"
      },
      "source": [
        "seg = []\n",
        "labels = []\n",
        "for i in tqdm(range(0,len(data)-500,500)):\n",
        "    seg.append(data.iloc[i:i+500,:-2])\n",
        "    labels.append(data.iloc[i][-1])"
      ],
      "execution_count": null,
      "outputs": [
        {
          "output_type": "stream",
          "text": [
            "100%|██████████| 3572/3572 [00:02<00:00, 1488.76it/s]\n"
          ],
          "name": "stderr"
        }
      ]
    },
    {
      "cell_type": "code",
      "metadata": {
        "colab": {
          "base_uri": "https://localhost:8080/"
        },
        "id": "YhIxSGDoFe4-",
        "outputId": "6a9e2ccb-473d-440b-c528-6613711d8f20"
      },
      "source": [
        "seg[0].shape"
      ],
      "execution_count": null,
      "outputs": [
        {
          "output_type": "execute_result",
          "data": {
            "text/plain": [
              "(500, 39)"
            ]
          },
          "metadata": {
            "tags": []
          },
          "execution_count": 6
        }
      ]
    },
    {
      "cell_type": "code",
      "metadata": {
        "colab": {
          "base_uri": "https://localhost:8080/"
        },
        "id": "A-A5ILtMFe2W",
        "outputId": "5e31d4ba-da2b-40f9-b5fd-a0331d3defbf"
      },
      "source": [
        "len(labels)"
      ],
      "execution_count": null,
      "outputs": [
        {
          "output_type": "execute_result",
          "data": {
            "text/plain": [
              "3572"
            ]
          },
          "metadata": {
            "tags": []
          },
          "execution_count": 7
        }
      ]
    },
    {
      "cell_type": "code",
      "metadata": {
        "id": "L1Kzou9IsNtY"
      },
      "source": [
        "seg = np.array(seg)"
      ],
      "execution_count": null,
      "outputs": []
    },
    {
      "cell_type": "code",
      "metadata": {
        "id": "7ceo80FIFe8g"
      },
      "source": [
        "x_train, x_val, y_train, y_val = train_test_split(seg, labels, test_size=.20, random_state=12)"
      ],
      "execution_count": null,
      "outputs": []
    },
    {
      "cell_type": "code",
      "metadata": {
        "id": "cjDtXav2POt5"
      },
      "source": [
        "x_train = x_train/x_train.max(axis = 0)\n",
        "x_val = x_val/x_val.max(axis = 0)"
      ],
      "execution_count": null,
      "outputs": []
    },
    {
      "cell_type": "code",
      "metadata": {
        "id": "Sj3hijSlzDO5"
      },
      "source": [
        "from sklearn.preprocessing import OneHotEncoder\n",
        "onehot_encoder = OneHotEncoder(sparse=False)\n",
        "y_train = onehot_encoder.fit_transform(np.array(y_train).reshape(-1,1))\n",
        "y_val = onehot_encoder.fit_transform(np.array(y_val).reshape(-1,1))"
      ],
      "execution_count": null,
      "outputs": []
    },
    {
      "cell_type": "code",
      "metadata": {
        "id": "Y8hEBmw2oHfD"
      },
      "source": [
        "model = keras.models.Sequential()\n",
        "model.add(keras.layers.Conv1D(30,3,3,input_shape = (500,39)))\n",
        "model.add(keras.layers.LeakyReLU(alpha=0.3))\n",
        "# model.add(keras.layers.BatchNormalization())\n",
        "model.add(keras.layers.Conv1D(60,3,3))\n",
        "model.add(keras.layers.LeakyReLU(alpha=0.3))\n",
        "# model.add(keras.layers.BatchNormalization())\n",
        "model.add(keras.layers.Conv1D(120,1,3))\n",
        "model.add(keras.layers.LeakyReLU(alpha=0.3))\n",
        "# model.add(keras.layers.BatchNormalization())\n",
        "# model.add(keras.layers.Conv1D(60,3))\n",
        "# model.add(keras.layers.Conv1D(100,4,4))\n",
        "# model.add(keras.layers.Conv1D(100,4,4))\n",
        "# model.add(keras.layers.Conv1D(200,4,4))\n",
        "# model.add(keras.layers.Conv1D(200,4,4))\n",
        "# model.add(keras.layers.Conv1D(200,4,4))\n",
        "# model.add(keras.layers.Conv1D(200,4,4))\n",
        "# model.add(keras.layers.Conv1D(200,4,4))\n",
        "# model.add(keras.layers.Flatten())\n",
        "# model.add(keras.layers.LSTM(200,return_sequences = True))\n",
        "model.add(keras.layers.LSTM(100,return_sequences = True))\n",
        "# model.add(keras.layers.BatchNormalization())\n",
        "model.add(keras.layers.Dropout(0.2))\n",
        "# model.add(keras.layers.LSTM(100,return_sequences = True))\n",
        "# model.add(keras.layers.LSTM(200,input_shape = (500,60)))\n",
        "model.add(keras.layers.LSTM(100))\n",
        "# model.add(keras.layers.BatchNormalization())\n",
        "model.add(keras.layers.Dropout(0.2))\n",
        "# model.add(SeqSelfAttention(attention_activation='sigmoid'))\n",
        "# model.add(keras.layers.Dropout(0.5))\n",
        "# # model.add(Dense(200, activation='relu'))\n",
        "# model.add(keras.layers.Dense(500, activation='relu'))\n",
        "# model.add(keras.layers.Dense(500, activation='relu'))\n",
        "# model.add(keras.layers.Dense(500, activation='relu'))\n",
        "model.add(keras.layers.Dense(200))\n",
        "model.add(keras.layers.BatchNormalization())\n",
        "model.add(keras.layers.LeakyReLU(alpha=0.3))\n",
        "model.add(keras.layers.Dropout(0.2))\n",
        "model.add(keras.layers.Dense(100))\n",
        "model.add(keras.layers.BatchNormalization())\n",
        "model.add(keras.layers.LeakyReLU(alpha=0.3))\n",
        "model.add(keras.layers.Dropout(0.2))\n",
        "model.add(keras.layers.Dense(10))\n",
        "model.add(keras.layers.BatchNormalization())\n",
        "model.add(keras.layers.Activation('softmax'))\n",
        "model.compile(loss='categorical_crossentropy', optimizer='adam', metrics=['accuracy'])"
      ],
      "execution_count": null,
      "outputs": []
    },
    {
      "cell_type": "code",
      "metadata": {
        "id": "mxiwWJVU9NLZ",
        "colab": {
          "base_uri": "https://localhost:8080/"
        },
        "outputId": "4c555197-9998-49f7-decc-e62e2150bf42"
      },
      "source": [
        "model.fit(x_train,y_train,epochs = 50,verbose = 2,validation_data = (x_val,y_val))"
      ],
      "execution_count": null,
      "outputs": [
        {
          "output_type": "stream",
          "text": [
            "Epoch 1/50\n",
            "90/90 - 7s - loss: 2.0035 - accuracy: 0.2296 - val_loss: 1.9274 - val_accuracy: 0.2755\n",
            "Epoch 2/50\n",
            "90/90 - 2s - loss: 1.6842 - accuracy: 0.3465 - val_loss: 1.7617 - val_accuracy: 0.3958\n",
            "Epoch 3/50\n",
            "90/90 - 2s - loss: 1.6059 - accuracy: 0.3857 - val_loss: 1.7527 - val_accuracy: 0.3133\n",
            "Epoch 4/50\n",
            "90/90 - 2s - loss: 1.5434 - accuracy: 0.4186 - val_loss: 1.5808 - val_accuracy: 0.3888\n",
            "Epoch 5/50\n",
            "90/90 - 2s - loss: 1.4684 - accuracy: 0.4393 - val_loss: 1.4570 - val_accuracy: 0.4238\n",
            "Epoch 6/50\n",
            "90/90 - 2s - loss: 1.4326 - accuracy: 0.4669 - val_loss: 2.1818 - val_accuracy: 0.3035\n",
            "Epoch 7/50\n",
            "90/90 - 2s - loss: 1.3999 - accuracy: 0.4764 - val_loss: 1.3872 - val_accuracy: 0.4490\n",
            "Epoch 8/50\n",
            "90/90 - 2s - loss: 1.3548 - accuracy: 0.5093 - val_loss: 1.5082 - val_accuracy: 0.4643\n",
            "Epoch 9/50\n",
            "90/90 - 2s - loss: 1.3150 - accuracy: 0.5096 - val_loss: 1.4871 - val_accuracy: 0.4601\n",
            "Epoch 10/50\n",
            "90/90 - 2s - loss: 1.2966 - accuracy: 0.5282 - val_loss: 1.3569 - val_accuracy: 0.4643\n",
            "Epoch 11/50\n",
            "90/90 - 2s - loss: 1.2524 - accuracy: 0.5411 - val_loss: 1.3382 - val_accuracy: 0.4853\n",
            "Epoch 12/50\n",
            "90/90 - 2s - loss: 1.2093 - accuracy: 0.5716 - val_loss: 1.1504 - val_accuracy: 0.5804\n",
            "Epoch 13/50\n",
            "90/90 - 2s - loss: 1.1449 - accuracy: 0.5814 - val_loss: 1.3753 - val_accuracy: 0.5245\n",
            "Epoch 14/50\n",
            "90/90 - 2s - loss: 1.1276 - accuracy: 0.5922 - val_loss: 1.2142 - val_accuracy: 0.5427\n",
            "Epoch 15/50\n",
            "90/90 - 2s - loss: 1.0846 - accuracy: 0.6139 - val_loss: 1.0685 - val_accuracy: 0.6070\n",
            "Epoch 16/50\n",
            "90/90 - 2s - loss: 1.0233 - accuracy: 0.6265 - val_loss: 1.0604 - val_accuracy: 0.6014\n",
            "Epoch 17/50\n",
            "90/90 - 2s - loss: 1.0336 - accuracy: 0.6328 - val_loss: 1.3025 - val_accuracy: 0.5483\n",
            "Epoch 18/50\n",
            "90/90 - 2s - loss: 0.9879 - accuracy: 0.6479 - val_loss: 0.9952 - val_accuracy: 0.6448\n",
            "Epoch 19/50\n",
            "90/90 - 2s - loss: 0.9392 - accuracy: 0.6675 - val_loss: 0.9754 - val_accuracy: 0.6420\n",
            "Epoch 20/50\n",
            "90/90 - 2s - loss: 0.8918 - accuracy: 0.6962 - val_loss: 1.0956 - val_accuracy: 0.6154\n",
            "Epoch 21/50\n",
            "90/90 - 2s - loss: 0.8511 - accuracy: 0.6972 - val_loss: 0.9882 - val_accuracy: 0.6378\n",
            "Epoch 22/50\n",
            "90/90 - 2s - loss: 0.8067 - accuracy: 0.7235 - val_loss: 1.1026 - val_accuracy: 0.6112\n",
            "Epoch 23/50\n",
            "90/90 - 2s - loss: 0.8152 - accuracy: 0.7196 - val_loss: 0.8689 - val_accuracy: 0.6811\n",
            "Epoch 24/50\n",
            "90/90 - 2s - loss: 0.8081 - accuracy: 0.7249 - val_loss: 0.7925 - val_accuracy: 0.7063\n",
            "Epoch 25/50\n",
            "90/90 - 2s - loss: 0.7444 - accuracy: 0.7494 - val_loss: 0.8514 - val_accuracy: 0.6979\n",
            "Epoch 26/50\n",
            "90/90 - 2s - loss: 0.7006 - accuracy: 0.7700 - val_loss: 0.9183 - val_accuracy: 0.6699\n",
            "Epoch 27/50\n",
            "90/90 - 2s - loss: 0.7318 - accuracy: 0.7469 - val_loss: 0.8397 - val_accuracy: 0.7049\n",
            "Epoch 28/50\n",
            "90/90 - 2s - loss: 0.6664 - accuracy: 0.7767 - val_loss: 0.7895 - val_accuracy: 0.7231\n",
            "Epoch 29/50\n",
            "90/90 - 2s - loss: 0.6671 - accuracy: 0.7774 - val_loss: 0.9654 - val_accuracy: 0.6671\n",
            "Epoch 30/50\n",
            "90/90 - 2s - loss: 0.6216 - accuracy: 0.7910 - val_loss: 0.7332 - val_accuracy: 0.7357\n",
            "Epoch 31/50\n",
            "90/90 - 2s - loss: 0.6216 - accuracy: 0.7959 - val_loss: 0.8038 - val_accuracy: 0.7259\n",
            "Epoch 32/50\n",
            "90/90 - 2s - loss: 0.5857 - accuracy: 0.7998 - val_loss: 1.0596 - val_accuracy: 0.6294\n",
            "Epoch 33/50\n",
            "90/90 - 2s - loss: 0.6263 - accuracy: 0.7966 - val_loss: 0.8041 - val_accuracy: 0.7091\n",
            "Epoch 34/50\n",
            "90/90 - 2s - loss: 0.5389 - accuracy: 0.8260 - val_loss: 0.8397 - val_accuracy: 0.7035\n",
            "Epoch 35/50\n",
            "90/90 - 2s - loss: 0.5125 - accuracy: 0.8365 - val_loss: 0.9548 - val_accuracy: 0.6839\n",
            "Epoch 36/50\n",
            "90/90 - 2s - loss: 0.5144 - accuracy: 0.8369 - val_loss: 0.9625 - val_accuracy: 0.6825\n",
            "Epoch 37/50\n",
            "90/90 - 2s - loss: 0.4898 - accuracy: 0.8474 - val_loss: 0.7723 - val_accuracy: 0.7455\n",
            "Epoch 38/50\n",
            "90/90 - 2s - loss: 0.4702 - accuracy: 0.8607 - val_loss: 0.8626 - val_accuracy: 0.7147\n",
            "Epoch 39/50\n",
            "90/90 - 2s - loss: 0.4596 - accuracy: 0.8593 - val_loss: 0.8104 - val_accuracy: 0.7385\n",
            "Epoch 40/50\n",
            "90/90 - 2s - loss: 0.4685 - accuracy: 0.8558 - val_loss: 0.8367 - val_accuracy: 0.7161\n",
            "Epoch 41/50\n",
            "90/90 - 2s - loss: 0.4511 - accuracy: 0.8547 - val_loss: 0.8395 - val_accuracy: 0.7315\n",
            "Epoch 42/50\n",
            "90/90 - 2s - loss: 0.3955 - accuracy: 0.8824 - val_loss: 0.8621 - val_accuracy: 0.7217\n",
            "Epoch 43/50\n",
            "90/90 - 2s - loss: 0.3933 - accuracy: 0.8803 - val_loss: 0.7978 - val_accuracy: 0.7552\n",
            "Epoch 44/50\n",
            "90/90 - 2s - loss: 0.4661 - accuracy: 0.8572 - val_loss: 1.1676 - val_accuracy: 0.6322\n",
            "Epoch 45/50\n",
            "90/90 - 2s - loss: 0.3671 - accuracy: 0.8880 - val_loss: 0.8509 - val_accuracy: 0.7371\n",
            "Epoch 46/50\n",
            "90/90 - 2s - loss: 0.3426 - accuracy: 0.8946 - val_loss: 0.8675 - val_accuracy: 0.7427\n",
            "Epoch 47/50\n",
            "90/90 - 2s - loss: 0.4198 - accuracy: 0.8659 - val_loss: 0.9707 - val_accuracy: 0.7119\n",
            "Epoch 48/50\n",
            "90/90 - 2s - loss: 0.3165 - accuracy: 0.9090 - val_loss: 0.9345 - val_accuracy: 0.7259\n",
            "Epoch 49/50\n",
            "90/90 - 2s - loss: 0.3750 - accuracy: 0.8915 - val_loss: 0.9138 - val_accuracy: 0.7301\n",
            "Epoch 50/50\n",
            "90/90 - 2s - loss: 0.3565 - accuracy: 0.8967 - val_loss: 0.9387 - val_accuracy: 0.7189\n"
          ],
          "name": "stdout"
        },
        {
          "output_type": "execute_result",
          "data": {
            "text/plain": [
              "<tensorflow.python.keras.callbacks.History at 0x7fc8de6adfd0>"
            ]
          },
          "metadata": {
            "tags": []
          },
          "execution_count": 67
        }
      ]
    },
    {
      "cell_type": "code",
      "metadata": {
        "id": "GFG6e6y0HbCZ"
      },
      "source": [
        "#Best model with quaternion\n",
        "#*******************************************\n",
        "\n",
        "\n",
        "# model = keras.models.Sequential()\n",
        "# model.add(keras.layers.Conv1D(15,4,4,input_shape = (500,60)))\n",
        "# model.add(keras.layers.Conv1D(15,4,4))\n",
        "# model.add(keras.layers.LSTM(100,return_sequences = True))\n",
        "# # model.add(keras.layers.LSTM(200,input_shape = (500,60)))\n",
        "# model.add(keras.layers.LSTM(100))\n",
        "# model.add(keras.layers.Dense(500, activation='relu'))\n",
        "# model.add(keras.layers.Dense(500, activation='relu'))\n",
        "# # model.add(keras.layers.Dense(50, activation='relu'))\n",
        "# model.add(keras.layers.Dense(10, activation='softmax'))\n",
        "# model.compile(loss='categorical_crossentropy', optimizer='adam', metrics=['accuracy'])"
      ],
      "execution_count": null,
      "outputs": []
    }
  ]
}