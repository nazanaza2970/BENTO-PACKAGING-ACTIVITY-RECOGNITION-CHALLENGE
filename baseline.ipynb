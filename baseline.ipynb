{
 "cells": [
  {
   "cell_type": "code",
   "execution_count": 17,
   "id": "74f9e800",
   "metadata": {},
   "outputs": [],
   "source": [
    "import numpy as np\n",
    "import pandas as pd\n",
    "import matplotlib.pyplot as plt\n",
    "import os\n",
    "import glob\n",
    "from tqdm.notebook import trange, tqdm\n",
    "from sklearn.ensemble import RandomForestClassifier as RFC\n",
    "from sklearn.model_selection import train_test_split, RepeatedStratifiedKFold, cross_val_score"
   ]
  },
  {
   "cell_type": "code",
   "execution_count": 18,
   "id": "d9e8a1e0",
   "metadata": {},
   "outputs": [],
   "source": [
    "def segmentation(df, overlap_rate, time_window):\n",
    "    \n",
    "    # make a list for segment window and its label\n",
    "    seg_data = []\n",
    "\n",
    "    #convert overlap rate to step for sliding window\n",
    "    overlap = int((1 - overlap_rate)*time_window)\n",
    "    \n",
    "    # interpolate\n",
    "    df = df.interpolate().ffill().fillna(0)\n",
    "    #segment\n",
    "    for i in range(0, len(df)-time_window+1, overlap):\n",
    "        seg_data.append(df.loc[i:i+time_window-1, :].copy().reset_index(drop=True))\n",
    "        \n",
    "    return seg_data"
   ]
  },
  {
   "cell_type": "code",
   "execution_count": 19,
   "id": "d38f82d3",
   "metadata": {},
   "outputs": [
    {
     "data": {
      "application/vnd.jupyter.widget-view+json": {
       "model_id": "dd8c29fcc4cc4687a7a3e4aae60d06ab",
       "version_major": 2,
       "version_minor": 0
      },
      "text/plain": [
       "  0%|          | 0/151 [00:00<?, ?it/s]"
      ]
     },
     "metadata": {},
     "output_type": "display_data"
    }
   ],
   "source": [
    "data_list = []\n",
    "for file in tqdm(glob.glob(\"../TrainData/*/*/*.csv\")):\n",
    "    tempdf = pd.read_csv(file)\n",
    "    data_list.extend(segmentation(tempdf, 0.5, 500))"
   ]
  },
  {
   "cell_type": "code",
   "execution_count": 12,
   "id": "0712841b",
   "metadata": {},
   "outputs": [],
   "source": [
    "def get_features(x_data):\n",
    "    #Set features list\n",
    "    features = []\n",
    "    #Set columns name list\n",
    "    cols = x_data.columns.tolist()\n",
    "\n",
    "    #Calculate features (STD, Average, Max, Min) for each data columns X Y Z \n",
    "    for k in cols:\n",
    "        # std\n",
    "        features.append(x_data[k].std(ddof=0))\n",
    "        # avg\n",
    "        features.append(np.average(x_data[k]))\n",
    "        # max\n",
    "        features.append(np.max(x_data[k]))\n",
    "        # min\n",
    "        features.append(np.min(x_data[k]))\n",
    "        #median\n",
    "        features.append(np.median(x_data[k]))                                \n",
    "        features.append(np.var(x_data[k]))\n",
    "#         #skewness\n",
    "#         features.append(stats.skew(x_data[k]))\n",
    "#         #kutosis\n",
    "#         features.append(stats.kurtosis(x_data[k]))\n",
    "    return features"
   ]
  },
  {
   "cell_type": "code",
   "execution_count": 13,
   "id": "a2867a43",
   "metadata": {},
   "outputs": [
    {
     "data": {
      "application/vnd.jupyter.widget-view+json": {
       "model_id": "63f7daaa0f464813902aa823b1eda5cd",
       "version_major": 2,
       "version_minor": 0
      },
      "text/plain": [
       "  0%|          | 0/3573 [00:00<?, ?it/s]"
      ]
     },
     "metadata": {},
     "output_type": "display_data"
    }
   ],
   "source": [
    "features_list = []\n",
    "label_list = []\n",
    "for j in tqdm(range(0,len(data_list))):\n",
    "    #extract only xyz columns\n",
    "    x_data = data_list[j].drop(columns=[\"subject_id\",\"activity\"])\n",
    "\n",
    "    #Get features and label for each elements\n",
    "    features_list.append(get_features(x_data))\n",
    "    label_list.append(data_list[j].iloc[0, -1])"
   ]
  },
  {
   "cell_type": "code",
   "execution_count": 20,
   "id": "8de21dc4",
   "metadata": {},
   "outputs": [],
   "source": [
    "rf = RFC(n_estimators=300,n_jobs=-1)"
   ]
  },
  {
   "cell_type": "code",
   "execution_count": 23,
   "id": "ca917010",
   "metadata": {},
   "outputs": [
    {
     "name": "stderr",
     "output_type": "stream",
     "text": [
      "[Parallel(n_jobs=-1)]: Using backend LokyBackend with 4 concurrent workers.\n",
      "[Parallel(n_jobs=-1)]: Done  30 out of  30 | elapsed:  3.8min finished\n"
     ]
    }
   ],
   "source": [
    "cv = RepeatedStratifiedKFold(n_splits=10, n_repeats=3, random_state=1)\n",
    "n_scores = cross_val_score(rf, features_list, label_list, scoring='accuracy', cv=cv, n_jobs=-1, error_score='raise', verbose=2)"
   ]
  },
  {
   "cell_type": "code",
   "execution_count": 25,
   "id": "4c92f5fe",
   "metadata": {},
   "outputs": [
    {
     "data": {
      "text/plain": [
       "(0.8262024735406269,\n",
       " array([0.79329609, 0.82960894, 0.82681564, 0.85434174, 0.83753501,\n",
       "        0.86834734, 0.79831933, 0.81792717, 0.83473389, 0.8487395 ,\n",
       "        0.83798883, 0.79888268, 0.84078212, 0.82352941, 0.82913165,\n",
       "        0.85154062, 0.80112045, 0.82913165, 0.81232493, 0.82072829,\n",
       "        0.79050279, 0.81005587, 0.84357542, 0.85154062, 0.82633053,\n",
       "        0.79551821, 0.82913165, 0.83753501, 0.85154062, 0.79551821]))"
      ]
     },
     "execution_count": 25,
     "metadata": {},
     "output_type": "execute_result"
    }
   ],
   "source": [
    "n_scores.mean(), n_scores"
   ]
  },
  {
   "cell_type": "code",
   "execution_count": null,
   "id": "c8522c09",
   "metadata": {},
   "outputs": [],
   "source": []
  }
 ],
 "metadata": {
  "kernelspec": {
   "display_name": "Python 3 (ipykernel)",
   "language": "python",
   "name": "python3"
  },
  "language_info": {
   "codemirror_mode": {
    "name": "ipython",
    "version": 3
   },
   "file_extension": ".py",
   "mimetype": "text/x-python",
   "name": "python",
   "nbconvert_exporter": "python",
   "pygments_lexer": "ipython3",
   "version": "3.8.5"
  }
 },
 "nbformat": 4,
 "nbformat_minor": 5
}
