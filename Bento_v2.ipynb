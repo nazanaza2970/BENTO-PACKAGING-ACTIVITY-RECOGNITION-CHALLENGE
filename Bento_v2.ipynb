{
  "nbformat": 4,
  "nbformat_minor": 0,
  "metadata": {
    "colab": {
      "name": "Bento.ipynb",
      "provenance": [],
      "collapsed_sections": [],
      "mount_file_id": "1egFWIAZMiwXhMmIEqI-W7rGcEwbNrQCj",
      "authorship_tag": "ABX9TyO1/mfTEFA7bbUupzIV0/3V",
      "include_colab_link": true
    },
    "kernelspec": {
      "display_name": "Python 3",
      "name": "python3"
    },
    "language_info": {
      "name": "python"
    }
  },
  "cells": [
    {
      "cell_type": "markdown",
      "metadata": {
        "id": "view-in-github",
        "colab_type": "text"
      },
      "source": [
        "<a href=\"https://colab.research.google.com/github/nazanaza2970/BENTO-PACKAGING-ACTIVITY-RECOGNITION-CHALLENGE/blob/naza/Bento_v2.ipynb\" target=\"_parent\"><img src=\"https://colab.research.google.com/assets/colab-badge.svg\" alt=\"Open In Colab\"/></a>"
      ]
    },
    {
      "cell_type": "code",
      "metadata": {
        "id": "xdDKPWOm-_ie"
      },
      "source": [
        "import numpy as np\n",
        "import pandas as pd\n",
        "import glob\n",
        "from tqdm import tqdm\n",
        "from sklearn.preprocessing import RobustScaler\n",
        "from sklearn.preprocessing import OneHotEncoder\n",
        "from sklearn.model_selection import train_test_split\n",
        "import matplotlib.pyplot as plt\n",
        "from scipy import stats\n",
        "import keras\n",
        "import pickle\n",
        "from sklearn.model_selection import cross_val_score\n",
        "from sklearn.model_selection import RepeatedStratifiedKFold"
      ],
      "execution_count": 73,
      "outputs": []
    },
    {
      "cell_type": "code",
      "metadata": {
        "id": "yil4FSyW1pT7"
      },
      "source": [
        "# data = pd.DataFrame(columns = ['X1', 'Y1', 'Z1', 'X2', 'Y2', 'Z2', 'X3', 'Y3', 'Z3', 'X4', 'Y4', 'Z4',\n",
        "#        'X5', 'Y5', 'Z5', 'X6', 'Y6', 'Z6', 'X7', 'Y7', 'Z7', 'X8', 'Y8', 'Z8',\n",
        "#        'X9', 'Y9', 'Z9', 'X10', 'Y10', 'Z10', 'X11', 'Y11', 'Z11', 'X12',\n",
        "#        'Y12', 'Z12', 'X13', 'Y13', 'Z13', 'X14', 'Y14', 'Z14', 'X15', 'Y15',\n",
        "#        'Z15', 'X16', 'Y16', 'Z16', 'X17', 'Y17', 'Z17', 'X18', 'Y18', 'Z18',\n",
        "#        'X19', 'Y19', 'Z19', 'X20', 'Y20', 'Z20', 'X21', 'Y21', 'Z21', 'X22',\n",
        "#        'Y22', 'Z22', 'X23', 'Y23', 'Z23', 'X24', 'Y24', 'Z24', 'X25', 'Y25',\n",
        "#        'Z25', 'X26', 'Y26', 'Z26', 'X27', 'Y27', 'Z27', 'X28', 'Y28', 'Z28',\n",
        "#        'X29', 'Y29', 'Z29', 'subject_id', 'activity'])"
      ],
      "execution_count": 2,
      "outputs": []
    },
    {
      "cell_type": "code",
      "metadata": {
        "id": "HW_qLBqo1F1P"
      },
      "source": [
        "# # w_size = 10\n",
        "# for file in tqdm(glob.glob(\"/content/drive/MyDrive/Competitions/2021/Bento 2021/Data/Train_data/*\")):\n",
        "#     temp = pd.read_csv(file)\n",
        "#     data = data.append(temp)"
      ],
      "execution_count": 3,
      "outputs": []
    },
    {
      "cell_type": "code",
      "metadata": {
        "id": "MgSm9XX_2TU3"
      },
      "source": [
        "# data.to_pickle(\"/content/drive/MyDrive/Competitions/2021/Bento 2021/Data/cobined_data.pkl\", compression = \"xz\")\n",
        "# data"
      ],
      "execution_count": 4,
      "outputs": []
    },
    {
      "cell_type": "code",
      "metadata": {
        "id": "M4aW08GIip2H"
      },
      "source": [
        "data = pd.read_pickle(\"/content/drive/MyDrive/Competitions/2021/Bento 2021/Data/cobined_data.pkl\", compression = \"xz\")"
      ],
      "execution_count": 5,
      "outputs": []
    },
    {
      "cell_type": "code",
      "metadata": {
        "colab": {
          "base_uri": "https://localhost:8080/",
          "height": 285
        },
        "id": "WaM6XzAcE2bI",
        "outputId": "8abbb352-f67b-4e4f-9c59-295d23bb129a"
      },
      "source": [
        "data['activity'].value_counts().plot.bar()"
      ],
      "execution_count": 6,
      "outputs": [
        {
          "output_type": "execute_result",
          "data": {
            "text/plain": [
              "<matplotlib.axes._subplots.AxesSubplot at 0x7f8bb6a93710>"
            ]
          },
          "metadata": {
            "tags": []
          },
          "execution_count": 6
        },
        {
          "output_type": "display_data",
          "data": {
            "image/png": "[encoded data removed]",
            "text/plain": [
              "<Figure size 432x288 with 1 Axes>"
            ]
          },
          "metadata": {
            "tags": [],
            "needs_background": "light"
          }
        }
      ]
    },
    {
      "cell_type": "code",
      "metadata": {
        "colab": {
          "base_uri": "https://localhost:8080/"
        },
        "id": "4vRuKIe-FAMH",
        "outputId": "cf588091-7c10-4598-8bf0-682e6157445a"
      },
      "source": [
        "data.isnull().sum().sum()"
      ],
      "execution_count": 7,
      "outputs": [
        {
          "output_type": "execute_result",
          "data": {
            "text/plain": [
              "846447"
            ]
          },
          "metadata": {
            "tags": []
          },
          "execution_count": 7
        }
      ]
    },
    {
      "cell_type": "code",
      "metadata": {
        "id": "b2KzyG8mHQPq"
      },
      "source": [
        "def segmentation(x_data,overlap_rate,time_window):\n",
        "    \n",
        "    # make a list for segment window and its label\n",
        "    seg_data = []\n",
        "    y_segmented_list = []\n",
        "\n",
        "    #convert overlap rate to step for sliding window\n",
        "    overlap = int((1 - overlap_rate)*time_window)\n",
        "    \n",
        "    #segment and keep the labels\n",
        "    for i in range(0,x_data.shape[0],overlap):\n",
        "        seg_data.append(x_data[i:i+time_window])\n",
        "        y_segmented_list.append(x_data['activity'][i])\n",
        "        \n",
        "    return seg_data,y_segmented_list"
      ],
      "execution_count": 8,
      "outputs": []
    },
    {
      "cell_type": "code",
      "metadata": {
        "id": "zHh1zLIBe28W"
      },
      "source": [
        "def entropy(a):\n",
        "        a = (a-min(a))/(max(a)-min(a))\n",
        "        return stats.entropy(a)"
      ],
      "execution_count": 9,
      "outputs": []
    },
    {
      "cell_type": "code",
      "metadata": {
        "id": "BQAXXl8eHend"
      },
      "source": [
        "def get_features(x_data):\n",
        "    #Set features list\n",
        "    features = []\n",
        "    #Set columns name list\n",
        "    DFclist=list(x_data.columns)\n",
        "\n",
        "    #Calculate features (STD, Average, Max, Min) for each data columns X Y Z \n",
        "    for k in DFclist:\n",
        "        # std\n",
        "        features.append(x_data[k].std(ddof=0))\n",
        "        # avg\n",
        "        features.append(np.average(x_data[k]))\n",
        "        # max\n",
        "        features.append(np.max(x_data[k]))\n",
        "        # min\n",
        "        features.append(np.min(x_data[k]))\n",
        "        #median\n",
        "        features.append(np.median(x_data[k]))                                \n",
        "        #mode\n",
        "        # features.append(stats.mode(x_data[k]))                                  #produces single value\n",
        "        #variance\n",
        "        features.append(np.var(x_data[k]))\n",
        "        #skewness\n",
        "        features.append(stats.skew(x_data[k]))\n",
        "        #kutosis\n",
        "        features.append(stats.kurtosis(x_data[k]))\n",
        "        #mad\n",
        "        # features.append(x_data[k].apply(lambda x: pd.Series(x).mad()))           #too slow\n",
        "        #energy\n",
        "        # features.append(x_data[k].apply(lambda x: sum(x**2)/len(x)))             #throws error\n",
        "        #iqr\n",
        "        # features.append(x_data[k].apply(stats.iqr))\n",
        "        #entropy\n",
        "        # features.append(x_data[k].apply(entropy))                                #throws error\n",
        "    return features"
      ],
      "execution_count": 61,
      "outputs": []
    },
    {
      "cell_type": "code",
      "metadata": {
        "id": "aLRwuODAMKWT"
      },
      "source": [
        "from sklearn.ensemble import RandomForestClassifier         \n",
        "model_ml = RandomForestClassifier(n_estimators=500,n_jobs=-1)"
      ],
      "execution_count": 55,
      "outputs": []
    },
    {
      "cell_type": "code",
      "metadata": {
        "id": "yPRI85NyHhY9"
      },
      "source": [
        "#Segmentation with overlaprate=0 & window=100\n",
        "df1_itpl=data.reset_index(drop = True).interpolate()\n",
        "#replace missing values with 0\n",
        "df1_itpl=df1_itpl.fillna(0) \n",
        "[seg, seg_label]=segmentation(df1_itpl,0.5,100)\n",
        "      "
      ],
      "execution_count": 66,
      "outputs": []
    },
    {
      "cell_type": "code",
      "metadata": {
        "colab": {
          "base_uri": "https://localhost:8080/"
        },
        "id": "OQym8pP2JCc3",
        "outputId": "782ecc18-05e6-4cc9-d223-9dfe3a1d7f21"
      },
      "source": [
        "#set list\n",
        "features_list=[]\n",
        "label_list=[]\n",
        "for j in tqdm(range(0,len(seg))):\n",
        "    #extract only xyz columns\n",
        "            frame1=seg[j].drop(columns=['subject_id','activity'])\n",
        "            \n",
        "\n",
        "            #Get features and label for each elements\n",
        "            features_list.append(get_features(frame1))\n",
        "            label_list.append(seg_label[j])"
      ],
      "execution_count": 67,
      "outputs": [
        {
          "output_type": "stream",
          "text": [
            "100%|██████████| 19013/19013 [29:23<00:00, 10.78it/s]\n"
          ],
          "name": "stderr"
        }
      ]
    },
    {
      "cell_type": "code",
      "metadata": {
        "id": "HWozCzfLNOmj"
      },
      "source": [
        "X_train, X_test, y_train, y_test = train_test_split(features_list, label_list, test_size=0.3, random_state=69)"
      ],
      "execution_count": 68,
      "outputs": []
    },
    {
      "cell_type": "code",
      "metadata": {
        "colab": {
          "base_uri": "https://localhost:8080/"
        },
        "id": "r0lFXn-ANQl3",
        "outputId": "584cea66-3347-4106-c852-02dba2eda6b9"
      },
      "source": [
        "model_ml.fit(X_train, y_train)"
      ],
      "execution_count": 69,
      "outputs": [
        {
          "output_type": "execute_result",
          "data": {
            "text/plain": [
              "RandomForestClassifier(bootstrap=True, ccp_alpha=0.0, class_weight=None,\n",
              "                       criterion='gini', max_depth=None, max_features='auto',\n",
              "                       max_leaf_nodes=None, max_samples=None,\n",
              "                       min_impurity_decrease=0.0, min_impurity_split=None,\n",
              "                       min_samples_leaf=1, min_samples_split=2,\n",
              "                       min_weight_fraction_leaf=0.0, n_estimators=500,\n",
              "                       n_jobs=-1, oob_score=False, random_state=None, verbose=0,\n",
              "                       warm_start=False)"
            ]
          },
          "metadata": {
            "tags": []
          },
          "execution_count": 69
        }
      ]
    },
    {
      "cell_type": "code",
      "metadata": {
        "colab": {
          "base_uri": "https://localhost:8080/"
        },
        "id": "X1ZYl5Lw5-xL",
        "outputId": "a897ab8a-4bb3-4b3c-d8b9-a0e46a9817c1"
      },
      "source": [
        "cv = RepeatedStratifiedKFold(n_splits=10, n_repeats=3, random_state=1)\n",
        "n_scores = cross_val_score(model_ml, features_list, label_list, scoring='accuracy', cv=cv, n_jobs=-1, error_score='raise')"
      ],
      "execution_count": 74,
      "outputs": [
        {
          "output_type": "stream",
          "text": [
            "/usr/local/lib/python3.7/dist-packages/joblib/externals/loky/process_executor.py:691: UserWarning: A worker stopped while some jobs were given to the executor. This can be caused by a too short worker timeout or by a memory leak.\n",
            "  \"timeout or by a memory leak.\", UserWarning\n",
            "/usr/local/lib/python3.7/dist-packages/joblib/externals/loky/process_executor.py:691: UserWarning: A worker stopped while some jobs were given to the executor. This can be caused by a too short worker timeout or by a memory leak.\n",
            "  \"timeout or by a memory leak.\", UserWarning\n",
            "/usr/local/lib/python3.7/dist-packages/joblib/externals/loky/process_executor.py:691: UserWarning: A worker stopped while some jobs were given to the executor. This can be caused by a too short worker timeout or by a memory leak.\n",
            "  \"timeout or by a memory leak.\", UserWarning\n"
          ],
          "name": "stderr"
        }
      ]
    },
    {
      "cell_type": "code",
      "metadata": {
        "colab": {
          "base_uri": "https://localhost:8080/"
        },
        "id": "ePzxUZLn_lmz",
        "outputId": "7f7821f7-b8e5-4b2c-9282-575a4c5d2e7e"
      },
      "source": [
        "n_scores"
      ],
      "execution_count": 75,
      "outputs": [
        {
          "output_type": "execute_result",
          "data": {
            "text/plain": [
              "array([0.95741325, 0.96109359, 0.95899054, 0.959495  , 0.95633877,\n",
              "       0.96265124, 0.9621252 , 0.95633877, 0.96580747, 0.96107312,\n",
              "       0.9637224 , 0.9553102 , 0.96161935, 0.96685955, 0.95791689,\n",
              "       0.95213046, 0.959495  , 0.95739085, 0.95791689, 0.95581273,\n",
              "       0.96056782, 0.96319664, 0.96161935, 0.95528669, 0.96054708,\n",
              "       0.95633877, 0.95213046, 0.96738559, 0.959495  , 0.95528669])"
            ]
          },
          "metadata": {
            "tags": []
          },
          "execution_count": 75
        }
      ]
    },
    {
      "cell_type": "code",
      "metadata": {
        "colab": {
          "base_uri": "https://localhost:8080/",
          "height": 581
        },
        "id": "8Xa9vj7WNecG",
        "outputId": "bef96b05-dc60-4e93-9763-b9e36c4af308"
      },
      "source": [
        "from sklearn.metrics import classification_report\n",
        "from sklearn.metrics import plot_confusion_matrix\n",
        "from sklearn.metrics import confusion_matrix\n",
        "\n",
        "y_predict = model_ml.predict(X_test)\n",
        "print(classification_report(y_test,y_predict))\n",
        "#confusion_matrix(y_test, y_predict)\n",
        "plot_confusion_matrix(model_ml, X_test, y_test)\n",
        "plt.show()"
      ],
      "execution_count": 70,
      "outputs": [
        {
          "output_type": "stream",
          "text": [
            "              precision    recall  f1-score   support\n",
            "\n",
            "           1       0.95      0.97      0.96       569\n",
            "           2       0.97      0.92      0.94       564\n",
            "           3       0.95      0.95      0.95       559\n",
            "           4       0.92      0.90      0.91       574\n",
            "           5       0.93      0.88      0.91       549\n",
            "           6       0.97      0.99      0.98       589\n",
            "           7       0.96      0.98      0.97       584\n",
            "           8       0.98      0.95      0.97       564\n",
            "           9       0.93      0.97      0.95       588\n",
            "          10       0.93      0.97      0.95       564\n",
            "\n",
            "    accuracy                           0.95      5704\n",
            "   macro avg       0.95      0.95      0.95      5704\n",
            "weighted avg       0.95      0.95      0.95      5704\n",
            "\n"
          ],
          "name": "stdout"
        },
        {
          "output_type": "display_data",
          "data": {
            "image/png": "[encoded data removed]",
            "text/plain": [
              "<Figure size 432x288 with 2 Axes>"
            ]
          },
          "metadata": {
            "tags": [],
            "needs_background": "light"
          }
        }
      ]
    },
    {
      "cell_type": "code",
      "metadata": {
        "id": "iYYngoeWNmSb"
      },
      "source": [
        "pickle.dump(model_ml,open(\"/content/drive/MyDrive/Competitions/2021/Bento 2021/Models/RFC3/rfc3.sav\",\"wb\"))"
      ],
      "execution_count": 76,
      "outputs": []
    },
    {
      "cell_type": "code",
      "metadata": {
        "id": "9ZxIuWPMOuDg"
      },
      "source": [
        " # X_train = np.nan_to_num(np.array(X_train))\n",
        "# X_train[X_train>1E308]=0\n",
        "# X_train = list(X_train)"
      ],
      "execution_count": 18,
      "outputs": []
    },
    {
      "cell_type": "code",
      "metadata": {
        "id": "1Fgprgv7ghc1"
      },
      "source": [
        ""
      ],
      "execution_count": 18,
      "outputs": []
    }
  ]
}