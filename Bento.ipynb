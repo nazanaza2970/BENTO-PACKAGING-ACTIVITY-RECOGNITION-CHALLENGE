{
 "cells": [
  {
   "cell_type": "markdown",
   "metadata": {
    "colab_type": "text",
    "id": "view-in-github"
   },
   "source": [
    "<a href=\"https://colab.research.google.com/github/nazanaza2970/BENTO-PACKAGING-ACTIVITY-RECOGNITION-CHALLENGE/blob/naza/Bento.ipynb\" target=\"_parent\"><img src=\"https://colab.research.google.com/assets/colab-badge.svg\" alt=\"Open In Colab\"/></a>"
   ]
  },
  {
   "cell_type": "code",
   "execution_count": 2,
   "metadata": {
    "id": "pZv1ijm1l4JG"
   },
   "outputs": [],
   "source": [
    "import numpy as np\n",
    "import pandas as pd\n",
    "from scipy import stats\n",
    "import glob\n",
    "import os\n",
    "from tqdm import tqdm, trange\n",
    "from sklearn.ensemble import RandomForestClassifier as RFC, ExtraTreesClassifier as ETC\n",
    "from sklearn.model_selection import RepeatedStratifiedKFold, cross_val_score, StratifiedKFold\n",
    "from sklearn.pipeline import Pipeline\n",
    "from sklearn.pipeline import FeatureUnion\n",
    "from sklearn.preprocessing import LabelEncoder\n",
    "from sklearn.preprocessing import MinMaxScaler\n",
    "from sklearn.preprocessing import StandardScaler\n",
    "from sklearn.preprocessing import RobustScaler\n",
    "from sklearn.preprocessing import QuantileTransformer\n",
    "from sklearn.preprocessing import KBinsDiscretizer\n",
    "from sklearn.decomposition import PCA\n",
    "from sklearn.decomposition import TruncatedSVD\n",
    "from scipy.fftpack import fft"
   ]
  },
  {
   "cell_type": "markdown",
   "metadata": {
    "id": "M8eDh1jICrX0"
   },
   "source": [
    "# Normal Model"
   ]
  },
  {
   "cell_type": "code",
   "execution_count": null,
   "metadata": {
    "id": "LqrIqua2nOpn"
   },
   "outputs": [],
   "source": [
    "def segmentation(df, overlap_rate, time_window):\n",
    "    seg_data = []\n",
    "    #convert overlap rate to step for sliding window\n",
    "    overlap = int((1 - overlap_rate)*time_window)\n",
    "    # interpolate\n",
    "    df = df.interpolate().ffill().fillna(0)\n",
    "    for i in range(0, len(df)-time_window+1, overlap):\n",
    "        seg_data.append(df.loc[i:i+time_window-1, :].copy().reset_index(drop=True)) \n",
    "    return seg_data"
   ]
  },
  {
   "cell_type": "code",
   "execution_count": null,
   "metadata": {
    "colab": {
     "base_uri": "https://localhost:8080/"
    },
    "id": "8-rZiPgxl37Q",
    "outputId": "05d6078c-3a57-48a3-9228-cfdf2affc835"
   },
   "outputs": [
    {
     "name": "stderr",
     "output_type": "stream",
     "text": [
      "100%|██████████| 151/151 [00:10<00:00, 14.33it/s]\n"
     ]
    }
   ],
   "source": [
    "data_list = []\n",
    "for file in tqdm(glob.glob(\"/content/drive/MyDrive/Competitions/2021/Bento 2021/Data/TrainData/*/*/*.csv\")):\n",
    "    tempdf = pd.read_csv(file) \n",
    "    data_list.extend(segmentation(tempdf, 0.75, 3000))"
   ]
  },
  {
   "cell_type": "code",
   "execution_count": null,
   "metadata": {
    "id": "vf9X7XV4mr03"
   },
   "outputs": [],
   "source": [
    "def get_features(x_data):\n",
    "    features = []\n",
    "    cols = x_data.columns.tolist()\n",
    "    #Calculate features (STD, Average, Max, Min, median, variance) for each data columns X Y Z \n",
    "    for k in cols:\n",
    "        features.append(x_data[k].std(ddof=0))\n",
    "        features.append(np.average(x_data[k]))\n",
    "        features.append(np.max(x_data[k]))\n",
    "        features.append(np.min(x_data[k]))\n",
    "        features.append(np.median(x_data[k]))                                \n",
    "        features.append(np.var(x_data[k]))\n",
    "#         #skewness\n",
    "#         features.append(stats.skew(x_data[k]))\n",
    "#         #kutosis\n",
    "#         features.append(stats.kurtosis(x_data[k]))\n",
    "\n",
    "        # fd = np.abs(fft(np.array(x_data[k])))**2\n",
    "        # features.append(stats.skew(fd))\n",
    "        # features.append(stats.kurtosis(fd))\n",
    "\n",
    "        # features.append(fd.std(ddof=0))\n",
    "        # features.append(np.average(fd))\n",
    "        # features.append(np.max(fd))\n",
    "        # features.append(np.min(fd))\n",
    "        # features.append(np.median(fd))                                \n",
    "        # features.append(np.var(fd))\n",
    "\n",
    "\n",
    "    return features"
   ]
  },
  {
   "cell_type": "code",
   "execution_count": null,
   "metadata": {
    "colab": {
     "base_uri": "https://localhost:8080/"
    },
    "id": "mtzvFNyomr3h",
    "outputId": "d6d26e55-453b-4c1d-efcb-e44ccf758330"
   },
   "outputs": [
    {
     "name": "stderr",
     "output_type": "stream",
     "text": [
      "100%|██████████| 736/736 [00:46<00:00, 15.85it/s]\n"
     ]
    }
   ],
   "source": [
    "features_list = []\n",
    "label_list = []\n",
    "for j in trange(0,len(data_list)):\n",
    "    #extract only xyz columns\n",
    "    x_data = data_list[j].drop(columns=[\"subject_id\",\"activity\"])\n",
    "\n",
    "    #Get features and label for each elements\n",
    "    features_list.append(get_features(x_data))\n",
    "    label_list.append(data_list[j].iloc[0, -1])"
   ]
  },
  {
   "cell_type": "code",
   "execution_count": null,
   "metadata": {
    "id": "ckiGCzGPmr6B"
   },
   "outputs": [],
   "source": [
    "rf = RFC(n_estimators=300,n_jobs=-1)"
   ]
  },
  {
   "cell_type": "code",
   "execution_count": null,
   "metadata": {
    "colab": {
     "base_uri": "https://localhost:8080/"
    },
    "id": "9T_y-fsJl34o",
    "outputId": "a54a2853-c7ff-4226-944b-5d661bd78890"
   },
   "outputs": [
    {
     "name": "stderr",
     "output_type": "stream",
     "text": [
      "[Parallel(n_jobs=-1)]: Using backend LokyBackend with 2 concurrent workers.\n"
     ]
    },
    {
     "name": "stdout",
     "output_type": "stream",
     "text": [
      "0.9034431691965938\n"
     ]
    },
    {
     "name": "stderr",
     "output_type": "stream",
     "text": [
      "[Parallel(n_jobs=-1)]: Done  10 out of  10 | elapsed:  1.3min finished\n"
     ]
    }
   ],
   "source": [
    "cv = StratifiedKFold(n_splits=10, shuffle=False)\n",
    "n_scores = cross_val_score(rf, features_list, label_list, scoring='accuracy', cv=cv, \n",
    "                            n_jobs=-1, error_score='raise', verbose=1)\n",
    "print(n_scores.mean())"
   ]
  },
  {
   "cell_type": "code",
   "execution_count": null,
   "metadata": {
    "colab": {
     "base_uri": "https://localhost:8080/"
    },
    "id": "JjXaxS8yo-zZ",
    "outputId": "d46bdee1-9304-407b-c5a1-2edb4fbdb5d8"
   },
   "outputs": [
    {
     "data": {
      "text/plain": [
       "(0.9034431691965938,\n",
       " array([0.94594595, 0.87837838, 0.91891892, 0.85135135, 0.91891892,\n",
       "        0.97297297, 0.90410959, 0.83561644, 0.8630137 , 0.94520548]))"
      ]
     },
     "execution_count": 51,
     "metadata": {
      "tags": []
     },
     "output_type": "execute_result"
    }
   ],
   "source": [
    "n_scores.mean(), n_scores"
   ]
  },
  {
   "cell_type": "markdown",
   "metadata": {
    "id": "CvFYgYkmCvH7"
   },
   "source": [
    "# Model with transformations"
   ]
  },
  {
   "cell_type": "code",
   "execution_count": null,
   "metadata": {
    "id": "8vgrSqw4pBHO"
   },
   "outputs": [],
   "source": [
    "transforms = list()\n",
    "transforms.append(('mms', MinMaxScaler()))\n",
    "transforms.append(('ss', StandardScaler()))\n",
    "transforms.append(('rs', RobustScaler()))\n",
    "transforms.append(('qt', QuantileTransformer(n_quantiles=100, output_distribution='normal')))\n",
    "transforms.append(('kbd', KBinsDiscretizer(n_bins=10, encode='ordinal', strategy='uniform')))\n",
    "transforms.append(('pca', PCA(n_components=7)))\n",
    "transforms.append(('svd', TruncatedSVD(n_components=7)))"
   ]
  },
  {
   "cell_type": "code",
   "execution_count": null,
   "metadata": {
    "id": "uffuGCrTpT-U"
   },
   "outputs": [],
   "source": [
    "fu = FeatureUnion(transforms)\n",
    "model = RFC(n_estimators=300,n_jobs=-1)\n",
    "steps = list()\n",
    "steps.append(('fu', fu))\n",
    "steps.append(('m', model))\n",
    "pipeline = Pipeline(steps=steps)"
   ]
  },
  {
   "cell_type": "code",
   "execution_count": null,
   "metadata": {
    "colab": {
     "base_uri": "https://localhost:8080/"
    },
    "id": "dCIbbpzpppPm",
    "outputId": "13c3aa73-fde7-4031-ec20-6bb1f210da8e"
   },
   "outputs": [
    {
     "name": "stderr",
     "output_type": "stream",
     "text": [
      "[Parallel(n_jobs=-1)]: Using backend LokyBackend with 2 concurrent workers.\n",
      "[Parallel(n_jobs=-1)]: Done  10 out of  10 | elapsed:   45.2s finished\n"
     ]
    }
   ],
   "source": [
    "cvpipe = StratifiedKFold(n_splits=10, shuffle=False)\n",
    "n_scores_pipe = cross_val_score(pipeline, features_list, label_list, scoring='accuracy', cv=cvpipe, \n",
    "                            n_jobs=-1, error_score='raise', verbose=1)"
   ]
  },
  {
   "cell_type": "code",
   "execution_count": null,
   "metadata": {
    "colab": {
     "base_uri": "https://localhost:8080/"
    },
    "id": "3BU3MOC5qAKa",
    "outputId": "81a95575-65b0-4847-c1de-4381d42085f4"
   },
   "outputs": [
    {
     "data": {
      "text/plain": [
       "(0.9088115512773047,\n",
       " array([0.90540541, 0.89189189, 0.94594595, 0.86486486, 0.95945946,\n",
       "        1.        , 0.93150685, 0.84931507, 0.84931507, 0.89041096]))"
      ]
     },
     "execution_count": 29,
     "metadata": {
      "tags": []
     },
     "output_type": "execute_result"
    }
   ],
   "source": [
    "n_scores_pipe.mean(), n_scores_pipe"
   ]
  },
  {
   "cell_type": "code",
   "execution_count": null,
   "metadata": {
    "id": "r1k8Ih20qObm"
   },
   "outputs": [],
   "source": []
  },
  {
   "cell_type": "markdown",
   "metadata": {
    "id": "UF9he50f7WyL"
   },
   "source": [
    "# Model with Quaternion"
   ]
  },
  {
   "cell_type": "code",
   "execution_count": null,
   "metadata": {
    "colab": {
     "base_uri": "https://localhost:8080/"
    },
    "id": "THMU1hkM58RS",
    "outputId": "320c88b0-69c4-4719-9466-aabd3f4bfa96"
   },
   "outputs": [
    {
     "name": "stderr",
     "output_type": "stream",
     "text": [
      "100%|██████████| 15/15 [00:20<00:00,  1.38s/it]\n"
     ]
    },
    {
     "data": {
      "text/plain": [
       "(950634, 60)"
      ]
     },
     "execution_count": 4,
     "metadata": {
      "tags": []
     },
     "output_type": "execute_result"
    }
   ],
   "source": [
    "q = pd.read_feather(\"/content/drive/MyDrive/Competitions/2021/Bento 2021/Data/quats.feather\")\n",
    "cols = list(q.columns )\n",
    "q2 = []\n",
    "for i in tqdm(cols):\n",
    "    col = np.stack(q[i])\n",
    "    q2.append(col[:,0])\n",
    "    q2.append(col[:,1])\n",
    "    q2.append(col[:,2])\n",
    "    q2.append(col[:,3])\n",
    "\n",
    "q2 = np.transpose(np.array(q2))\n",
    "# q2 = np.append(q2,q2[0]).reshape(1786500,60)\n",
    "q2.shape"
   ]
  },
  {
   "cell_type": "code",
   "execution_count": null,
   "metadata": {
    "colab": {
     "base_uri": "https://localhost:8080/"
    },
    "id": "y1Axux0158Tp",
    "outputId": "faa90bcf-6bd3-46cf-d86b-f2384dbe7e35"
   },
   "outputs": [
    {
     "name": "stderr",
     "output_type": "stream",
     "text": [
      "0it [00:00, ?it/s]\n",
      "0it [00:00, ?it/s]\n",
      "100%|██████████| 5/5 [00:00<00:00, 20.79it/s]\n",
      "100%|██████████| 5/5 [00:00<00:00, 19.95it/s]\n",
      "100%|██████████| 5/5 [00:00<00:00, 20.84it/s]\n",
      "100%|██████████| 5/5 [00:00<00:00, 20.00it/s]\n",
      "100%|██████████| 5/5 [00:00<00:00, 20.13it/s]\n",
      "100%|██████████| 5/5 [00:00<00:00, 19.21it/s]\n",
      "100%|██████████| 5/5 [00:00<00:00, 18.20it/s]\n",
      "100%|██████████| 5/5 [00:00<00:00, 16.81it/s]\n",
      "100%|██████████| 5/5 [00:00<00:00, 16.59it/s]\n",
      "100%|██████████| 5/5 [00:00<00:00, 17.02it/s]\n",
      "0it [00:00, ?it/s]\n",
      "100%|██████████| 5/5 [00:00<00:00, 15.07it/s]\n",
      "100%|██████████| 5/5 [00:00<00:00, 15.53it/s]\n",
      "100%|██████████| 5/5 [00:00<00:00, 17.52it/s]\n",
      "100%|██████████| 5/5 [00:00<00:00, 15.32it/s]\n",
      "100%|██████████| 5/5 [00:00<00:00, 17.55it/s]\n",
      "100%|██████████| 5/5 [00:00<00:00, 18.70it/s]\n",
      "100%|██████████| 5/5 [00:00<00:00, 16.35it/s]\n",
      "100%|██████████| 5/5 [00:00<00:00, 18.05it/s]\n",
      "100%|██████████| 6/6 [00:00<00:00, 19.03it/s]\n",
      "0it [00:00, ?it/s]\n",
      "100%|██████████| 6/6 [00:00<00:00, 13.32it/s]\n",
      "0it [00:00, ?it/s]\n",
      "0it [00:00, ?it/s]\n",
      "100%|██████████| 5/5 [00:00<00:00, 15.56it/s]\n",
      "100%|██████████| 5/5 [00:00<00:00, 15.51it/s]\n",
      "100%|██████████| 5/5 [00:00<00:00, 16.47it/s]\n",
      "100%|██████████| 5/5 [00:00<00:00, 16.49it/s]\n",
      "100%|██████████| 5/5 [00:00<00:00, 15.62it/s]\n",
      "100%|██████████| 5/5 [00:00<00:00, 15.88it/s]\n",
      "100%|██████████| 5/5 [00:00<00:00, 17.20it/s]\n",
      "100%|██████████| 5/5 [00:00<00:00, 15.43it/s]\n",
      "100%|██████████| 5/5 [00:00<00:00, 18.15it/s]\n",
      "100%|██████████| 4/4 [00:00<00:00, 21.17it/s]\n",
      "0it [00:00, ?it/s]\n"
     ]
    }
   ],
   "source": [
    "labels = []\n",
    "for root, dirs, files in os.walk(\"/content/drive/MyDrive/Competitions/2021/Bento 2021/Data/TrainData\"):\n",
    "     for file in tqdm(files):\n",
    "        tempdf = pd.read_csv(os.path.join(root,file))\n",
    "        labels.extend(tempdf.iloc[:,-1])"
   ]
  },
  {
   "cell_type": "code",
   "execution_count": null,
   "metadata": {
    "colab": {
     "base_uri": "https://localhost:8080/"
    },
    "id": "jVeK0P7B7ZEt",
    "outputId": "ca63189d-d9b2-454f-ffe9-59dfef501737"
   },
   "outputs": [
    {
     "data": {
      "text/plain": [
       "950635"
      ]
     },
     "execution_count": 14,
     "metadata": {
      "tags": []
     },
     "output_type": "execute_result"
    }
   ],
   "source": [
    "q2 = np.append(q2,q2[0]).reshape(950635,60)\n",
    "len(labels)"
   ]
  },
  {
   "cell_type": "code",
   "execution_count": null,
   "metadata": {
    "id": "wghKR4ra7831"
   },
   "outputs": [],
   "source": [
    "def windows(arr,labels,overlap_rate,window):\n",
    "    seg_data = []\n",
    "    label = []\n",
    "    labels = np.array(labels)\n",
    "    #convert overlap rate to step for sliding window\n",
    "    overlap = int((1 - overlap_rate)*window)\n",
    "    # interpolate\n",
    "    # df = df.interpolate().ffill().fillna(0)\n",
    "    for i in range(0, arr.shape[0]-window+1, overlap):\n",
    "        seg_data.append(arr[i:i+window])\n",
    "        label.append(int(stats.mode(labels[i:i+window]).mode)) \n",
    "    return seg_data,label"
   ]
  },
  {
   "cell_type": "code",
   "execution_count": null,
   "metadata": {
    "id": "yUlFxwqN_1Rv"
   },
   "outputs": [],
   "source": [
    "segs,annots = windows(q2,labels,0.75,3000)"
   ]
  },
  {
   "cell_type": "code",
   "execution_count": null,
   "metadata": {
    "id": "XprPm9HhACSu"
   },
   "outputs": [],
   "source": [
    "features = []\n",
    "for i in segs:\n",
    "    features.append(get_features(pd.DataFrame(i)))"
   ]
  },
  {
   "cell_type": "code",
   "execution_count": null,
   "metadata": {
    "id": "GPXF0om2AxoF"
   },
   "outputs": [],
   "source": [
    "rfq = RFC(n_estimators=1200,n_jobs=-1)"
   ]
  },
  {
   "cell_type": "code",
   "execution_count": null,
   "metadata": {
    "colab": {
     "base_uri": "https://localhost:8080/"
    },
    "id": "FEJad4qNA9nZ",
    "outputId": "4dc11140-ba39-441b-ef9d-0f5d25f0f61c"
   },
   "outputs": [
    {
     "name": "stderr",
     "output_type": "stream",
     "text": [
      "[Parallel(n_jobs=-1)]: Using backend LokyBackend with 2 concurrent workers.\n"
     ]
    },
    {
     "name": "stdout",
     "output_type": "stream",
     "text": [
      "0.8259530058742657\n"
     ]
    },
    {
     "name": "stderr",
     "output_type": "stream",
     "text": [
      "[Parallel(n_jobs=-1)]: Done  10 out of  10 | elapsed:  1.9min finished\n"
     ]
    }
   ],
   "source": [
    "cvq = StratifiedKFold(n_splits=10, shuffle=False)\n",
    "n_scores = cross_val_score(rfq, np.nan_to_num(features), annots, scoring='accuracy', cv=cvq, \n",
    "                            n_jobs=-1, error_score='raise', verbose=1)\n",
    "print(n_scores.mean())"
   ]
  },
  {
   "cell_type": "code",
   "execution_count": null,
   "metadata": {
    "colab": {
     "base_uri": "https://localhost:8080/"
    },
    "id": "BF96duj0BS6d",
    "outputId": "43ba343e-fb1a-49e8-99ec-39012b06962c"
   },
   "outputs": [
    {
     "data": {
      "text/plain": [
       "array([0.77165354, 0.85826772, 0.84251969, 0.82677165, 0.88888889,\n",
       "       0.83333333, 0.84126984, 0.76190476, 0.79365079, 0.84126984])"
      ]
     },
     "execution_count": 42,
     "metadata": {
      "tags": []
     },
     "output_type": "execute_result"
    }
   ],
   "source": [
    "n_scores"
   ]
  },
  {
   "cell_type": "code",
   "execution_count": null,
   "metadata": {
    "id": "uTgtQLZhCco4"
   },
   "outputs": [],
   "source": []
  },
  {
   "cell_type": "markdown",
   "metadata": {
    "id": "8Fc08mp9ECM2"
   },
   "source": [
    "# With speed and acc"
   ]
  },
  {
   "cell_type": "code",
   "execution_count": null,
   "metadata": {
    "id": "MbdY__35HT06"
   },
   "outputs": [],
   "source": [
    "data = pd.read_feather(\"/content/drive/MyDrive/Competitions/2021/Bento 2021/Data/streams.feather\")\n",
    "quats = pd.read_feather(\"/content/drive/MyDrive/Competitions/2021/Bento 2021/Data/quats.feather\")"
   ]
  },
  {
   "cell_type": "code",
   "execution_count": null,
   "metadata": {
    "id": "y8PTC7dqGgke"
   },
   "outputs": [],
   "source": [
    "cols = list(quats.columns )\n",
    "q2 = []\n",
    "for i in tqdm(cols):\n",
    "    col = np.stack(quats[i])\n",
    "    q2.append(col[:,0])\n",
    "    q2.append(col[:,1])\n",
    "    q2.append(col[:,2])\n",
    "    q2.append(col[:,3])\n",
    "\n",
    "q2 = np.transpose(np.array(q2))\n",
    "# q2 = np.append(q2,q2[0]).reshape(1786500,60)\n",
    "q2 = pd.DataFrame(np.append(q2,q2[0]).reshape(950635,60))"
   ]
  },
  {
   "cell_type": "code",
   "execution_count": null,
   "metadata": {
    "id": "XmtyvrJeGgox"
   },
   "outputs": [],
   "source": [
    "X = pd.concat([data.drop(columns = ['subject_id','activity']),q2],axis = 1)\n",
    "y = data['activity']"
   ]
  },
  {
   "cell_type": "code",
   "execution_count": null,
   "metadata": {
    "id": "bykfMBIWGgq9"
   },
   "outputs": [],
   "source": [
    "seg = []\n",
    "labels = []\n",
    "for i in tqdm(range(0,len(X)-3001,2250)):\n",
    "    seg.append(X.iloc[i:i+3000])\n",
    "    labels.append(stats.mode(y[i:i+3000])[0][0])"
   ]
  },
  {
   "cell_type": "code",
   "execution_count": null,
   "metadata": {
    "id": "6dxfn2bZGgud"
   },
   "outputs": [],
   "source": [
    "rf = RFC(n_estimators=300,n_jobs=-1)\n",
    "cv = StratifiedKFold(n_splits=10, shuffle=False)\n",
    "n_scores = cross_val_score(rf, seg, labels, scoring='accuracy', cv=cv, \n",
    "                            n_jobs=-1, error_score='raise', verbose=1)\n",
    "print(n_scores.mean())"
   ]
  }
 ],
 "metadata": {
  "colab": {
   "authorship_tag": "ABX9TyOiKNLLAh4r5oSXLmNLFdkL",
   "collapsed_sections": [],
   "include_colab_link": true,
   "mount_file_id": "1egFWIAZMiwXhMmIEqI-W7rGcEwbNrQCj",
   "name": "Bento.ipynb",
   "provenance": []
  },
  "kernelspec": {
   "display_name": "Python 3 (ipykernel)",
   "language": "python",
   "name": "python3"
  },
  "language_info": {
   "codemirror_mode": {
    "name": "ipython",
    "version": 3
   },
   "file_extension": ".py",
   "mimetype": "text/x-python",
   "name": "python",
   "nbconvert_exporter": "python",
   "pygments_lexer": "ipython3",
   "version": "3.9.6"
  }
 },
 "nbformat": 4,
 "nbformat_minor": 1
}
