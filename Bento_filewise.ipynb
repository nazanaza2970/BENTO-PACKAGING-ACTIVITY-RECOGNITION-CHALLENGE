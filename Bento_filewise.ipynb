{
  "nbformat": 4,
  "nbformat_minor": 0,
  "metadata": {
    "colab": {
      "name": "Bento_filewise.ipynb",
      "provenance": []
    },
    "kernelspec": {
      "name": "python3",
      "display_name": "Python 3"
    },
    "language_info": {
      "name": "python"
    }
  },
  "cells": [
    {
      "cell_type": "code",
      "metadata": {
        "id": "mgZuX9N0pmyy"
      },
      "source": [
        "import numpy as np\n",
        "import pandas as pd\n",
        "from tqdm import tqdm\n",
        "import os"
      ],
      "execution_count": 3,
      "outputs": []
    },
    {
      "cell_type": "code",
      "metadata": {
        "colab": {
          "base_uri": "https://localhost:8080/"
        },
        "id": "D1wCtXsVpvnU",
        "outputId": "2c1f979b-e227-4def-cfae-3b9fea66327f"
      },
      "source": [
        "data = []\n",
        "for root, dirs, files in os.walk(\"/content/drive/MyDrive/Competitions/2021/Bento 2021/Data/TrainData\"):\n",
        "     for file in tqdm(files):\n",
        "        data.append(pd.read_csv(os.path.join(root, file)))"
      ],
      "execution_count": 4,
      "outputs": [
        {
          "output_type": "stream",
          "text": [
            "0it [00:00, ?it/s]\n",
            "0it [00:00, ?it/s]\n",
            "100%|██████████| 5/5 [00:01<00:00,  2.61it/s]\n",
            "100%|██████████| 5/5 [00:01<00:00,  2.86it/s]\n",
            "100%|██████████| 5/5 [00:01<00:00,  3.08it/s]\n",
            "100%|██████████| 5/5 [00:02<00:00,  1.91it/s]\n",
            "100%|██████████| 5/5 [00:02<00:00,  2.17it/s]\n",
            "100%|██████████| 5/5 [00:01<00:00,  2.91it/s]\n",
            "100%|██████████| 5/5 [00:01<00:00,  2.88it/s]\n",
            "100%|██████████| 5/5 [00:01<00:00,  2.95it/s]\n",
            "100%|██████████| 5/5 [00:01<00:00,  2.56it/s]\n",
            "100%|██████████| 5/5 [00:02<00:00,  2.39it/s]\n",
            "0it [00:00, ?it/s]\n",
            "100%|██████████| 5/5 [00:01<00:00,  2.66it/s]\n",
            "100%|██████████| 5/5 [00:01<00:00,  3.48it/s]\n",
            "100%|██████████| 5/5 [00:01<00:00,  2.83it/s]\n",
            "100%|██████████| 5/5 [00:01<00:00,  2.60it/s]\n",
            "100%|██████████| 5/5 [00:01<00:00,  2.64it/s]\n",
            "100%|██████████| 5/5 [00:01<00:00,  3.03it/s]\n",
            "100%|██████████| 5/5 [00:01<00:00,  2.97it/s]\n",
            "100%|██████████| 5/5 [00:01<00:00,  2.95it/s]\n",
            "100%|██████████| 6/6 [00:02<00:00,  2.91it/s]\n",
            "100%|██████████| 6/6 [00:02<00:00,  2.10it/s]\n",
            "0it [00:00, ?it/s]\n",
            "100%|██████████| 5/5 [00:01<00:00,  2.70it/s]\n",
            "100%|██████████| 5/5 [00:01<00:00,  2.88it/s]\n",
            "100%|██████████| 5/5 [00:02<00:00,  2.29it/s]\n",
            "100%|██████████| 5/5 [00:01<00:00,  2.61it/s]\n",
            "100%|██████████| 5/5 [00:02<00:00,  2.37it/s]\n",
            "100%|██████████| 5/5 [00:01<00:00,  2.83it/s]\n",
            "100%|██████████| 5/5 [00:01<00:00,  2.94it/s]\n",
            "100%|██████████| 5/5 [00:01<00:00,  3.36it/s]\n",
            "100%|██████████| 5/5 [00:02<00:00,  2.41it/s]\n",
            "100%|██████████| 4/4 [00:01<00:00,  2.31it/s]\n",
            "0it [00:00, ?it/s]\n"
          ],
          "name": "stderr"
        }
      ]
    },
    {
      "cell_type": "code",
      "metadata": {
        "id": "ZYQJWGJqqry0"
      },
      "source": [
        "def get_features(x_data):\n",
        "    #Set features list\n",
        "    features = []\n",
        "    #Set columns name list\n",
        "    DFclist=list(x_data.columns)\n",
        "\n",
        "    #Calculate features (STD, Average, Max, Min) for each data columns X Y Z \n",
        "    for k in DFclist:\n",
        "        # std\n",
        "        features.append(x_data[k].std(ddof=0))\n",
        "        # avg\n",
        "        features.append(np.average(x_data[k]))\n",
        "        # max\n",
        "        features.append(np.max(x_data[k]))\n",
        "        # min\n",
        "        features.append(np.min(x_data[k]))\n",
        "        #median\n",
        "        features.append(np.median(x_data[k]))                                \n",
        "        #mode\n",
        "        # features.append(stats.mode(x_data[k]))                                  #produces single value\n",
        "        #variance\n",
        "        # features.append(np.var(x_data[k]))\n",
        "        #skewness\n",
        "        # features.append(stats.skew(x_data[k]))\n",
        "        #kutosis\n",
        "        # features.append(stats.kurtosis(x_data[k]))\n",
        "        #mad\n",
        "        # features.append(x_data[k].apply(lambda x: pd.Series(x).mad()))           #too slow\n",
        "        #energy\n",
        "        # features.append(x_data[k].apply(lambda x: sum(x**2)/len(x)))             #throws error\n",
        "        #iqr\n",
        "        # features.append(x_data[k].apply(stats.iqr))\n",
        "        #entropy\n",
        "        # features.append(x_data[k].apply(entropy))                                #throws error\n",
        "    return features"
      ],
      "execution_count": 5,
      "outputs": []
    },
    {
      "cell_type": "code",
      "metadata": {
        "colab": {
          "base_uri": "https://localhost:8080/"
        },
        "id": "Kpah3_8Cq_Fv",
        "outputId": "87113374-b5cb-4f8d-efb3-adb18aa29a47"
      },
      "source": [
        "feature_all = []\n",
        "labels = []\n",
        "for df in tqdm(data):\n",
        "    feature_all.append(get_features(df.iloc[:,:-2]))\n",
        "    labels.append(df.iloc[0,-1])"
      ],
      "execution_count": 12,
      "outputs": [
        {
          "output_type": "stream",
          "text": [
            "100%|██████████| 151/151 [00:03<00:00, 48.02it/s]\n"
          ],
          "name": "stderr"
        }
      ]
    },
    {
      "cell_type": "code",
      "metadata": {
        "id": "2KTJ4M-CsX28"
      },
      "source": [
        "from sklearn.model_selection import cross_val_score\n",
        "from sklearn.model_selection import KFold\n",
        "from sklearn.ensemble import RandomForestClassifier"
      ],
      "execution_count": 13,
      "outputs": []
    },
    {
      "cell_type": "code",
      "metadata": {
        "id": "gl8v-D2WuT5r"
      },
      "source": [
        "model_ml = RandomForestClassifier(n_estimators=500,n_jobs=-1)"
      ],
      "execution_count": 14,
      "outputs": []
    },
    {
      "cell_type": "code",
      "metadata": {
        "id": "Nnm611cBuy-L"
      },
      "source": [
        "train_data = np.nan_to_num(np.array(feature_all))"
      ],
      "execution_count": 22,
      "outputs": []
    },
    {
      "cell_type": "code",
      "metadata": {
        "id": "rg0EO6TnuawV"
      },
      "source": [
        "kf = KFold(n_splits=151)\n",
        "scores = cross_val_score(model_ml,train_data , labels, scoring='accuracy', cv=kf, n_jobs=-1, error_score='raise')\n"
      ],
      "execution_count": 23,
      "outputs": []
    },
    {
      "cell_type": "code",
      "metadata": {
        "colab": {
          "base_uri": "https://localhost:8080/"
        },
        "id": "e84BXAdVvVTX",
        "outputId": "699d7cb9-7df8-4da4-f98d-2bfbf67b4bd7"
      },
      "source": [
        "print(np.mean(scores))"
      ],
      "execution_count": 24,
      "outputs": [
        {
          "output_type": "stream",
          "text": [
            "0.8807947019867549\n"
          ],
          "name": "stdout"
        }
      ]
    },
    {
      "cell_type": "code",
      "metadata": {
        "colab": {
          "base_uri": "https://localhost:8080/"
        },
        "id": "PSL2QRSNwrBK",
        "outputId": "de031ccd-e817-4454-97ea-7e81938fe9ff"
      },
      "source": [
        "np.argwhere(scores==0)"
      ],
      "execution_count": 26,
      "outputs": [
        {
          "output_type": "execute_result",
          "data": {
            "text/plain": [
              "array([[ 20],\n",
              "       [ 22],\n",
              "       [ 27],\n",
              "       [ 40],\n",
              "       [ 56],\n",
              "       [ 65],\n",
              "       [ 66],\n",
              "       [ 80],\n",
              "       [ 81],\n",
              "       [ 84],\n",
              "       [ 94],\n",
              "       [113],\n",
              "       [116],\n",
              "       [117],\n",
              "       [119],\n",
              "       [123],\n",
              "       [127],\n",
              "       [135]])"
            ]
          },
          "metadata": {
            "tags": []
          },
          "execution_count": 26
        }
      ]
    },
    {
      "cell_type": "code",
      "metadata": {
        "id": "F2WrbyT0wxxT"
      },
      "source": [
        ""
      ],
      "execution_count": null,
      "outputs": []
    }
  ]
}