{
 "cells": [
  {
   "cell_type": "code",
   "execution_count": 1,
   "source": [
    "import numpy as np\r\n",
    "import pandas as pd\r\n",
    "import glob\r\n",
    "from tqdm.notebook import tqdm\r\n",
    "from sklearn.ensemble import RandomForestClassifier as RFC\r\n",
    "from sklearn.model_selection import RepeatedStratifiedKFold, cross_val_score"
   ],
   "outputs": [],
   "metadata": {}
  },
  {
   "cell_type": "code",
   "execution_count": 2,
   "source": [
    "def segmentation(df, overlap_rate, time_window):\r\n",
    "    \r\n",
    "    # make a list for segment window and its label\r\n",
    "    seg_data = []\r\n",
    "\r\n",
    "    #convert overlap rate to step for sliding window\r\n",
    "    overlap = int((1 - overlap_rate)*time_window)\r\n",
    "    \r\n",
    "    # interpolate\r\n",
    "    df = df.interpolate().ffill().fillna(0)\r\n",
    "    #segment\r\n",
    "    for i in range(0, len(df)-time_window+1, overlap):\r\n",
    "        seg_data.append(df.loc[i:i+time_window-1, :].copy().reset_index(drop=True))\r\n",
    "        \r\n",
    "    return seg_data"
   ],
   "outputs": [],
   "metadata": {}
  },
  {
   "cell_type": "code",
   "execution_count": null,
   "source": [
    "def rename_columns(x_data):\r\n",
    "    x_data.columns = [\r\n",
    "        \"\"\r\n",
    "    ]"
   ],
   "outputs": [],
   "metadata": {}
  },
  {
   "cell_type": "code",
   "execution_count": 3,
   "source": [
    "data_list = []\r\n",
    "for file in tqdm(glob.glob(\"../TrainData/*/*/*.csv\")):\r\n",
    "    tempdf = pd.read_csv(file)\r\n",
    "    data_list.extend(segmentation(tempdf, 0.5, 500))"
   ],
   "outputs": [
    {
     "output_type": "display_data",
     "data": {
      "text/plain": [
       "  0%|          | 0/151 [00:00<?, ?it/s]"
      ],
      "application/vnd.jupyter.widget-view+json": {
       "version_major": 2,
       "version_minor": 0,
       "model_id": "47d6d6f33e994e1e928e8325f068af95"
      }
     },
     "metadata": {}
    }
   ],
   "metadata": {}
  },
  {
   "cell_type": "code",
   "execution_count": 16,
   "source": [
    "def get_speed_acc(x_data):\r\n",
    "    speed = x_data.diff().fillna(0)\r\n",
    "    acc = speed.diff().fillna(0)\r\n",
    "    speed.columns = [f\"{col}_speed\" for col in speed.columns]\r\n",
    "    acc.columns = [f\"{col}_acc\" for col in acc.columns]\r\n",
    "    return speed, acc"
   ],
   "outputs": [],
   "metadata": {}
  },
  {
   "cell_type": "code",
   "execution_count": null,
   "source": [
    "def get_joint_distances(x_data):\r\n",
    "    # joints\r\n",
    "    # Front head        ->  left shoulder       (1->8)\r\n",
    "    # Front head        ->  right shoulder      (1->4)\r\n",
    "    # left shoulder     ->  left wrist          (8->10)\r\n",
    "    # right shoulder    ->  right wrist         (4->7)\r\n",
    "    # v sacral          ->  left elbow          (13->9)\r\n",
    "    # v sacral          ->  right elbow         (13->6)\r\n",
    "    # v sacral          ->  left wrist          (13->10)\r\n",
    "    # v sacral          ->  right wrist         (13->7)\r\n",
    "    # v sacral          ->  rear head           (13->3)\r\n",
    "    # v sacral          ->  top head            (13->2)\r\n",
    "    # left wrist        ->  right wrist         (10->7)\r\n",
    "    # left asis         ->  left wrist          (12->10)\r\n",
    "    # right asis        ->  right wrist         (11->7)\r\n",
    "    # left wrist        ->  top head            (10->2)\r\n",
    "    # right wrist       ->  top head            (7->2)\r\n",
    "    # top head          ->  left asis           (2->)\r\n",
    "    pass"
   ],
   "outputs": [],
   "metadata": {}
  },
  {
   "cell_type": "code",
   "execution_count": null,
   "source": [
    "def get_joint_angles(x_data):\r\n",
    "    # joints\r\n",
    "    # left shoulder     ->  left elbow      ->  left wrist      (8->9->10)\r\n",
    "    # right shoulder    ->  right elbow     ->  right wrist     (4->6->7)\r\n",
    "    # right shoulder    ->  left shoulder   ->  front head      (4->8->1)\r\n",
    "    # right shoulder    ->  left shoulder   ->  left elbow      (4->8->9)\r\n",
    "    # left shoulder     ->  right shoulder  ->  right elbow     (8->4->6)\r\n",
    "    # v sacral          ->  right offset    ->  rear head       (13->5->3)\r\n",
    "    # vsacral           ->  top head        ->  front head      (13->2->1)\r\n",
    "    # v sacral          ->  left shoulder   ->  left elbow      (13->8->9)\r\n",
    "    # v sacral          ->  right shoulder  ->  right elbow     (13->4->6)\r\n",
    "    # left asis         ->  left shoulder   ->  left elbow      (12->8->9)\r\n",
    "    # right asis        -> right shoulder   ->  right elbow     (11->4->6)\r\n",
    "    pass"
   ],
   "outputs": [],
   "metadata": {}
  },
  {
   "cell_type": "code",
   "execution_count": null,
   "source": [
    "def get_streams(x_data):\r\n",
    "    pass"
   ],
   "outputs": [],
   "metadata": {}
  },
  {
   "cell_type": "code",
   "execution_count": 12,
   "source": [
    "def get_features(x_data):\r\n",
    "    #Set features list\r\n",
    "    features = []\r\n",
    "    #Set columns name list\r\n",
    "    cols = x_data.columns.tolist()\r\n",
    "\r\n",
    "    #Calculate features (STD, Average, Max, Min) for each data columns X Y Z \r\n",
    "    for k in cols:\r\n",
    "        # std\r\n",
    "        features.append(x_data[k].std(ddof=0))\r\n",
    "        # avg\r\n",
    "        features.append(np.average(x_data[k]))\r\n",
    "        # max\r\n",
    "        features.append(np.max(x_data[k]))\r\n",
    "        # min\r\n",
    "        features.append(np.min(x_data[k]))\r\n",
    "        #median\r\n",
    "        features.append(np.median(x_data[k]))                                \r\n",
    "        features.append(np.var(x_data[k]))\r\n",
    "#         #skewness\r\n",
    "#         features.append(stats.skew(x_data[k]))\r\n",
    "#         #kutosis\r\n",
    "#         features.append(stats.kurtosis(x_data[k]))\r\n",
    "    return features"
   ],
   "outputs": [],
   "metadata": {}
  },
  {
   "cell_type": "code",
   "execution_count": 13,
   "source": [
    "features_list = []\r\n",
    "label_list = []\r\n",
    "for j in tqdm(range(0,len(data_list))):\r\n",
    "    #extract only xyz columns\r\n",
    "    x_data = data_list[j].drop(columns=[\"subject_id\",\"activity\"])\r\n",
    "\r\n",
    "    #Get features and label for each elements\r\n",
    "    features_list.append(get_features(x_data))\r\n",
    "    label_list.append(data_list[j].iloc[0, -1])"
   ],
   "outputs": [
    {
     "output_type": "display_data",
     "data": {
      "text/plain": [
       "  0%|          | 0/3573 [00:00<?, ?it/s]"
      ],
      "application/vnd.jupyter.widget-view+json": {
       "model_id": "63f7daaa0f464813902aa823b1eda5cd",
       "version_major": 2,
       "version_minor": 0
      }
     },
     "metadata": {}
    }
   ],
   "metadata": {}
  },
  {
   "cell_type": "code",
   "execution_count": 20,
   "source": [
    "rf = RFC(n_estimators=300,n_jobs=-1)"
   ],
   "outputs": [],
   "metadata": {}
  },
  {
   "cell_type": "code",
   "execution_count": 23,
   "source": [
    "cv = RepeatedStratifiedKFold(n_splits=10, n_repeats=3, random_state=1)\r\n",
    "n_scores = cross_val_score(rf, features_list, label_list, scoring='accuracy', cv=cv, n_jobs=-1, error_score='raise', verbose=2)"
   ],
   "outputs": [
    {
     "output_type": "stream",
     "name": "stderr",
     "text": [
      "[Parallel(n_jobs=-1)]: Using backend LokyBackend with 4 concurrent workers.\n",
      "[Parallel(n_jobs=-1)]: Done  30 out of  30 | elapsed:  3.8min finished\n"
     ]
    }
   ],
   "metadata": {}
  },
  {
   "cell_type": "code",
   "execution_count": 25,
   "source": [
    "n_scores.mean(), n_scores"
   ],
   "outputs": [
    {
     "output_type": "execute_result",
     "data": {
      "text/plain": [
       "(0.8262024735406269,\n",
       " array([0.79329609, 0.82960894, 0.82681564, 0.85434174, 0.83753501,\n",
       "        0.86834734, 0.79831933, 0.81792717, 0.83473389, 0.8487395 ,\n",
       "        0.83798883, 0.79888268, 0.84078212, 0.82352941, 0.82913165,\n",
       "        0.85154062, 0.80112045, 0.82913165, 0.81232493, 0.82072829,\n",
       "        0.79050279, 0.81005587, 0.84357542, 0.85154062, 0.82633053,\n",
       "        0.79551821, 0.82913165, 0.83753501, 0.85154062, 0.79551821]))"
      ]
     },
     "metadata": {},
     "execution_count": 25
    }
   ],
   "metadata": {}
  },
  {
   "cell_type": "code",
   "execution_count": null,
   "source": [],
   "outputs": [],
   "metadata": {}
  }
 ],
 "metadata": {
  "kernelspec": {
   "name": "python3",
   "display_name": "Python 3.8.5 64-bit"
  },
  "language_info": {
   "codemirror_mode": {
    "name": "ipython",
    "version": 3
   },
   "file_extension": ".py",
   "mimetype": "text/x-python",
   "name": "python",
   "nbconvert_exporter": "python",
   "pygments_lexer": "ipython3",
   "version": "3.8.5"
  },
  "interpreter": {
   "hash": "1baa965d5efe3ac65b79dfc60c0d706280b1da80fedb7760faf2759126c4f253"
  }
 },
 "nbformat": 4,
 "nbformat_minor": 5
}