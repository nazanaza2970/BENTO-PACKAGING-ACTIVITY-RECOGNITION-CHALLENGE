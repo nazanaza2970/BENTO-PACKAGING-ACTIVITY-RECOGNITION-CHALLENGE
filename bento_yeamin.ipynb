{
  "nbformat": 4,
  "nbformat_minor": 0,
  "metadata": {
    "colab": {
      "name": "bento-yeamin.ipynb",
      "provenance": [],
      "collapsed_sections": []
    },
    "kernelspec": {
      "name": "python3",
      "display_name": "Python 3"
    },
    "language_info": {
      "name": "python"
    }
  },
  "cells": [
    {
      "cell_type": "code",
      "metadata": {
        "colab": {
          "base_uri": "https://localhost:8080/"
        },
        "id": "GZiztQYMevYo",
        "outputId": "2768919c-afef-4293-a253-adf6baa9d07e"
      },
      "source": [
        "!gdown  --id '1-0Ld2ewmzMgN_6A6AP175QTLSsjspS_Y/view?usp=sharing'"
      ],
      "execution_count": null,
      "outputs": [
        {
          "output_type": "stream",
          "text": [
            "Permission denied: https://drive.google.com/uc?id=1-0Ld2ewmzMgN_6A6AP175QTLSsjspS_Y/view?usp=sharing\n",
            "Maybe you need to change permission over 'Anyone with the link'?\n"
          ],
          "name": "stdout"
        }
      ]
    },
    {
      "cell_type": "code",
      "metadata": {
        "id": "6gAzqf9OlqAm"
      },
      "source": [
        "import numpy as np\n",
        "import pandas as pd\n",
        "import glob\n",
        "from tqdm import tqdm"
      ],
      "execution_count": 1,
      "outputs": []
    },
    {
      "cell_type": "code",
      "metadata": {
        "id": "VdQ7rdNJEMIY"
      },
      "source": [
        "from matplotlib import pyplot\n",
        "from keras.models import Sequential\n",
        "from keras.layers import Dense\n",
        "from keras.layers import Flatten\n",
        "from keras.layers import Dropout\n",
        "from keras.layers.convolutional import Conv1D\n",
        "from keras.layers.convolutional import MaxPooling1D\n",
        "#from keras.utils import to_categorical"
      ],
      "execution_count": 32,
      "outputs": []
    },
    {
      "cell_type": "code",
      "metadata": {
        "colab": {
          "base_uri": "https://localhost:8080/"
        },
        "id": "F6noCjU5lyaW",
        "outputId": "594f4c83-1a73-4a55-99a7-266305eb6a93"
      },
      "source": [
        "from google.colab import drive\n",
        "drive.mount(\"/content/drive\")"
      ],
      "execution_count": 2,
      "outputs": [
        {
          "output_type": "stream",
          "text": [
            "Mounted at /content/drive\n"
          ],
          "name": "stdout"
        }
      ]
    },
    {
      "cell_type": "code",
      "metadata": {
        "id": "8FRzJcSimc4N"
      },
      "source": [
        "data=pd.DataFrame(columns=['X1', 'Y1', 'Z1', 'X2', 'Y2', 'Z2', 'X3', 'Y3', 'Z3', 'X4', 'Y4', 'Z4',\n",
        "       'X5', 'Y5', 'Z5', 'X6', 'Y6', 'Z6', 'X7', 'Y7', 'Z7', 'X8', 'Y8', 'Z8',\n",
        "       'X9', 'Y9', 'Z9', 'X10', 'Y10', 'Z10', 'X11', 'Y11', 'Z11', 'X12',\n",
        "       'Y12', 'Z12', 'X13', 'Y13', 'Z13','subject_id','activity'])"
      ],
      "execution_count": 3,
      "outputs": []
    },
    {
      "cell_type": "code",
      "metadata": {
        "id": "Mvpb_zEimeVh"
      },
      "source": [
        "\n",
        "\n",
        "def segmentation(df, overlap_rate, time_window):\n",
        "    \n",
        "    # make a list for segment window and its label\n",
        "    seg_data = []\n",
        "\n",
        "    #convert overlap rate to step for sliding window\n",
        "    overlap = int((1 - overlap_rate)*time_window)\n",
        "    \n",
        "    # interpolate\n",
        "    df = df.interpolate().ffill().fillna(0)\n",
        "    #segment\n",
        "    for i in range(0, len(df)-time_window+1, overlap):\n",
        "        seg_data.append(df.loc[i:i+time_window-1, :].copy().reset_index(drop=True))\n",
        "        \n",
        "    return seg_data\n",
        "\n"
      ],
      "execution_count": 4,
      "outputs": []
    },
    {
      "cell_type": "code",
      "metadata": {
        "colab": {
          "base_uri": "https://localhost:8080/"
        },
        "id": "pJne2aTGmnyB",
        "outputId": "b8226078-679a-485c-bc34-3146d9cecaac"
      },
      "source": [
        "data_list = []\n",
        "for subjects in tqdm(glob.glob(\"/content/drive/MyDrive/Competitions/2021/bento/data/TrainData/*\")):\n",
        "    for activity in tqdm(glob.glob(subjects+'/*')):\n",
        "       for file in tqdm(glob.glob(activity+'/*')):\n",
        "         temp = pd.read_csv(file)\n",
        "         temp.drop('subject_id',axis=1,inplace=True)\n",
        "         data_list.extend(segmentation(temp, 0.5, 500))"
      ],
      "execution_count": 7,
      "outputs": [
        {
          "output_type": "stream",
          "text": [
            "  0%|          | 0/3 [00:00<?, ?it/s]\n",
            "  0%|          | 0/10 [00:00<?, ?it/s]\u001b[A\n",
            "\n",
            "  0%|          | 0/6 [00:00<?, ?it/s]\u001b[A\u001b[A\n",
            "\n",
            " 33%|███▎      | 2/6 [00:00<00:00, 14.31it/s]\u001b[A\u001b[A\n",
            "\n",
            "100%|██████████| 6/6 [00:00<00:00, 15.88it/s]\n",
            "\n",
            " 10%|█         | 1/10 [00:00<00:03,  2.59it/s]\u001b[A\n",
            "\n",
            "  0%|          | 0/5 [00:00<?, ?it/s]\u001b[A\u001b[A\n",
            "\n",
            " 40%|████      | 2/5 [00:00<00:00, 16.02it/s]\u001b[A\u001b[A\n",
            "\n",
            "100%|██████████| 5/5 [00:00<00:00, 15.27it/s]\n",
            "\n",
            " 20%|██        | 2/10 [00:00<00:02,  2.67it/s]\u001b[A\n",
            "\n",
            "  0%|          | 0/5 [00:00<?, ?it/s]\u001b[A\u001b[A\n",
            "\n",
            " 40%|████      | 2/5 [00:00<00:00, 15.45it/s]\u001b[A\u001b[A\n",
            "\n",
            "100%|██████████| 5/5 [00:00<00:00, 15.16it/s]\n",
            "\n",
            " 30%|███       | 3/10 [00:01<00:02,  2.69it/s]\u001b[A\n",
            "\n",
            "  0%|          | 0/5 [00:00<?, ?it/s]\u001b[A\u001b[A\n",
            "\n",
            " 40%|████      | 2/5 [00:00<00:00, 14.14it/s]\u001b[A\u001b[A\n",
            "\n",
            "100%|██████████| 5/5 [00:00<00:00, 14.03it/s]\n",
            "\n",
            " 40%|████      | 4/10 [00:01<00:02,  2.69it/s]\u001b[A\n",
            "\n",
            "  0%|          | 0/5 [00:00<?, ?it/s]\u001b[A\u001b[A\n",
            "\n",
            " 40%|████      | 2/5 [00:00<00:00, 14.11it/s]\u001b[A\u001b[A\n",
            "\n",
            "100%|██████████| 5/5 [00:00<00:00, 14.08it/s]\n",
            "\n",
            " 50%|█████     | 5/10 [00:01<00:01,  2.70it/s]\u001b[A\n",
            "\n",
            "  0%|          | 0/5 [00:00<?, ?it/s]\u001b[A\u001b[A\n",
            "\n",
            " 40%|████      | 2/5 [00:00<00:00, 15.75it/s]\u001b[A\u001b[A\n",
            "\n",
            "100%|██████████| 5/5 [00:00<00:00, 14.88it/s]\n",
            "\n",
            " 60%|██████    | 6/10 [00:02<00:01,  2.73it/s]\u001b[A\n",
            "\n",
            "  0%|          | 0/5 [00:00<?, ?it/s]\u001b[A\u001b[A\n",
            "\n",
            " 40%|████      | 2/5 [00:00<00:00, 14.27it/s]\u001b[A\u001b[A\n",
            "\n",
            "100%|██████████| 5/5 [00:00<00:00, 13.78it/s]\n",
            "\n",
            " 70%|███████   | 7/10 [00:02<00:01,  2.71it/s]\u001b[A\n",
            "\n",
            "  0%|          | 0/5 [00:00<?, ?it/s]\u001b[A\u001b[A\n",
            "\n",
            " 40%|████      | 2/5 [00:00<00:00, 16.14it/s]\u001b[A\u001b[A\n",
            "\n",
            "100%|██████████| 5/5 [00:00<00:00, 15.00it/s]\n",
            "\n",
            " 80%|████████  | 8/10 [00:02<00:00,  2.75it/s]\u001b[A\n",
            "\n",
            "  0%|          | 0/5 [00:00<?, ?it/s]\u001b[A\u001b[A\n",
            "\n",
            " 40%|████      | 2/5 [00:00<00:00, 14.97it/s]\u001b[A\u001b[A\n",
            "\n",
            "100%|██████████| 5/5 [00:00<00:00, 14.91it/s]\n",
            "\n",
            " 90%|█████████ | 9/10 [00:03<00:00,  2.77it/s]\u001b[A\n",
            "\n",
            "  0%|          | 0/6 [00:00<?, ?it/s]\u001b[A\u001b[A\n",
            "\n",
            " 33%|███▎      | 2/6 [00:00<00:00, 13.85it/s]\u001b[A\u001b[A\n",
            "\n",
            " 67%|██████▋   | 4/6 [00:00<00:00, 13.67it/s]\u001b[A\u001b[A\n",
            "\n",
            "100%|██████████| 6/6 [00:00<00:00, 13.03it/s]\n",
            "\n",
            "100%|██████████| 10/10 [00:03<00:00,  2.66it/s]\n",
            " 33%|███▎      | 1/3 [00:03<00:07,  3.76s/it]\n",
            "  0%|          | 0/10 [00:00<?, ?it/s]\u001b[A\n",
            "\n",
            "  0%|          | 0/5 [00:00<?, ?it/s]\u001b[A\u001b[A\n",
            "\n",
            " 40%|████      | 2/5 [00:00<00:00, 18.74it/s]\u001b[A\u001b[A\n",
            "\n",
            "100%|██████████| 5/5 [00:00<00:00, 16.40it/s]\n",
            "\n",
            " 10%|█         | 1/10 [00:00<00:02,  3.02it/s]\u001b[A\n",
            "\n",
            "  0%|          | 0/5 [00:00<?, ?it/s]\u001b[A\u001b[A\n",
            "\n",
            " 40%|████      | 2/5 [00:00<00:00, 16.96it/s]\u001b[A\u001b[A\n",
            "\n",
            "100%|██████████| 5/5 [00:00<00:00, 15.63it/s]\n",
            "\n",
            " 20%|██        | 2/10 [00:00<00:02,  3.01it/s]\u001b[A\n",
            "\n",
            "  0%|          | 0/5 [00:00<?, ?it/s]\u001b[A\u001b[A\n",
            "\n",
            " 40%|████      | 2/5 [00:00<00:00, 17.56it/s]\u001b[A\u001b[A\n",
            "\n",
            "100%|██████████| 5/5 [00:00<00:00, 16.88it/s]\n",
            "\n",
            " 30%|███       | 3/10 [00:00<00:02,  3.07it/s]\u001b[A\n",
            "\n",
            "  0%|          | 0/4 [00:00<?, ?it/s]\u001b[A\u001b[A\n",
            "\n",
            " 50%|█████     | 2/4 [00:00<00:00, 18.82it/s]\u001b[A\u001b[A\n",
            "\n",
            "100%|██████████| 4/4 [00:00<00:00, 17.10it/s]\n",
            "\n",
            " 40%|████      | 4/10 [00:01<00:01,  3.30it/s]\u001b[A\n",
            "\n",
            "  0%|          | 0/5 [00:00<?, ?it/s]\u001b[A\u001b[A\n",
            "\n",
            " 40%|████      | 2/5 [00:00<00:00, 16.14it/s]\u001b[A\u001b[A\n",
            "\n",
            "100%|██████████| 5/5 [00:00<00:00, 15.72it/s]\n",
            "\n",
            " 50%|█████     | 5/10 [00:01<00:01,  3.17it/s]\u001b[A\n",
            "\n",
            "  0%|          | 0/5 [00:00<?, ?it/s]\u001b[A\u001b[A\n",
            "\n",
            " 40%|████      | 2/5 [00:00<00:00, 15.43it/s]\u001b[A\u001b[A\n",
            "\n",
            "100%|██████████| 5/5 [00:00<00:00, 15.26it/s]\n",
            "\n",
            " 60%|██████    | 6/10 [00:01<00:01,  3.08it/s]\u001b[A\n",
            "\n",
            "  0%|          | 0/5 [00:00<?, ?it/s]\u001b[A\u001b[A\n",
            "\n",
            " 40%|████      | 2/5 [00:00<00:00, 17.42it/s]\u001b[A\u001b[A\n",
            "\n",
            "100%|██████████| 5/5 [00:00<00:00, 16.98it/s]\n",
            "\n",
            " 70%|███████   | 7/10 [00:02<00:00,  3.12it/s]\u001b[A\n",
            "\n",
            "  0%|          | 0/5 [00:00<?, ?it/s]\u001b[A\u001b[A\n",
            "\n",
            " 40%|████      | 2/5 [00:00<00:00, 16.73it/s]\u001b[A\u001b[A\n",
            "\n",
            "100%|██████████| 5/5 [00:00<00:00, 15.61it/s]\n",
            "\n",
            " 80%|████████  | 8/10 [00:02<00:00,  3.05it/s]\u001b[A\n",
            "\n",
            "  0%|          | 0/5 [00:00<?, ?it/s]\u001b[A\u001b[A\n",
            "\n",
            " 40%|████      | 2/5 [00:00<00:00, 13.49it/s]\u001b[A\u001b[A\n",
            "\n",
            "100%|██████████| 5/5 [00:00<00:00, 14.10it/s]\n",
            "\n",
            " 90%|█████████ | 9/10 [00:02<00:00,  2.92it/s]\u001b[A\n",
            "\n",
            "  0%|          | 0/5 [00:00<?, ?it/s]\u001b[A\u001b[A\n",
            "\n",
            " 40%|████      | 2/5 [00:00<00:00, 15.82it/s]\u001b[A\u001b[A\n",
            "\n",
            "100%|██████████| 5/5 [00:00<00:00, 15.29it/s]\n",
            "\n",
            "100%|██████████| 10/10 [00:03<00:00,  3.02it/s]\n",
            " 67%|██████▋   | 2/3 [00:07<00:03,  3.63s/it]\n",
            "  0%|          | 0/10 [00:00<?, ?it/s]\u001b[A\n",
            "\n",
            "  0%|          | 0/5 [00:00<?, ?it/s]\u001b[A\u001b[A\n",
            "\n",
            " 40%|████      | 2/5 [00:00<00:00, 14.75it/s]\u001b[A\u001b[A\n",
            "\n",
            "100%|██████████| 5/5 [00:00<00:00, 15.15it/s]\n",
            "\n",
            " 10%|█         | 1/10 [00:00<00:03,  2.97it/s]\u001b[A\n",
            "\n",
            "  0%|          | 0/5 [00:00<?, ?it/s]\u001b[A\u001b[A\n",
            "\n",
            " 40%|████      | 2/5 [00:00<00:00, 18.02it/s]\u001b[A\u001b[A\n",
            "\n",
            "100%|██████████| 5/5 [00:00<00:00, 17.20it/s]\n",
            "\n",
            " 20%|██        | 2/10 [00:00<00:02,  3.02it/s]\u001b[A\n",
            "\n",
            "  0%|          | 0/5 [00:00<?, ?it/s]\u001b[A\u001b[A\n",
            "\n",
            " 40%|████      | 2/5 [00:00<00:00, 17.46it/s]\u001b[A\u001b[A\n",
            "\n",
            "100%|██████████| 5/5 [00:00<00:00, 16.04it/s]\n",
            "\n",
            " 30%|███       | 3/10 [00:00<00:02,  3.04it/s]\u001b[A\n",
            "\n",
            "  0%|          | 0/5 [00:00<?, ?it/s]\u001b[A\u001b[A\n",
            "\n",
            " 40%|████      | 2/5 [00:00<00:00, 17.48it/s]\u001b[A\u001b[A\n",
            "\n",
            "100%|██████████| 5/5 [00:00<00:00, 16.40it/s]\n",
            "\n",
            " 40%|████      | 4/10 [00:01<00:01,  3.05it/s]\u001b[A\n",
            "\n",
            "  0%|          | 0/5 [00:00<?, ?it/s]\u001b[A\u001b[A\n",
            "\n",
            " 40%|████      | 2/5 [00:00<00:00, 17.29it/s]\u001b[A\u001b[A\n",
            "\n",
            "100%|██████████| 5/5 [00:00<00:00, 16.57it/s]\n",
            "\n",
            " 50%|█████     | 5/10 [00:01<00:01,  3.04it/s]\u001b[A\n",
            "\n",
            "  0%|          | 0/5 [00:00<?, ?it/s]\u001b[A\u001b[A\n",
            "\n",
            " 40%|████      | 2/5 [00:00<00:00, 18.04it/s]\u001b[A\u001b[A\n",
            "\n",
            "100%|██████████| 5/5 [00:00<00:00, 13.52it/s]\n",
            "\n",
            " 60%|██████    | 6/10 [00:02<00:01,  2.86it/s]\u001b[A\n",
            "\n",
            "  0%|          | 0/5 [00:00<?, ?it/s]\u001b[A\u001b[A\n",
            "\n",
            " 40%|████      | 2/5 [00:00<00:00, 18.04it/s]\u001b[A\u001b[A\n",
            "\n",
            "100%|██████████| 5/5 [00:00<00:00, 16.68it/s]\n",
            "\n",
            " 70%|███████   | 7/10 [00:02<00:01,  2.92it/s]\u001b[A\n",
            "\n",
            "  0%|          | 0/5 [00:00<?, ?it/s]\u001b[A\u001b[A\n",
            "\n",
            " 40%|████      | 2/5 [00:00<00:00, 16.04it/s]\u001b[A\u001b[A\n",
            "\n",
            "100%|██████████| 5/5 [00:00<00:00, 16.22it/s]\n",
            "\n",
            " 80%|████████  | 8/10 [00:02<00:00,  2.97it/s]\u001b[A\n",
            "\n",
            "  0%|          | 0/5 [00:00<?, ?it/s]\u001b[A\u001b[A\n",
            "\n",
            " 40%|████      | 2/5 [00:00<00:00, 18.13it/s]\u001b[A\u001b[A\n",
            "\n",
            "100%|██████████| 5/5 [00:00<00:00, 16.83it/s]\n",
            "\n",
            " 90%|█████████ | 9/10 [00:02<00:00,  3.04it/s]\u001b[A\n",
            "\n",
            "  0%|          | 0/5 [00:00<?, ?it/s]\u001b[A\u001b[A\n",
            "\n",
            " 40%|████      | 2/5 [00:00<00:00, 17.56it/s]\u001b[A\u001b[A\n",
            "\n",
            "100%|██████████| 5/5 [00:00<00:00, 16.76it/s]\n",
            "\n",
            "100%|██████████| 10/10 [00:03<00:00,  3.01it/s]\n",
            "100%|██████████| 3/3 [00:10<00:00,  3.48s/it]\n"
          ],
          "name": "stderr"
        }
      ]
    },
    {
      "cell_type": "code",
      "metadata": {
        "colab": {
          "base_uri": "https://localhost:8080/"
        },
        "id": "o8gOnmh6oFqn",
        "outputId": "20422b04-966b-4945-8db5-6457016eb7f9"
      },
      "source": [
        "seg=[]\n",
        "labels=[]\n",
        "for i in tqdm(range(len(data_list))):\n",
        "  seg.append(data_list[i].iloc[:,:-1])\n",
        "  labels.append(data_list[i].iloc[0,-1])"
      ],
      "execution_count": 45,
      "outputs": [
        {
          "output_type": "stream",
          "text": [
            "100%|██████████| 3573/3573 [00:02<00:00, 1638.28it/s]\n"
          ],
          "name": "stderr"
        }
      ]
    },
    {
      "cell_type": "code",
      "metadata": {
        "colab": {
          "base_uri": "https://localhost:8080/"
        },
        "id": "T1N9zEqf-pgI",
        "outputId": "efdc9507-68f5-4e78-af86-268ce8710d97"
      },
      "source": [
        "seg[0].shape"
      ],
      "execution_count": 23,
      "outputs": [
        {
          "output_type": "execute_result",
          "data": {
            "text/plain": [
              "(500, 39)"
            ]
          },
          "metadata": {
            "tags": []
          },
          "execution_count": 23
        }
      ]
    },
    {
      "cell_type": "code",
      "metadata": {
        "id": "6KwBENVrDKUO"
      },
      "source": [
        "seg=np.array(seg)"
      ],
      "execution_count": 49,
      "outputs": []
    },
    {
      "cell_type": "code",
      "metadata": {
        "id": "ezzu5aUFFCCM"
      },
      "source": [
        "labels=np.array(labels)"
      ],
      "execution_count": 46,
      "outputs": []
    },
    {
      "cell_type": "code",
      "metadata": {
        "id": "xj3AZxv4DQFf"
      },
      "source": [
        "import numpy as np\n",
        "import pandas as pd\n",
        "import tensorflow as tf\n",
        "from tensorflow import keras\n",
        "import matplotlib.pyplot as plt\n",
        "import os\n",
        "from tqdm import tqdm\n",
        "from sklearn.model_selection import train_test_split\n",
        "\n",
        "\n"
      ],
      "execution_count": 26,
      "outputs": []
    },
    {
      "cell_type": "code",
      "metadata": {
        "id": "sXYnZAX7DjT3"
      },
      "source": [
        "x_train, x_val, y_train, y_val = train_test_split(seg, labels, test_size=.20, random_state=12)"
      ],
      "execution_count": 61,
      "outputs": []
    },
    {
      "cell_type": "code",
      "metadata": {
        "id": "B_eGhEbmDn1b"
      },
      "source": [
        "x_train = x_train/x_train.max(axis = 0)\n",
        "x_val = x_val/x_val.max(axis = 0)"
      ],
      "execution_count": 62,
      "outputs": []
    },
    {
      "cell_type": "code",
      "metadata": {
        "colab": {
          "base_uri": "https://localhost:8080/"
        },
        "id": "G8LRcHRmE0hS",
        "outputId": "a6773f41-bf99-4922-c942-9d4e2da8c496"
      },
      "source": [
        "y_train.shape"
      ],
      "execution_count": 63,
      "outputs": [
        {
          "output_type": "execute_result",
          "data": {
            "text/plain": [
              "(2858,)"
            ]
          },
          "metadata": {
            "tags": []
          },
          "execution_count": 63
        }
      ]
    },
    {
      "cell_type": "code",
      "metadata": {
        "id": "0MGxTwGADrHH"
      },
      "source": [
        "from sklearn.preprocessing import OneHotEncoder\n",
        "onehot_encoder = OneHotEncoder(sparse=False)\n",
        "y_train = onehot_encoder.fit_transform(np.array(y_train).reshape(-1,1))\n",
        "y_val = onehot_encoder.fit_transform(np.array(y_val).reshape(-1,1))"
      ],
      "execution_count": 65,
      "outputs": []
    },
    {
      "cell_type": "code",
      "metadata": {
        "id": "uYwQQNvqDuk2"
      },
      "source": [
        "model = Sequential()\n",
        "model.add(Conv1D(filters=64, kernel_size=3, activation='relu', input_shape=(500,39)))\n",
        "model.add(Conv1D(filters=64, kernel_size=3, activation='relu'))\n",
        "model.add(Dropout(0.5))\n",
        "model.add(MaxPooling1D(pool_size=2))\n",
        "model.add(Flatten())\n",
        "model.add(Dense(100, activation='relu'))\n",
        "model.add(Dense(10, activation='softmax'))\n",
        "model.compile(loss='categorical_crossentropy', optimizer='adam', metrics=['accuracy'])"
      ],
      "execution_count": 66,
      "outputs": []
    },
    {
      "cell_type": "code",
      "metadata": {
        "colab": {
          "base_uri": "https://localhost:8080/"
        },
        "id": "CgnB9yB5P0Qx",
        "outputId": "eb2dc8c4-7cd2-4bb6-8c16-b18927b08d5f"
      },
      "source": [
        "\n",
        "\n",
        "model.fit(x_train,y_train,epochs = 50,verbose = 2,validation_data = (x_val,y_val))\n",
        "\n"
      ],
      "execution_count": 67,
      "outputs": [
        {
          "output_type": "stream",
          "text": [
            "Epoch 1/50\n",
            "90/90 - 14s - loss: 1.9188 - accuracy: 0.2575 - val_loss: 1.5307 - val_accuracy: 0.3944\n",
            "Epoch 2/50\n",
            "90/90 - 8s - loss: 1.5113 - accuracy: 0.3936 - val_loss: 1.4495 - val_accuracy: 0.3860\n",
            "Epoch 3/50\n",
            "90/90 - 8s - loss: 1.3682 - accuracy: 0.4461 - val_loss: 1.3821 - val_accuracy: 0.4573\n",
            "Epoch 4/50\n",
            "90/90 - 8s - loss: 1.3148 - accuracy: 0.4713 - val_loss: 1.3350 - val_accuracy: 0.4643\n",
            "Epoch 5/50\n",
            "90/90 - 8s - loss: 1.2644 - accuracy: 0.4923 - val_loss: 1.4537 - val_accuracy: 0.4238\n",
            "Epoch 6/50\n",
            "90/90 - 8s - loss: 1.1666 - accuracy: 0.5308 - val_loss: 1.3174 - val_accuracy: 0.4965\n",
            "Epoch 7/50\n",
            "90/90 - 8s - loss: 1.1387 - accuracy: 0.5420 - val_loss: 1.4262 - val_accuracy: 0.4503\n",
            "Epoch 8/50\n",
            "90/90 - 8s - loss: 1.0857 - accuracy: 0.5714 - val_loss: 1.3153 - val_accuracy: 0.4881\n",
            "Epoch 9/50\n",
            "90/90 - 8s - loss: 1.0480 - accuracy: 0.5752 - val_loss: 1.2486 - val_accuracy: 0.5217\n",
            "Epoch 10/50\n",
            "90/90 - 8s - loss: 0.9841 - accuracy: 0.6018 - val_loss: 1.2104 - val_accuracy: 0.5217\n",
            "Epoch 11/50\n",
            "90/90 - 8s - loss: 0.9674 - accuracy: 0.6249 - val_loss: 1.2180 - val_accuracy: 0.5161\n",
            "Epoch 12/50\n",
            "90/90 - 8s - loss: 0.9079 - accuracy: 0.6382 - val_loss: 1.3123 - val_accuracy: 0.4881\n",
            "Epoch 13/50\n",
            "90/90 - 8s - loss: 0.8581 - accuracy: 0.6679 - val_loss: 1.2866 - val_accuracy: 0.5091\n",
            "Epoch 14/50\n",
            "90/90 - 8s - loss: 0.8175 - accuracy: 0.6739 - val_loss: 1.3270 - val_accuracy: 0.4951\n",
            "Epoch 15/50\n",
            "90/90 - 8s - loss: 0.7841 - accuracy: 0.6991 - val_loss: 1.3130 - val_accuracy: 0.5021\n",
            "Epoch 16/50\n",
            "90/90 - 8s - loss: 0.7334 - accuracy: 0.7197 - val_loss: 1.2039 - val_accuracy: 0.5371\n",
            "Epoch 17/50\n",
            "90/90 - 8s - loss: 0.7349 - accuracy: 0.7131 - val_loss: 1.3579 - val_accuracy: 0.5063\n",
            "Epoch 18/50\n",
            "90/90 - 8s - loss: 0.7019 - accuracy: 0.7274 - val_loss: 1.3781 - val_accuracy: 0.5119\n",
            "Epoch 19/50\n",
            "90/90 - 8s - loss: 0.6491 - accuracy: 0.7537 - val_loss: 1.4590 - val_accuracy: 0.5063\n",
            "Epoch 20/50\n",
            "90/90 - 8s - loss: 0.6725 - accuracy: 0.7411 - val_loss: 1.3628 - val_accuracy: 0.4937\n",
            "Epoch 21/50\n",
            "90/90 - 8s - loss: 0.6575 - accuracy: 0.7512 - val_loss: 1.3355 - val_accuracy: 0.5175\n",
            "Epoch 22/50\n",
            "90/90 - 8s - loss: 0.5575 - accuracy: 0.7866 - val_loss: 1.3269 - val_accuracy: 0.5497\n",
            "Epoch 23/50\n",
            "90/90 - 8s - loss: 0.5125 - accuracy: 0.8034 - val_loss: 1.3987 - val_accuracy: 0.5357\n",
            "Epoch 24/50\n",
            "90/90 - 8s - loss: 0.5020 - accuracy: 0.8058 - val_loss: 1.4495 - val_accuracy: 0.5217\n",
            "Epoch 25/50\n",
            "90/90 - 8s - loss: 0.4774 - accuracy: 0.8135 - val_loss: 1.4509 - val_accuracy: 0.5301\n",
            "Epoch 26/50\n",
            "90/90 - 8s - loss: 0.4862 - accuracy: 0.8191 - val_loss: 1.4182 - val_accuracy: 0.5329\n",
            "Epoch 27/50\n",
            "90/90 - 8s - loss: 0.4155 - accuracy: 0.8355 - val_loss: 1.4859 - val_accuracy: 0.5315\n",
            "Epoch 28/50\n",
            "90/90 - 8s - loss: 0.4006 - accuracy: 0.8474 - val_loss: 1.6589 - val_accuracy: 0.5035\n",
            "Epoch 29/50\n",
            "90/90 - 8s - loss: 0.4145 - accuracy: 0.8411 - val_loss: 1.4448 - val_accuracy: 0.5273\n",
            "Epoch 30/50\n",
            "90/90 - 8s - loss: 0.4076 - accuracy: 0.8436 - val_loss: 1.5629 - val_accuracy: 0.5301\n",
            "Epoch 31/50\n",
            "90/90 - 8s - loss: 0.4137 - accuracy: 0.8380 - val_loss: 1.6386 - val_accuracy: 0.5259\n",
            "Epoch 32/50\n",
            "90/90 - 8s - loss: 0.3822 - accuracy: 0.8635 - val_loss: 1.5809 - val_accuracy: 0.5189\n",
            "Epoch 33/50\n",
            "90/90 - 8s - loss: 0.3715 - accuracy: 0.8642 - val_loss: 1.5876 - val_accuracy: 0.5413\n",
            "Epoch 34/50\n",
            "90/90 - 8s - loss: 0.3369 - accuracy: 0.8733 - val_loss: 1.6857 - val_accuracy: 0.5399\n",
            "Epoch 35/50\n",
            "90/90 - 8s - loss: 0.3096 - accuracy: 0.8870 - val_loss: 1.8335 - val_accuracy: 0.5273\n",
            "Epoch 36/50\n",
            "90/90 - 8s - loss: 0.2755 - accuracy: 0.8929 - val_loss: 2.0603 - val_accuracy: 0.4965\n",
            "Epoch 37/50\n",
            "90/90 - 8s - loss: 0.3253 - accuracy: 0.8796 - val_loss: 1.8157 - val_accuracy: 0.5287\n",
            "Epoch 38/50\n",
            "90/90 - 8s - loss: 0.2847 - accuracy: 0.8908 - val_loss: 1.7781 - val_accuracy: 0.5413\n",
            "Epoch 39/50\n",
            "90/90 - 8s - loss: 0.2454 - accuracy: 0.9062 - val_loss: 2.0406 - val_accuracy: 0.5217\n",
            "Epoch 40/50\n",
            "90/90 - 8s - loss: 0.2395 - accuracy: 0.9167 - val_loss: 1.9589 - val_accuracy: 0.5161\n",
            "Epoch 41/50\n",
            "90/90 - 8s - loss: 0.2700 - accuracy: 0.8996 - val_loss: 2.0745 - val_accuracy: 0.4979\n",
            "Epoch 42/50\n",
            "90/90 - 8s - loss: 0.3413 - accuracy: 0.8754 - val_loss: 1.9383 - val_accuracy: 0.5133\n",
            "Epoch 43/50\n",
            "90/90 - 8s - loss: 0.3099 - accuracy: 0.9013 - val_loss: 1.8207 - val_accuracy: 0.5427\n",
            "Epoch 44/50\n",
            "90/90 - 8s - loss: 0.2020 - accuracy: 0.9304 - val_loss: 1.9649 - val_accuracy: 0.5357\n",
            "Epoch 45/50\n",
            "90/90 - 8s - loss: 0.2092 - accuracy: 0.9230 - val_loss: 2.0569 - val_accuracy: 0.5413\n",
            "Epoch 46/50\n",
            "90/90 - 8s - loss: 0.1830 - accuracy: 0.9325 - val_loss: 2.1179 - val_accuracy: 0.5385\n",
            "Epoch 47/50\n",
            "90/90 - 8s - loss: 0.2036 - accuracy: 0.9255 - val_loss: 2.4018 - val_accuracy: 0.5147\n",
            "Epoch 48/50\n",
            "90/90 - 8s - loss: 0.2453 - accuracy: 0.9136 - val_loss: 2.3797 - val_accuracy: 0.5035\n",
            "Epoch 49/50\n",
            "90/90 - 8s - loss: 0.2924 - accuracy: 0.9003 - val_loss: 2.0888 - val_accuracy: 0.5343\n",
            "Epoch 50/50\n",
            "90/90 - 8s - loss: 0.2217 - accuracy: 0.9185 - val_loss: 2.1634 - val_accuracy: 0.5329\n"
          ],
          "name": "stdout"
        },
        {
          "output_type": "execute_result",
          "data": {
            "text/plain": [
              "<keras.callbacks.History at 0x7fc7165e70d0>"
            ]
          },
          "metadata": {
            "tags": []
          },
          "execution_count": 67
        }
      ]
    }
  ]
}